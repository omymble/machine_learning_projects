{
 "cells": [
  {
   "cell_type": "markdown",
   "metadata": {},
   "source": "# Vehicle Valuation"
  },
  {
   "cell_type": "markdown",
   "metadata": {},
   "source": [
    "A used car dealership service is developing an application to attract new customers. In this application, users can quickly find out the market value of their car. We have historical data at our disposal: technical specifications, trim levels, and car prices. The service need an ML model to determine the value.\n",
    "\n",
    "The client prioritizes:\n",
    "\n",
    "- Prediction quality\n",
    "- Prediction speed\n",
    "- Training time"
   ]
  },
  {
   "cell_type": "code",
   "metadata": {},
   "source": [
    "! pip install phik -q\n",
    "! pip install lightgbm -q\n",
    "! pip install scipy -q"
   ],
   "outputs": [],
   "execution_count": null
  },
  {
   "cell_type": "code",
   "metadata": {},
   "source": [
    "import pandas as pd\n",
    "import numpy as np\n",
    "\n",
    "from sklearn.preprocessing import (\n",
    "    FunctionTransformer,\n",
    "    StandardScaler,\n",
    "    OneHotEncoder,\n",
    ")\n",
    "from sklearn.compose import ColumnTransformer\n",
    "from sklearn.pipeline import Pipeline\n",
    "from sklearn.impute import SimpleImputer\n",
    "\n",
    "from sklearn.model_selection import train_test_split\n",
    "\n",
    "from sklearn.linear_model import LinearRegression\n",
    "from lightgbm import LGBMRegressor\n",
    "\n",
    "from sklearn.metrics import mean_squared_error, make_scorer\n",
    "# import lightgbm as lgb\n",
    "from sklearn.model_selection import GridSearchCV\n",
    "\n",
    "from sklearn.dummy import DummyRegressor\n",
    "\n",
    "import seaborn as sns\n",
    "import matplotlib.pyplot as plt\n",
    "import phik\n",
    "\n",
    "import time\n",
    "\n",
    "# from sklearn.exceptions import FitFailedWarning\n",
    "from warnings import simplefilter\n",
    "\n",
    "simplefilter(action='ignore', category=FutureWarning)"
   ],
   "outputs": [],
   "execution_count": null
  },
  {
   "cell_type": "code",
   "metadata": {
    "ExecuteTime": {
     "end_time": "2025-06-19T13:12:03.387698Z",
     "start_time": "2025-06-19T13:12:03.385805Z"
    }
   },
   "source": [
    "RANDOM_STATE = 42\n",
    "TEST_SIZE = 0.25"
   ],
   "outputs": [],
   "execution_count": 3
  },
  {
   "cell_type": "markdown",
   "metadata": {},
   "source": "## Data preparation"
  },
  {
   "cell_type": "code",
   "metadata": {
    "ExecuteTime": {
     "end_time": "2025-06-19T13:12:03.907646Z",
     "start_time": "2025-06-19T13:12:03.390846Z"
    }
   },
   "source": "autos_df = pd.read_csv('../datasets/autos.csv', parse_dates=['DateCrawled', 'DateCreated', 'LastSeen'])",
   "outputs": [],
   "execution_count": 4
  },
  {
   "cell_type": "code",
   "metadata": {
    "ExecuteTime": {
     "end_time": "2025-06-19T13:12:03.913649Z",
     "start_time": "2025-06-19T13:12:03.911501Z"
    }
   },
   "source": [
    "def df_description(df):\n",
    "    print('shape: ', df.shape)\n",
    "    display(df.head())\n",
    "    df.info()\n",
    "    display(pd.DataFrame(round(df.isna().mean()*100,2)).style.background_gradient('coolwarm'))"
   ],
   "outputs": [],
   "execution_count": 5
  },
  {
   "cell_type": "code",
   "metadata": {
    "ExecuteTime": {
     "end_time": "2025-06-19T13:12:04.053152Z",
     "start_time": "2025-06-19T13:12:03.918616Z"
    }
   },
   "source": [
    "df_description(autos_df)"
   ],
   "outputs": [
    {
     "name": "stdout",
     "output_type": "stream",
     "text": [
      "shape:  (354369, 16)\n"
     ]
    },
    {
     "data": {
      "text/plain": [
       "          DateCrawled  Price VehicleType  RegistrationYear Gearbox  Power  \\\n",
       "0 2016-03-24 11:52:17    480         NaN              1993  manual      0   \n",
       "1 2016-03-24 10:58:45  18300       coupe              2011  manual    190   \n",
       "2 2016-03-14 12:52:21   9800         suv              2004    auto    163   \n",
       "3 2016-03-17 16:54:04   1500       small              2001  manual     75   \n",
       "4 2016-03-31 17:25:20   3600       small              2008  manual     69   \n",
       "\n",
       "   Model  Kilometer  RegistrationMonth  FuelType       Brand Repaired  \\\n",
       "0   golf     150000                  0    petrol  volkswagen      NaN   \n",
       "1    NaN     125000                  5  gasoline        audi      yes   \n",
       "2  grand     125000                  8  gasoline        jeep      NaN   \n",
       "3   golf     150000                  6    petrol  volkswagen       no   \n",
       "4  fabia      90000                  7  gasoline       skoda       no   \n",
       "\n",
       "  DateCreated  NumberOfPictures  PostalCode            LastSeen  \n",
       "0  2016-03-24                 0       70435 2016-04-07 03:16:57  \n",
       "1  2016-03-24                 0       66954 2016-04-07 01:46:50  \n",
       "2  2016-03-14                 0       90480 2016-04-05 12:47:46  \n",
       "3  2016-03-17                 0       91074 2016-03-17 17:40:17  \n",
       "4  2016-03-31                 0       60437 2016-04-06 10:17:21  "
      ],
      "text/html": [
       "<div>\n",
       "<style scoped>\n",
       "    .dataframe tbody tr th:only-of-type {\n",
       "        vertical-align: middle;\n",
       "    }\n",
       "\n",
       "    .dataframe tbody tr th {\n",
       "        vertical-align: top;\n",
       "    }\n",
       "\n",
       "    .dataframe thead th {\n",
       "        text-align: right;\n",
       "    }\n",
       "</style>\n",
       "<table border=\"1\" class=\"dataframe\">\n",
       "  <thead>\n",
       "    <tr style=\"text-align: right;\">\n",
       "      <th></th>\n",
       "      <th>DateCrawled</th>\n",
       "      <th>Price</th>\n",
       "      <th>VehicleType</th>\n",
       "      <th>RegistrationYear</th>\n",
       "      <th>Gearbox</th>\n",
       "      <th>Power</th>\n",
       "      <th>Model</th>\n",
       "      <th>Kilometer</th>\n",
       "      <th>RegistrationMonth</th>\n",
       "      <th>FuelType</th>\n",
       "      <th>Brand</th>\n",
       "      <th>Repaired</th>\n",
       "      <th>DateCreated</th>\n",
       "      <th>NumberOfPictures</th>\n",
       "      <th>PostalCode</th>\n",
       "      <th>LastSeen</th>\n",
       "    </tr>\n",
       "  </thead>\n",
       "  <tbody>\n",
       "    <tr>\n",
       "      <th>0</th>\n",
       "      <td>2016-03-24 11:52:17</td>\n",
       "      <td>480</td>\n",
       "      <td>NaN</td>\n",
       "      <td>1993</td>\n",
       "      <td>manual</td>\n",
       "      <td>0</td>\n",
       "      <td>golf</td>\n",
       "      <td>150000</td>\n",
       "      <td>0</td>\n",
       "      <td>petrol</td>\n",
       "      <td>volkswagen</td>\n",
       "      <td>NaN</td>\n",
       "      <td>2016-03-24</td>\n",
       "      <td>0</td>\n",
       "      <td>70435</td>\n",
       "      <td>2016-04-07 03:16:57</td>\n",
       "    </tr>\n",
       "    <tr>\n",
       "      <th>1</th>\n",
       "      <td>2016-03-24 10:58:45</td>\n",
       "      <td>18300</td>\n",
       "      <td>coupe</td>\n",
       "      <td>2011</td>\n",
       "      <td>manual</td>\n",
       "      <td>190</td>\n",
       "      <td>NaN</td>\n",
       "      <td>125000</td>\n",
       "      <td>5</td>\n",
       "      <td>gasoline</td>\n",
       "      <td>audi</td>\n",
       "      <td>yes</td>\n",
       "      <td>2016-03-24</td>\n",
       "      <td>0</td>\n",
       "      <td>66954</td>\n",
       "      <td>2016-04-07 01:46:50</td>\n",
       "    </tr>\n",
       "    <tr>\n",
       "      <th>2</th>\n",
       "      <td>2016-03-14 12:52:21</td>\n",
       "      <td>9800</td>\n",
       "      <td>suv</td>\n",
       "      <td>2004</td>\n",
       "      <td>auto</td>\n",
       "      <td>163</td>\n",
       "      <td>grand</td>\n",
       "      <td>125000</td>\n",
       "      <td>8</td>\n",
       "      <td>gasoline</td>\n",
       "      <td>jeep</td>\n",
       "      <td>NaN</td>\n",
       "      <td>2016-03-14</td>\n",
       "      <td>0</td>\n",
       "      <td>90480</td>\n",
       "      <td>2016-04-05 12:47:46</td>\n",
       "    </tr>\n",
       "    <tr>\n",
       "      <th>3</th>\n",
       "      <td>2016-03-17 16:54:04</td>\n",
       "      <td>1500</td>\n",
       "      <td>small</td>\n",
       "      <td>2001</td>\n",
       "      <td>manual</td>\n",
       "      <td>75</td>\n",
       "      <td>golf</td>\n",
       "      <td>150000</td>\n",
       "      <td>6</td>\n",
       "      <td>petrol</td>\n",
       "      <td>volkswagen</td>\n",
       "      <td>no</td>\n",
       "      <td>2016-03-17</td>\n",
       "      <td>0</td>\n",
       "      <td>91074</td>\n",
       "      <td>2016-03-17 17:40:17</td>\n",
       "    </tr>\n",
       "    <tr>\n",
       "      <th>4</th>\n",
       "      <td>2016-03-31 17:25:20</td>\n",
       "      <td>3600</td>\n",
       "      <td>small</td>\n",
       "      <td>2008</td>\n",
       "      <td>manual</td>\n",
       "      <td>69</td>\n",
       "      <td>fabia</td>\n",
       "      <td>90000</td>\n",
       "      <td>7</td>\n",
       "      <td>gasoline</td>\n",
       "      <td>skoda</td>\n",
       "      <td>no</td>\n",
       "      <td>2016-03-31</td>\n",
       "      <td>0</td>\n",
       "      <td>60437</td>\n",
       "      <td>2016-04-06 10:17:21</td>\n",
       "    </tr>\n",
       "  </tbody>\n",
       "</table>\n",
       "</div>"
      ]
     },
     "metadata": {},
     "output_type": "display_data"
    },
    {
     "name": "stdout",
     "output_type": "stream",
     "text": [
      "<class 'pandas.core.frame.DataFrame'>\n",
      "RangeIndex: 354369 entries, 0 to 354368\n",
      "Data columns (total 16 columns):\n",
      " #   Column             Non-Null Count   Dtype         \n",
      "---  ------             --------------   -----         \n",
      " 0   DateCrawled        354369 non-null  datetime64[ns]\n",
      " 1   Price              354369 non-null  int64         \n",
      " 2   VehicleType        316879 non-null  object        \n",
      " 3   RegistrationYear   354369 non-null  int64         \n",
      " 4   Gearbox            334536 non-null  object        \n",
      " 5   Power              354369 non-null  int64         \n",
      " 6   Model              334664 non-null  object        \n",
      " 7   Kilometer          354369 non-null  int64         \n",
      " 8   RegistrationMonth  354369 non-null  int64         \n",
      " 9   FuelType           321474 non-null  object        \n",
      " 10  Brand              354369 non-null  object        \n",
      " 11  Repaired           283215 non-null  object        \n",
      " 12  DateCreated        354369 non-null  datetime64[ns]\n",
      " 13  NumberOfPictures   354369 non-null  int64         \n",
      " 14  PostalCode         354369 non-null  int64         \n",
      " 15  LastSeen           354369 non-null  datetime64[ns]\n",
      "dtypes: datetime64[ns](3), int64(7), object(6)\n",
      "memory usage: 43.3+ MB\n"
     ]
    },
    {
     "data": {
      "text/plain": [
       "<pandas.io.formats.style.Styler at 0x17ff18590>"
      ],
      "text/html": [
       "<style type=\"text/css\">\n",
       "#T_f5252_row0_col0, #T_f5252_row1_col0, #T_f5252_row3_col0, #T_f5252_row5_col0, #T_f5252_row7_col0, #T_f5252_row8_col0, #T_f5252_row10_col0, #T_f5252_row12_col0, #T_f5252_row13_col0, #T_f5252_row14_col0, #T_f5252_row15_col0 {\n",
       "  background-color: #3b4cc0;\n",
       "  color: #f1f1f1;\n",
       "}\n",
       "#T_f5252_row2_col0 {\n",
       "  background-color: #e3d9d3;\n",
       "  color: #000000;\n",
       "}\n",
       "#T_f5252_row4_col0 {\n",
       "  background-color: #97b8ff;\n",
       "  color: #000000;\n",
       "}\n",
       "#T_f5252_row6_col0 {\n",
       "  background-color: #96b7ff;\n",
       "  color: #000000;\n",
       "}\n",
       "#T_f5252_row9_col0 {\n",
       "  background-color: #d3dbe7;\n",
       "  color: #000000;\n",
       "}\n",
       "#T_f5252_row11_col0 {\n",
       "  background-color: #b40426;\n",
       "  color: #f1f1f1;\n",
       "}\n",
       "</style>\n",
       "<table id=\"T_f5252\">\n",
       "  <thead>\n",
       "    <tr>\n",
       "      <th class=\"blank level0\" >&nbsp;</th>\n",
       "      <th id=\"T_f5252_level0_col0\" class=\"col_heading level0 col0\" >0</th>\n",
       "    </tr>\n",
       "  </thead>\n",
       "  <tbody>\n",
       "    <tr>\n",
       "      <th id=\"T_f5252_level0_row0\" class=\"row_heading level0 row0\" >DateCrawled</th>\n",
       "      <td id=\"T_f5252_row0_col0\" class=\"data row0 col0\" >0.000000</td>\n",
       "    </tr>\n",
       "    <tr>\n",
       "      <th id=\"T_f5252_level0_row1\" class=\"row_heading level0 row1\" >Price</th>\n",
       "      <td id=\"T_f5252_row1_col0\" class=\"data row1 col0\" >0.000000</td>\n",
       "    </tr>\n",
       "    <tr>\n",
       "      <th id=\"T_f5252_level0_row2\" class=\"row_heading level0 row2\" >VehicleType</th>\n",
       "      <td id=\"T_f5252_row2_col0\" class=\"data row2 col0\" >10.580000</td>\n",
       "    </tr>\n",
       "    <tr>\n",
       "      <th id=\"T_f5252_level0_row3\" class=\"row_heading level0 row3\" >RegistrationYear</th>\n",
       "      <td id=\"T_f5252_row3_col0\" class=\"data row3 col0\" >0.000000</td>\n",
       "    </tr>\n",
       "    <tr>\n",
       "      <th id=\"T_f5252_level0_row4\" class=\"row_heading level0 row4\" >Gearbox</th>\n",
       "      <td id=\"T_f5252_row4_col0\" class=\"data row4 col0\" >5.600000</td>\n",
       "    </tr>\n",
       "    <tr>\n",
       "      <th id=\"T_f5252_level0_row5\" class=\"row_heading level0 row5\" >Power</th>\n",
       "      <td id=\"T_f5252_row5_col0\" class=\"data row5 col0\" >0.000000</td>\n",
       "    </tr>\n",
       "    <tr>\n",
       "      <th id=\"T_f5252_level0_row6\" class=\"row_heading level0 row6\" >Model</th>\n",
       "      <td id=\"T_f5252_row6_col0\" class=\"data row6 col0\" >5.560000</td>\n",
       "    </tr>\n",
       "    <tr>\n",
       "      <th id=\"T_f5252_level0_row7\" class=\"row_heading level0 row7\" >Kilometer</th>\n",
       "      <td id=\"T_f5252_row7_col0\" class=\"data row7 col0\" >0.000000</td>\n",
       "    </tr>\n",
       "    <tr>\n",
       "      <th id=\"T_f5252_level0_row8\" class=\"row_heading level0 row8\" >RegistrationMonth</th>\n",
       "      <td id=\"T_f5252_row8_col0\" class=\"data row8 col0\" >0.000000</td>\n",
       "    </tr>\n",
       "    <tr>\n",
       "      <th id=\"T_f5252_level0_row9\" class=\"row_heading level0 row9\" >FuelType</th>\n",
       "      <td id=\"T_f5252_row9_col0\" class=\"data row9 col0\" >9.280000</td>\n",
       "    </tr>\n",
       "    <tr>\n",
       "      <th id=\"T_f5252_level0_row10\" class=\"row_heading level0 row10\" >Brand</th>\n",
       "      <td id=\"T_f5252_row10_col0\" class=\"data row10 col0\" >0.000000</td>\n",
       "    </tr>\n",
       "    <tr>\n",
       "      <th id=\"T_f5252_level0_row11\" class=\"row_heading level0 row11\" >Repaired</th>\n",
       "      <td id=\"T_f5252_row11_col0\" class=\"data row11 col0\" >20.080000</td>\n",
       "    </tr>\n",
       "    <tr>\n",
       "      <th id=\"T_f5252_level0_row12\" class=\"row_heading level0 row12\" >DateCreated</th>\n",
       "      <td id=\"T_f5252_row12_col0\" class=\"data row12 col0\" >0.000000</td>\n",
       "    </tr>\n",
       "    <tr>\n",
       "      <th id=\"T_f5252_level0_row13\" class=\"row_heading level0 row13\" >NumberOfPictures</th>\n",
       "      <td id=\"T_f5252_row13_col0\" class=\"data row13 col0\" >0.000000</td>\n",
       "    </tr>\n",
       "    <tr>\n",
       "      <th id=\"T_f5252_level0_row14\" class=\"row_heading level0 row14\" >PostalCode</th>\n",
       "      <td id=\"T_f5252_row14_col0\" class=\"data row14 col0\" >0.000000</td>\n",
       "    </tr>\n",
       "    <tr>\n",
       "      <th id=\"T_f5252_level0_row15\" class=\"row_heading level0 row15\" >LastSeen</th>\n",
       "      <td id=\"T_f5252_row15_col0\" class=\"data row15 col0\" >0.000000</td>\n",
       "    </tr>\n",
       "  </tbody>\n",
       "</table>\n"
      ]
     },
     "metadata": {},
     "output_type": "display_data"
    }
   ],
   "execution_count": 6
  },
  {
   "cell_type": "markdown",
   "metadata": {},
   "source": [
    "There are a lot of missing values in the data. These will be filled with the \"Unknown\" category later on.\n",
    "\n",
    "In total, there are 354,369 car records. During data preparation and cleaning, you'll need to ensure that at least 90% (318,933 records) remain."
   ]
  },
  {
   "cell_type": "code",
   "metadata": {
    "ExecuteTime": {
     "end_time": "2025-06-19T13:12:04.065188Z",
     "start_time": "2025-06-19T13:12:04.061766Z"
    }
   },
   "source": [
    "def cat_plots(df, columns):\n",
    "    for col in columns:\n",
    "        counts = df[col].value_counts()\n",
    "        labels = counts.index.tolist()\n",
    "        sizes = counts.values.tolist()\n",
    "\n",
    "        plt.figure(figsize=(3, 3))\n",
    "        plt.pie(sizes, labels=labels, autopct='%1.1f%%', startangle=140)\n",
    "        plt.axis('equal')\n",
    "\n",
    "        plt.title(f'Number of cars by \"{col}\"')\n",
    "        plt.show()\n",
    "                \n",
    "                \n",
    "def num_plots(df, columns):\n",
    "    for col in columns:\n",
    "        display(df[col].describe())\n",
    "        plt.figure(figsize=(12, 6))\n",
    "        plt.subplot(1, 2, 1)\n",
    "        sns.boxplot(y=df[col], showfliers=False)\n",
    "        plt.title(f'Distribution of \"{col}\"')\n",
    "\n",
    "        plt.subplot(1, 2, 2)\n",
    "        sns.histplot(df[col], kde=True)\n",
    "        plt.title(f'Distribution of \"{col}\"')\n",
    "\n",
    "        plt.tight_layout()\n",
    "        plt.show()\n",
    "        \n",
    "\n",
    "def discrete_plots(df, columns):\n",
    "    for col in columns:\n",
    "        plt.figure(figsize=(12, 6))\n",
    "        plt.subplot(1, 2, 2)\n",
    "        sns.countplot(x=col, data=df)\n",
    "        plt.title(f'Distribution of \"{col}\"')\n",
    "        plt.show()"
   ],
   "outputs": [],
   "execution_count": 7
  },
  {
   "cell_type": "code",
   "metadata": {
    "ExecuteTime": {
     "end_time": "2025-06-19T13:12:04.075833Z",
     "start_time": "2025-06-19T13:12:04.073782Z"
    }
   },
   "source": [
    "num_columns = ['Price', 'RegistrationYear', 'Power', 'Kilometer']\n",
    "cat_columns = ['VehicleType', 'Gearbox', 'Model', 'FuelType', 'Brand', 'Repaired']\n",
    "discrete_columns = ['RegistrationMonth', 'NumberOfPictures']"
   ],
   "outputs": [],
   "execution_count": 8
  },
  {
   "cell_type": "code",
   "metadata": {
    "ExecuteTime": {
     "end_time": "2025-06-19T13:12:21.203033Z",
     "start_time": "2025-06-19T13:12:04.081361Z"
    }
   },
   "source": [
    "num_plots(autos_df, num_columns)"
   ],
   "outputs": [
    {
     "data": {
      "text/plain": [
       "count    354369.000000\n",
       "mean       4416.656776\n",
       "std        4514.158514\n",
       "min           0.000000\n",
       "25%        1050.000000\n",
       "50%        2700.000000\n",
       "75%        6400.000000\n",
       "max       20000.000000\n",
       "Name: Price, dtype: float64"
      ]
     },
     "metadata": {},
     "output_type": "display_data"
    },
    {
     "data": {
      "text/plain": [
       "<Figure size 1200x600 with 2 Axes>"
      ],
      "image/png": "[encoded data removed]"
     },
     "metadata": {},
     "output_type": "display_data"
    },
    {
     "data": {
      "text/plain": [
       "count    354369.000000\n",
       "mean       2004.234448\n",
       "std          90.227958\n",
       "min        1000.000000\n",
       "25%        1999.000000\n",
       "50%        2003.000000\n",
       "75%        2008.000000\n",
       "max        9999.000000\n",
       "Name: RegistrationYear, dtype: float64"
      ]
     },
     "metadata": {},
     "output_type": "display_data"
    },
    {
     "data": {
      "text/plain": [
       "<Figure size 1200x600 with 2 Axes>"
      ],
      "image/png": "[encoded data removed]"
     },
     "metadata": {},
     "output_type": "display_data"
    },
    {
     "data": {
      "text/plain": [
       "count    354369.000000\n",
       "mean        110.094337\n",
       "std         189.850405\n",
       "min           0.000000\n",
       "25%          69.000000\n",
       "50%         105.000000\n",
       "75%         143.000000\n",
       "max       20000.000000\n",
       "Name: Power, dtype: float64"
      ]
     },
     "metadata": {},
     "output_type": "display_data"
    },
    {
     "data": {
      "text/plain": [
       "<Figure size 1200x600 with 2 Axes>"
      ],
      "image/png": "[encoded data removed]"
     },
     "metadata": {},
     "output_type": "display_data"
    },
    {
     "data": {
      "text/plain": [
       "count    354369.000000\n",
       "mean     128211.172535\n",
       "std       37905.341530\n",
       "min        5000.000000\n",
       "25%      125000.000000\n",
       "50%      150000.000000\n",
       "75%      150000.000000\n",
       "max      150000.000000\n",
       "Name: Kilometer, dtype: float64"
      ]
     },
     "metadata": {},
     "output_type": "display_data"
    },
    {
     "data": {
      "text/plain": [
       "<Figure size 1200x600 with 2 Axes>"
      ],
      "image/png": "[encoded data removed]"
     },
     "metadata": {},
     "output_type": "display_data"
    }
   ],
   "execution_count": 9
  },
  {
   "cell_type": "markdown",
   "metadata": {},
   "source": [
    "The price ranges from 0 to 20,000, and this is our target variable. We'll also remove values where the price is below 500. Even though this will result in a significant loss of data, getting rid of these anomalies will help the model make more accurate predictions.\n",
    "We'll also remove any values where the price is below 500. While removing these values means losing a significant portion of our data, getting rid of such anomalies will help the model make more accurate predictions.\n",
    "\n",
    "There are clear anomalies in the year and power values. After we create all the plots, we'll decide which values to remove."
   ]
  },
  {
   "cell_type": "code",
   "metadata": {
    "ExecuteTime": {
     "end_time": "2025-06-19T13:12:21.222174Z",
     "start_time": "2025-06-19T13:12:21.210385Z"
    }
   },
   "source": [
    "autos_df.query('Price == 0')"
   ],
   "outputs": [
    {
     "data": {
      "text/plain": [
       "               DateCrawled  Price VehicleType  RegistrationYear Gearbox  \\\n",
       "7      2016-03-21 18:54:38      0       sedan              1980  manual   \n",
       "40     2016-03-26 22:06:17      0         NaN              1990     NaN   \n",
       "111    2016-03-19 18:40:12      0         NaN              2017  manual   \n",
       "115    2016-03-20 18:53:27      0       small              1999     NaN   \n",
       "152    2016-03-11 18:55:53      0         bus              2004  manual   \n",
       "...                    ...    ...         ...               ...     ...   \n",
       "354205 2016-03-09 15:56:30      0         NaN              2000  manual   \n",
       "354238 2016-03-20 14:55:07      0       small              2002  manual   \n",
       "354248 2016-03-24 13:48:05      0       small              1999  manual   \n",
       "354277 2016-03-10 22:55:50      0       small              1999  manual   \n",
       "354364 2016-03-21 09:50:58      0         NaN              2005  manual   \n",
       "\n",
       "        Power   Model  Kilometer  RegistrationMonth FuelType       Brand  \\\n",
       "7          50   other      40000                  7   petrol  volkswagen   \n",
       "40          0   corsa     150000                  1   petrol        opel   \n",
       "111         0    golf       5000                 12   petrol  volkswagen   \n",
       "115         0     NaN       5000                  0   petrol  volkswagen   \n",
       "152       101  meriva     150000                 10      lpg        opel   \n",
       "...       ...     ...        ...                ...      ...         ...   \n",
       "354205     65   corsa     150000                  0      NaN        opel   \n",
       "354238     60  fiesta     150000                  3   petrol        ford   \n",
       "354248     53   swift     150000                  3   petrol      suzuki   \n",
       "354277     37   arosa     150000                  7   petrol        seat   \n",
       "354364      0    colt     150000                  7   petrol  mitsubishi   \n",
       "\n",
       "       Repaired DateCreated  NumberOfPictures  PostalCode            LastSeen  \n",
       "7            no  2016-03-21                 0       19348 2016-03-25 16:47:58  \n",
       "40          NaN  2016-03-26                 0       56412 2016-03-27 17:43:34  \n",
       "111         NaN  2016-03-19                 0       21698 2016-04-01 08:47:05  \n",
       "115         NaN  2016-03-20                 0       37520 2016-04-07 02:45:22  \n",
       "152         yes  2016-03-11                 0       27432 2016-03-12 23:47:10  \n",
       "...         ...         ...               ...         ...                 ...  \n",
       "354205      yes  2016-03-09                 0       23758 2016-03-30 11:16:08  \n",
       "354238      NaN  2016-03-20                 0       33659 2016-04-06 18:45:23  \n",
       "354248      NaN  2016-03-24                 0       42329 2016-04-07 05:17:24  \n",
       "354277      yes  2016-03-10                 0       22559 2016-03-12 23:46:32  \n",
       "354364      yes  2016-03-21                 0        2694 2016-03-21 10:42:49  \n",
       "\n",
       "[10772 rows x 16 columns]"
      ],
      "text/html": [
       "<div>\n",
       "<style scoped>\n",
       "    .dataframe tbody tr th:only-of-type {\n",
       "        vertical-align: middle;\n",
       "    }\n",
       "\n",
       "    .dataframe tbody tr th {\n",
       "        vertical-align: top;\n",
       "    }\n",
       "\n",
       "    .dataframe thead th {\n",
       "        text-align: right;\n",
       "    }\n",
       "</style>\n",
       "<table border=\"1\" class=\"dataframe\">\n",
       "  <thead>\n",
       "    <tr style=\"text-align: right;\">\n",
       "      <th></th>\n",
       "      <th>DateCrawled</th>\n",
       "      <th>Price</th>\n",
       "      <th>VehicleType</th>\n",
       "      <th>RegistrationYear</th>\n",
       "      <th>Gearbox</th>\n",
       "      <th>Power</th>\n",
       "      <th>Model</th>\n",
       "      <th>Kilometer</th>\n",
       "      <th>RegistrationMonth</th>\n",
       "      <th>FuelType</th>\n",
       "      <th>Brand</th>\n",
       "      <th>Repaired</th>\n",
       "      <th>DateCreated</th>\n",
       "      <th>NumberOfPictures</th>\n",
       "      <th>PostalCode</th>\n",
       "      <th>LastSeen</th>\n",
       "    </tr>\n",
       "  </thead>\n",
       "  <tbody>\n",
       "    <tr>\n",
       "      <th>7</th>\n",
       "      <td>2016-03-21 18:54:38</td>\n",
       "      <td>0</td>\n",
       "      <td>sedan</td>\n",
       "      <td>1980</td>\n",
       "      <td>manual</td>\n",
       "      <td>50</td>\n",
       "      <td>other</td>\n",
       "      <td>40000</td>\n",
       "      <td>7</td>\n",
       "      <td>petrol</td>\n",
       "      <td>volkswagen</td>\n",
       "      <td>no</td>\n",
       "      <td>2016-03-21</td>\n",
       "      <td>0</td>\n",
       "      <td>19348</td>\n",
       "      <td>2016-03-25 16:47:58</td>\n",
       "    </tr>\n",
       "    <tr>\n",
       "      <th>40</th>\n",
       "      <td>2016-03-26 22:06:17</td>\n",
       "      <td>0</td>\n",
       "      <td>NaN</td>\n",
       "      <td>1990</td>\n",
       "      <td>NaN</td>\n",
       "      <td>0</td>\n",
       "      <td>corsa</td>\n",
       "      <td>150000</td>\n",
       "      <td>1</td>\n",
       "      <td>petrol</td>\n",
       "      <td>opel</td>\n",
       "      <td>NaN</td>\n",
       "      <td>2016-03-26</td>\n",
       "      <td>0</td>\n",
       "      <td>56412</td>\n",
       "      <td>2016-03-27 17:43:34</td>\n",
       "    </tr>\n",
       "    <tr>\n",
       "      <th>111</th>\n",
       "      <td>2016-03-19 18:40:12</td>\n",
       "      <td>0</td>\n",
       "      <td>NaN</td>\n",
       "      <td>2017</td>\n",
       "      <td>manual</td>\n",
       "      <td>0</td>\n",
       "      <td>golf</td>\n",
       "      <td>5000</td>\n",
       "      <td>12</td>\n",
       "      <td>petrol</td>\n",
       "      <td>volkswagen</td>\n",
       "      <td>NaN</td>\n",
       "      <td>2016-03-19</td>\n",
       "      <td>0</td>\n",
       "      <td>21698</td>\n",
       "      <td>2016-04-01 08:47:05</td>\n",
       "    </tr>\n",
       "    <tr>\n",
       "      <th>115</th>\n",
       "      <td>2016-03-20 18:53:27</td>\n",
       "      <td>0</td>\n",
       "      <td>small</td>\n",
       "      <td>1999</td>\n",
       "      <td>NaN</td>\n",
       "      <td>0</td>\n",
       "      <td>NaN</td>\n",
       "      <td>5000</td>\n",
       "      <td>0</td>\n",
       "      <td>petrol</td>\n",
       "      <td>volkswagen</td>\n",
       "      <td>NaN</td>\n",
       "      <td>2016-03-20</td>\n",
       "      <td>0</td>\n",
       "      <td>37520</td>\n",
       "      <td>2016-04-07 02:45:22</td>\n",
       "    </tr>\n",
       "    <tr>\n",
       "      <th>152</th>\n",
       "      <td>2016-03-11 18:55:53</td>\n",
       "      <td>0</td>\n",
       "      <td>bus</td>\n",
       "      <td>2004</td>\n",
       "      <td>manual</td>\n",
       "      <td>101</td>\n",
       "      <td>meriva</td>\n",
       "      <td>150000</td>\n",
       "      <td>10</td>\n",
       "      <td>lpg</td>\n",
       "      <td>opel</td>\n",
       "      <td>yes</td>\n",
       "      <td>2016-03-11</td>\n",
       "      <td>0</td>\n",
       "      <td>27432</td>\n",
       "      <td>2016-03-12 23:47:10</td>\n",
       "    </tr>\n",
       "    <tr>\n",
       "      <th>...</th>\n",
       "      <td>...</td>\n",
       "      <td>...</td>\n",
       "      <td>...</td>\n",
       "      <td>...</td>\n",
       "      <td>...</td>\n",
       "      <td>...</td>\n",
       "      <td>...</td>\n",
       "      <td>...</td>\n",
       "      <td>...</td>\n",
       "      <td>...</td>\n",
       "      <td>...</td>\n",
       "      <td>...</td>\n",
       "      <td>...</td>\n",
       "      <td>...</td>\n",
       "      <td>...</td>\n",
       "      <td>...</td>\n",
       "    </tr>\n",
       "    <tr>\n",
       "      <th>354205</th>\n",
       "      <td>2016-03-09 15:56:30</td>\n",
       "      <td>0</td>\n",
       "      <td>NaN</td>\n",
       "      <td>2000</td>\n",
       "      <td>manual</td>\n",
       "      <td>65</td>\n",
       "      <td>corsa</td>\n",
       "      <td>150000</td>\n",
       "      <td>0</td>\n",
       "      <td>NaN</td>\n",
       "      <td>opel</td>\n",
       "      <td>yes</td>\n",
       "      <td>2016-03-09</td>\n",
       "      <td>0</td>\n",
       "      <td>23758</td>\n",
       "      <td>2016-03-30 11:16:08</td>\n",
       "    </tr>\n",
       "    <tr>\n",
       "      <th>354238</th>\n",
       "      <td>2016-03-20 14:55:07</td>\n",
       "      <td>0</td>\n",
       "      <td>small</td>\n",
       "      <td>2002</td>\n",
       "      <td>manual</td>\n",
       "      <td>60</td>\n",
       "      <td>fiesta</td>\n",
       "      <td>150000</td>\n",
       "      <td>3</td>\n",
       "      <td>petrol</td>\n",
       "      <td>ford</td>\n",
       "      <td>NaN</td>\n",
       "      <td>2016-03-20</td>\n",
       "      <td>0</td>\n",
       "      <td>33659</td>\n",
       "      <td>2016-04-06 18:45:23</td>\n",
       "    </tr>\n",
       "    <tr>\n",
       "      <th>354248</th>\n",
       "      <td>2016-03-24 13:48:05</td>\n",
       "      <td>0</td>\n",
       "      <td>small</td>\n",
       "      <td>1999</td>\n",
       "      <td>manual</td>\n",
       "      <td>53</td>\n",
       "      <td>swift</td>\n",
       "      <td>150000</td>\n",
       "      <td>3</td>\n",
       "      <td>petrol</td>\n",
       "      <td>suzuki</td>\n",
       "      <td>NaN</td>\n",
       "      <td>2016-03-24</td>\n",
       "      <td>0</td>\n",
       "      <td>42329</td>\n",
       "      <td>2016-04-07 05:17:24</td>\n",
       "    </tr>\n",
       "    <tr>\n",
       "      <th>354277</th>\n",
       "      <td>2016-03-10 22:55:50</td>\n",
       "      <td>0</td>\n",
       "      <td>small</td>\n",
       "      <td>1999</td>\n",
       "      <td>manual</td>\n",
       "      <td>37</td>\n",
       "      <td>arosa</td>\n",
       "      <td>150000</td>\n",
       "      <td>7</td>\n",
       "      <td>petrol</td>\n",
       "      <td>seat</td>\n",
       "      <td>yes</td>\n",
       "      <td>2016-03-10</td>\n",
       "      <td>0</td>\n",
       "      <td>22559</td>\n",
       "      <td>2016-03-12 23:46:32</td>\n",
       "    </tr>\n",
       "    <tr>\n",
       "      <th>354364</th>\n",
       "      <td>2016-03-21 09:50:58</td>\n",
       "      <td>0</td>\n",
       "      <td>NaN</td>\n",
       "      <td>2005</td>\n",
       "      <td>manual</td>\n",
       "      <td>0</td>\n",
       "      <td>colt</td>\n",
       "      <td>150000</td>\n",
       "      <td>7</td>\n",
       "      <td>petrol</td>\n",
       "      <td>mitsubishi</td>\n",
       "      <td>yes</td>\n",
       "      <td>2016-03-21</td>\n",
       "      <td>0</td>\n",
       "      <td>2694</td>\n",
       "      <td>2016-03-21 10:42:49</td>\n",
       "    </tr>\n",
       "  </tbody>\n",
       "</table>\n",
       "<p>10772 rows × 16 columns</p>\n",
       "</div>"
      ]
     },
     "execution_count": 10,
     "metadata": {},
     "output_type": "execute_result"
    }
   ],
   "execution_count": 10
  },
  {
   "cell_type": "code",
   "metadata": {
    "ExecuteTime": {
     "end_time": "2025-06-19T13:12:21.261510Z",
     "start_time": "2025-06-19T13:12:21.230633Z"
    }
   },
   "source": [
    "# For car models and brands, it's not very informative to create diagrams, so we'll just find out how many different categories there are.\n",
    "print(f\"Model: {autos_df['Model'].nunique()}\\nBrand: {autos_df['Brand'].nunique()}\\nFuel Type: {autos_df['FuelType'].nunique()}\")"
   ],
   "outputs": [
    {
     "name": "stdout",
     "output_type": "stream",
     "text": [
      "Model: 250\n",
      "Brand: 40\n",
      "Fuel Type: 7\n"
     ]
    }
   ],
   "execution_count": 11
  },
  {
   "cell_type": "code",
   "metadata": {
    "ExecuteTime": {
     "end_time": "2025-06-19T13:12:21.285780Z",
     "start_time": "2025-06-19T13:12:21.271377Z"
    }
   },
   "source": [
    "autos_df['Brand'].unique()"
   ],
   "outputs": [
    {
     "data": {
      "text/plain": [
       "array(['volkswagen', 'audi', 'jeep', 'skoda', 'bmw', 'peugeot', 'ford',\n",
       "       'mazda', 'nissan', 'renault', 'mercedes_benz', 'opel', 'seat',\n",
       "       'citroen', 'honda', 'fiat', 'mini', 'smart', 'hyundai',\n",
       "       'sonstige_autos', 'alfa_romeo', 'subaru', 'volvo', 'mitsubishi',\n",
       "       'kia', 'suzuki', 'lancia', 'toyota', 'chevrolet', 'dacia',\n",
       "       'daihatsu', 'trabant', 'saab', 'chrysler', 'jaguar', 'daewoo',\n",
       "       'porsche', 'rover', 'land_rover', 'lada'], dtype=object)"
      ]
     },
     "execution_count": 12,
     "metadata": {},
     "output_type": "execute_result"
    }
   ],
   "execution_count": 12
  },
  {
   "cell_type": "code",
   "metadata": {
    "ExecuteTime": {
     "end_time": "2025-06-19T13:12:21.306578Z",
     "start_time": "2025-06-19T13:12:21.295673Z"
    }
   },
   "source": [
    "autos_df['FuelType'].unique()"
   ],
   "outputs": [
    {
     "data": {
      "text/plain": [
       "array(['petrol', 'gasoline', nan, 'lpg', 'other', 'hybrid', 'cng',\n",
       "       'electric'], dtype=object)"
      ]
     },
     "execution_count": 13,
     "metadata": {},
     "output_type": "execute_result"
    }
   ],
   "execution_count": 13
  },
  {
   "cell_type": "code",
   "metadata": {
    "ExecuteTime": {
     "end_time": "2025-06-19T13:12:21.450924Z",
     "start_time": "2025-06-19T13:12:21.315731Z"
    }
   },
   "source": [
    "cat_plots(autos_df, ['VehicleType', 'Gearbox', 'FuelType', 'Repaired'])"
   ],
   "outputs": [
    {
     "data": {
      "text/plain": [
       "<Figure size 300x300 with 1 Axes>"
      ],
      "image/png": "[encoded data removed]"
     },
     "metadata": {},
     "output_type": "display_data"
    },
    {
     "data": {
      "text/plain": [
       "<Figure size 300x300 with 1 Axes>"
      ],
      "image/png": "[encoded data removed]"
     },
     "metadata": {},
     "output_type": "display_data"
    },
    {
     "data": {
      "text/plain": [
       "<Figure size 300x300 with 1 Axes>"
      ],
      "image/png": "[encoded data removed]"
     },
     "metadata": {},
     "output_type": "display_data"
    },
    {
     "data": {
      "text/plain": [
       "<Figure size 300x300 with 1 Axes>"
      ],
      "image/png": "[encoded data removed]"
     },
     "metadata": {},
     "output_type": "display_data"
    }
   ],
   "execution_count": 14
  },
  {
   "cell_type": "code",
   "metadata": {
    "ExecuteTime": {
     "end_time": "2025-06-19T13:12:22.002474Z",
     "start_time": "2025-06-19T13:12:21.459751Z"
    }
   },
   "source": [
    "discrete_plots(autos_df, discrete_columns)"
   ],
   "outputs": [
    {
     "data": {
      "text/plain": [
       "<Figure size 1200x600 with 1 Axes>"
      ],
      "image/png": "[encoded data removed]"
     },
     "metadata": {},
     "output_type": "display_data"
    },
    {
     "data": {
      "text/plain": [
       "<Figure size 1200x600 with 1 Axes>"
      ],
      "image/png": "[encoded data removed]"
     },
     "metadata": {},
     "output_type": "display_data"
    }
   ],
   "execution_count": 15
  },
  {
   "cell_type": "markdown",
   "metadata": {},
   "source": ";The distribution by month looks logical, but there are many zero values. These will need to be replaced with \"unknown\" later."
  },
  {
   "cell_type": "code",
   "metadata": {
    "ExecuteTime": {
     "end_time": "2025-06-19T13:12:22.012452Z",
     "start_time": "2025-06-19T13:12:22.010149Z"
    }
   },
   "source": [
    "autos_df.columns"
   ],
   "outputs": [
    {
     "data": {
      "text/plain": [
       "Index(['DateCrawled', 'Price', 'VehicleType', 'RegistrationYear', 'Gearbox',\n",
       "       'Power', 'Model', 'Kilometer', 'RegistrationMonth', 'FuelType', 'Brand',\n",
       "       'Repaired', 'DateCreated', 'NumberOfPictures', 'PostalCode',\n",
       "       'LastSeen'],\n",
       "      dtype='object')"
      ]
     },
     "execution_count": 16,
     "metadata": {},
     "output_type": "execute_result"
    }
   ],
   "execution_count": 16
  },
  {
   "cell_type": "code",
   "metadata": {
    "ExecuteTime": {
     "end_time": "2025-06-19T13:12:22.028754Z",
     "start_time": "2025-06-19T13:12:22.023630Z"
    }
   },
   "source": "autos_df.query('RegistrationYear > 2024 or RegistrationYear < 1924 or Power > 2000 ').shape",
   "outputs": [
    {
     "data": {
      "text/plain": [
       "(395, 16)"
      ]
     },
     "execution_count": 17,
     "metadata": {},
     "output_type": "execute_result"
    }
   ],
   "execution_count": 17
  },
  {
   "cell_type": "markdown",
   "metadata": {},
   "source": "There are a total of 395 values where the registration year is later than 2024 or earlier than 1924, or the power exceeds 2000 hp. The thresholds for year and power were chosen based on logical reasoning, as no additional information on standard values was provided. We'll remove these values, as 395 falls within the acceptable range for the number of values to be deleted."
  },
  {
   "cell_type": "code",
   "metadata": {
    "ExecuteTime": {
     "end_time": "2025-06-19T13:12:22.056245Z",
     "start_time": "2025-06-19T13:12:22.034691Z"
    }
   },
   "source": [
    "autos_df = autos_df.query('RegistrationYear <= 2024 and RegistrationYear >= 1924 and Power <= 2000 and Price > 0')\n",
    "autos_df.shape"
   ],
   "outputs": [
    {
     "data": {
      "text/plain": [
       "(343288, 16)"
      ]
     },
     "execution_count": 18,
     "metadata": {},
     "output_type": "execute_result"
    }
   ],
   "execution_count": 18
  },
  {
   "cell_type": "code",
   "metadata": {
    "ExecuteTime": {
     "end_time": "2025-06-19T13:12:22.072595Z",
     "start_time": "2025-06-19T13:12:22.066703Z"
    }
   },
   "source": [
    "autos_df.query('DateCrawled < 2016')"
   ],
   "outputs": [
    {
     "data": {
      "text/plain": [
       "Empty DataFrame\n",
       "Columns: [DateCrawled, Price, VehicleType, RegistrationYear, Gearbox, Power, Model, Kilometer, RegistrationMonth, FuelType, Brand, Repaired, DateCreated, NumberOfPictures, PostalCode, LastSeen]\n",
       "Index: []"
      ],
      "text/html": [
       "<div>\n",
       "<style scoped>\n",
       "    .dataframe tbody tr th:only-of-type {\n",
       "        vertical-align: middle;\n",
       "    }\n",
       "\n",
       "    .dataframe tbody tr th {\n",
       "        vertical-align: top;\n",
       "    }\n",
       "\n",
       "    .dataframe thead th {\n",
       "        text-align: right;\n",
       "    }\n",
       "</style>\n",
       "<table border=\"1\" class=\"dataframe\">\n",
       "  <thead>\n",
       "    <tr style=\"text-align: right;\">\n",
       "      <th></th>\n",
       "      <th>DateCrawled</th>\n",
       "      <th>Price</th>\n",
       "      <th>VehicleType</th>\n",
       "      <th>RegistrationYear</th>\n",
       "      <th>Gearbox</th>\n",
       "      <th>Power</th>\n",
       "      <th>Model</th>\n",
       "      <th>Kilometer</th>\n",
       "      <th>RegistrationMonth</th>\n",
       "      <th>FuelType</th>\n",
       "      <th>Brand</th>\n",
       "      <th>Repaired</th>\n",
       "      <th>DateCreated</th>\n",
       "      <th>NumberOfPictures</th>\n",
       "      <th>PostalCode</th>\n",
       "      <th>LastSeen</th>\n",
       "    </tr>\n",
       "  </thead>\n",
       "  <tbody>\n",
       "  </tbody>\n",
       "</table>\n",
       "</div>"
      ]
     },
     "execution_count": 19,
     "metadata": {},
     "output_type": "execute_result"
    }
   ],
   "execution_count": 19
  },
  {
   "cell_type": "markdown",
   "metadata": {},
   "source": "Since the download dates for the car listings are only available for 2016, it's logical to assume we should limit the car registration year to 2016 as well. This will ensure our data is consistent with the timeframe of the listings."
  },
  {
   "cell_type": "code",
   "metadata": {
    "ExecuteTime": {
     "end_time": "2025-06-19T13:12:22.105582Z",
     "start_time": "2025-06-19T13:12:22.083894Z"
    }
   },
   "source": [
    "autos_df = autos_df.query('RegistrationYear <= 2016')\n",
    "autos_df.shape"
   ],
   "outputs": [
    {
     "data": {
      "text/plain": [
       "(329604, 16)"
      ]
     },
     "execution_count": 20,
     "metadata": {},
     "output_type": "execute_result"
    }
   ],
   "execution_count": 20
  },
  {
   "cell_type": "markdown",
   "metadata": {},
   "source": [
    "### Removing Features\n",
    "\n",
    "NumberOfPictures is the same for all entries, so it doesn't provide any useful information for the model. We're also removing features like zip codes and dates, as they aren't characteristics of the car itself."
   ]
  },
  {
   "cell_type": "code",
   "metadata": {
    "ExecuteTime": {
     "end_time": "2025-06-19T13:12:22.128721Z",
     "start_time": "2025-06-19T13:12:22.114167Z"
    }
   },
   "source": [
    "new_df = autos_df.drop(['DateCrawled', 'PostalCode', 'DateCreated', 'NumberOfPictures', 'LastSeen'], axis=1)\n",
    "new_df.head()"
   ],
   "outputs": [
    {
     "data": {
      "text/plain": [
       "   Price VehicleType  RegistrationYear Gearbox  Power  Model  Kilometer  \\\n",
       "0    480         NaN              1993  manual      0   golf     150000   \n",
       "1  18300       coupe              2011  manual    190    NaN     125000   \n",
       "2   9800         suv              2004    auto    163  grand     125000   \n",
       "3   1500       small              2001  manual     75   golf     150000   \n",
       "4   3600       small              2008  manual     69  fabia      90000   \n",
       "\n",
       "   RegistrationMonth  FuelType       Brand Repaired  \n",
       "0                  0    petrol  volkswagen      NaN  \n",
       "1                  5  gasoline        audi      yes  \n",
       "2                  8  gasoline        jeep      NaN  \n",
       "3                  6    petrol  volkswagen       no  \n",
       "4                  7  gasoline       skoda       no  "
      ],
      "text/html": [
       "<div>\n",
       "<style scoped>\n",
       "    .dataframe tbody tr th:only-of-type {\n",
       "        vertical-align: middle;\n",
       "    }\n",
       "\n",
       "    .dataframe tbody tr th {\n",
       "        vertical-align: top;\n",
       "    }\n",
       "\n",
       "    .dataframe thead th {\n",
       "        text-align: right;\n",
       "    }\n",
       "</style>\n",
       "<table border=\"1\" class=\"dataframe\">\n",
       "  <thead>\n",
       "    <tr style=\"text-align: right;\">\n",
       "      <th></th>\n",
       "      <th>Price</th>\n",
       "      <th>VehicleType</th>\n",
       "      <th>RegistrationYear</th>\n",
       "      <th>Gearbox</th>\n",
       "      <th>Power</th>\n",
       "      <th>Model</th>\n",
       "      <th>Kilometer</th>\n",
       "      <th>RegistrationMonth</th>\n",
       "      <th>FuelType</th>\n",
       "      <th>Brand</th>\n",
       "      <th>Repaired</th>\n",
       "    </tr>\n",
       "  </thead>\n",
       "  <tbody>\n",
       "    <tr>\n",
       "      <th>0</th>\n",
       "      <td>480</td>\n",
       "      <td>NaN</td>\n",
       "      <td>1993</td>\n",
       "      <td>manual</td>\n",
       "      <td>0</td>\n",
       "      <td>golf</td>\n",
       "      <td>150000</td>\n",
       "      <td>0</td>\n",
       "      <td>petrol</td>\n",
       "      <td>volkswagen</td>\n",
       "      <td>NaN</td>\n",
       "    </tr>\n",
       "    <tr>\n",
       "      <th>1</th>\n",
       "      <td>18300</td>\n",
       "      <td>coupe</td>\n",
       "      <td>2011</td>\n",
       "      <td>manual</td>\n",
       "      <td>190</td>\n",
       "      <td>NaN</td>\n",
       "      <td>125000</td>\n",
       "      <td>5</td>\n",
       "      <td>gasoline</td>\n",
       "      <td>audi</td>\n",
       "      <td>yes</td>\n",
       "    </tr>\n",
       "    <tr>\n",
       "      <th>2</th>\n",
       "      <td>9800</td>\n",
       "      <td>suv</td>\n",
       "      <td>2004</td>\n",
       "      <td>auto</td>\n",
       "      <td>163</td>\n",
       "      <td>grand</td>\n",
       "      <td>125000</td>\n",
       "      <td>8</td>\n",
       "      <td>gasoline</td>\n",
       "      <td>jeep</td>\n",
       "      <td>NaN</td>\n",
       "    </tr>\n",
       "    <tr>\n",
       "      <th>3</th>\n",
       "      <td>1500</td>\n",
       "      <td>small</td>\n",
       "      <td>2001</td>\n",
       "      <td>manual</td>\n",
       "      <td>75</td>\n",
       "      <td>golf</td>\n",
       "      <td>150000</td>\n",
       "      <td>6</td>\n",
       "      <td>petrol</td>\n",
       "      <td>volkswagen</td>\n",
       "      <td>no</td>\n",
       "    </tr>\n",
       "    <tr>\n",
       "      <th>4</th>\n",
       "      <td>3600</td>\n",
       "      <td>small</td>\n",
       "      <td>2008</td>\n",
       "      <td>manual</td>\n",
       "      <td>69</td>\n",
       "      <td>fabia</td>\n",
       "      <td>90000</td>\n",
       "      <td>7</td>\n",
       "      <td>gasoline</td>\n",
       "      <td>skoda</td>\n",
       "      <td>no</td>\n",
       "    </tr>\n",
       "  </tbody>\n",
       "</table>\n",
       "</div>"
      ]
     },
     "execution_count": 21,
     "metadata": {},
     "output_type": "execute_result"
    }
   ],
   "execution_count": 21
  },
  {
   "cell_type": "code",
   "metadata": {
    "ExecuteTime": {
     "end_time": "2025-06-19T13:12:22.141660Z",
     "start_time": "2025-06-19T13:12:22.138905Z"
    }
   },
   "source": [
    "new_df.shape"
   ],
   "outputs": [
    {
     "data": {
      "text/plain": [
       "(329604, 11)"
      ]
     },
     "execution_count": 22,
     "metadata": {},
     "output_type": "execute_result"
    }
   ],
   "execution_count": 22
  },
  {
   "cell_type": "code",
   "metadata": {
    "ExecuteTime": {
     "end_time": "2025-06-19T13:12:22.217451Z",
     "start_time": "2025-06-19T13:12:22.151189Z"
    }
   },
   "source": [
    "plt.figure(figsize=(4, 3))\n",
    "sns.heatmap(new_df[num_columns].corr(method='pearson'), fmt='.2f', cmap='coolwarm', center=0, annot=True)\n",
    "plt.show()"
   ],
   "outputs": [
    {
     "data": {
      "text/plain": [
       "<Figure size 400x300 with 2 Axes>"
      ],
      "image/png": "[encoded data removed]"
     },
     "metadata": {},
     "output_type": "display_data"
    }
   ],
   "execution_count": 23
  },
  {
   "metadata": {
    "ExecuteTime": {
     "end_time": "2025-06-19T13:12:22.233321Z",
     "start_time": "2025-06-19T13:12:22.228509Z"
    }
   },
   "cell_type": "code",
   "source": "new_df.head()",
   "outputs": [
    {
     "data": {
      "text/plain": [
       "   Price VehicleType  RegistrationYear Gearbox  Power  Model  Kilometer  \\\n",
       "0    480         NaN              1993  manual      0   golf     150000   \n",
       "1  18300       coupe              2011  manual    190    NaN     125000   \n",
       "2   9800         suv              2004    auto    163  grand     125000   \n",
       "3   1500       small              2001  manual     75   golf     150000   \n",
       "4   3600       small              2008  manual     69  fabia      90000   \n",
       "\n",
       "   RegistrationMonth  FuelType       Brand Repaired  \n",
       "0                  0    petrol  volkswagen      NaN  \n",
       "1                  5  gasoline        audi      yes  \n",
       "2                  8  gasoline        jeep      NaN  \n",
       "3                  6    petrol  volkswagen       no  \n",
       "4                  7  gasoline       skoda       no  "
      ],
      "text/html": [
       "<div>\n",
       "<style scoped>\n",
       "    .dataframe tbody tr th:only-of-type {\n",
       "        vertical-align: middle;\n",
       "    }\n",
       "\n",
       "    .dataframe tbody tr th {\n",
       "        vertical-align: top;\n",
       "    }\n",
       "\n",
       "    .dataframe thead th {\n",
       "        text-align: right;\n",
       "    }\n",
       "</style>\n",
       "<table border=\"1\" class=\"dataframe\">\n",
       "  <thead>\n",
       "    <tr style=\"text-align: right;\">\n",
       "      <th></th>\n",
       "      <th>Price</th>\n",
       "      <th>VehicleType</th>\n",
       "      <th>RegistrationYear</th>\n",
       "      <th>Gearbox</th>\n",
       "      <th>Power</th>\n",
       "      <th>Model</th>\n",
       "      <th>Kilometer</th>\n",
       "      <th>RegistrationMonth</th>\n",
       "      <th>FuelType</th>\n",
       "      <th>Brand</th>\n",
       "      <th>Repaired</th>\n",
       "    </tr>\n",
       "  </thead>\n",
       "  <tbody>\n",
       "    <tr>\n",
       "      <th>0</th>\n",
       "      <td>480</td>\n",
       "      <td>NaN</td>\n",
       "      <td>1993</td>\n",
       "      <td>manual</td>\n",
       "      <td>0</td>\n",
       "      <td>golf</td>\n",
       "      <td>150000</td>\n",
       "      <td>0</td>\n",
       "      <td>petrol</td>\n",
       "      <td>volkswagen</td>\n",
       "      <td>NaN</td>\n",
       "    </tr>\n",
       "    <tr>\n",
       "      <th>1</th>\n",
       "      <td>18300</td>\n",
       "      <td>coupe</td>\n",
       "      <td>2011</td>\n",
       "      <td>manual</td>\n",
       "      <td>190</td>\n",
       "      <td>NaN</td>\n",
       "      <td>125000</td>\n",
       "      <td>5</td>\n",
       "      <td>gasoline</td>\n",
       "      <td>audi</td>\n",
       "      <td>yes</td>\n",
       "    </tr>\n",
       "    <tr>\n",
       "      <th>2</th>\n",
       "      <td>9800</td>\n",
       "      <td>suv</td>\n",
       "      <td>2004</td>\n",
       "      <td>auto</td>\n",
       "      <td>163</td>\n",
       "      <td>grand</td>\n",
       "      <td>125000</td>\n",
       "      <td>8</td>\n",
       "      <td>gasoline</td>\n",
       "      <td>jeep</td>\n",
       "      <td>NaN</td>\n",
       "    </tr>\n",
       "    <tr>\n",
       "      <th>3</th>\n",
       "      <td>1500</td>\n",
       "      <td>small</td>\n",
       "      <td>2001</td>\n",
       "      <td>manual</td>\n",
       "      <td>75</td>\n",
       "      <td>golf</td>\n",
       "      <td>150000</td>\n",
       "      <td>6</td>\n",
       "      <td>petrol</td>\n",
       "      <td>volkswagen</td>\n",
       "      <td>no</td>\n",
       "    </tr>\n",
       "    <tr>\n",
       "      <th>4</th>\n",
       "      <td>3600</td>\n",
       "      <td>small</td>\n",
       "      <td>2008</td>\n",
       "      <td>manual</td>\n",
       "      <td>69</td>\n",
       "      <td>fabia</td>\n",
       "      <td>90000</td>\n",
       "      <td>7</td>\n",
       "      <td>gasoline</td>\n",
       "      <td>skoda</td>\n",
       "      <td>no</td>\n",
       "    </tr>\n",
       "  </tbody>\n",
       "</table>\n",
       "</div>"
      ]
     },
     "execution_count": 24,
     "metadata": {},
     "output_type": "execute_result"
    }
   ],
   "execution_count": 24
  },
  {
   "cell_type": "code",
   "metadata": {
    "ExecuteTime": {
     "end_time": "2025-06-19T13:12:24.794170Z",
     "start_time": "2025-06-19T13:12:22.245709Z"
    }
   },
   "source": [
    "plt.figure(figsize=(8, 6))\n",
    "sns.heatmap(new_df.phik_matrix(interval_cols=['Price', 'RegistrationYear', 'Power', 'Kilometer', 'RegistrationMonth']),\n",
    "            fmt='.2f', cmap='coolwarm', center=0, annot=True)\n",
    "plt.show()"
   ],
   "outputs": [
    {
     "data": {
      "text/plain": [
       "<Figure size 800x600 with 2 Axes>"
      ],
      "image/png": "[encoded data removed]"
     },
     "metadata": {},
     "output_type": "display_data"
    }
   ],
   "execution_count": 25
  },
  {
   "cell_type": "markdown",
   "metadata": {},
   "source": "The Model feature has a high correlation with the Brand and VehicleType features."
  },
  {
   "cell_type": "code",
   "metadata": {
    "ExecuteTime": {
     "end_time": "2025-06-19T13:12:24.817929Z",
     "start_time": "2025-06-19T13:12:24.801089Z"
    }
   },
   "source": [
    "new_df = new_df.drop(['Model'], axis=1)"
   ],
   "outputs": [],
   "execution_count": 26
  },
  {
   "cell_type": "code",
   "metadata": {
    "ExecuteTime": {
     "end_time": "2025-06-19T13:12:26.326022Z",
     "start_time": "2025-06-19T13:12:24.822609Z"
    }
   },
   "source": [
    "plt.figure(figsize=(8, 6))\n",
    "sns.heatmap(new_df.phik_matrix(interval_cols=['Price', 'RegistrationYear', 'Power', 'Kilometer', 'RegistrationMonth']),\n",
    "            fmt='.2f', cmap='coolwarm', center=0, annot=True)\n",
    "plt.show()"
   ],
   "outputs": [
    {
     "data": {
      "text/plain": [
       "<Figure size 800x600 with 2 Axes>"
      ],
      "image/png": "[encoded data removed]"
     },
     "metadata": {},
     "output_type": "display_data"
    }
   ],
   "execution_count": 27
  },
  {
   "cell_type": "code",
   "metadata": {
    "ExecuteTime": {
     "end_time": "2025-06-19T13:12:26.412622Z",
     "start_time": "2025-06-19T13:12:26.331057Z"
    }
   },
   "source": [
    "new_df.duplicated().sum()"
   ],
   "outputs": [
    {
     "data": {
      "text/plain": [
       "np.int64(27412)"
      ]
     },
     "execution_count": 28,
     "metadata": {},
     "output_type": "execute_result"
    }
   ],
   "execution_count": 28
  },
  {
   "cell_type": "markdown",
   "metadata": {},
   "source": "After removing features, we ended up with a significant number of duplicate entries. We need to remove these duplicates to ensure proper model training. Even without them, we still have a sufficient amount of data."
  },
  {
   "cell_type": "code",
   "metadata": {
    "ExecuteTime": {
     "end_time": "2025-06-19T13:12:26.512060Z",
     "start_time": "2025-06-19T13:12:26.422074Z"
    }
   },
   "source": [
    "new_df.drop_duplicates(inplace=True)\n",
    "new_df.shape"
   ],
   "outputs": [
    {
     "data": {
      "text/plain": [
       "(302192, 10)"
      ]
     },
     "execution_count": 29,
     "metadata": {},
     "output_type": "execute_result"
    }
   ],
   "execution_count": 29
  },
  {
   "cell_type": "markdown",
   "metadata": {},
   "source": "### Splitting the Data"
  },
  {
   "cell_type": "code",
   "metadata": {
    "ExecuteTime": {
     "end_time": "2025-06-19T13:12:26.549733Z",
     "start_time": "2025-06-19T13:12:26.520923Z"
    }
   },
   "source": [
    "X = new_df.drop(columns=['Price'])\n",
    "y = new_df['Price']\n",
    "\n",
    "X_train, X_test, y_train, y_test = train_test_split(X, y, test_size=TEST_SIZE, random_state=RANDOM_STATE)"
   ],
   "outputs": [],
   "execution_count": 30
  },
  {
   "cell_type": "markdown",
   "metadata": {},
   "source": "## Model Training"
  },
  {
   "cell_type": "markdown",
   "metadata": {},
   "source": [
    "Next, the features were divided into numerical and categorical.\n",
    "\n",
    "The Year feature is left as numerical because it has a fairly wide range of values, and one-hot encoding (OHE) would create too many unnecessary features."
   ]
  },
  {
   "cell_type": "code",
   "metadata": {
    "ExecuteTime": {
     "end_time": "2025-06-19T13:12:26.555956Z",
     "start_time": "2025-06-19T13:12:26.553739Z"
    }
   },
   "source": [
    "ohe_columns = ['VehicleType', 'Gearbox', 'FuelType',\n",
    "                'Brand', 'Repaired']\n",
    "\n",
    "num_columns = ['RegistrationYear', 'Power', 'Kilometer']"
   ],
   "outputs": [],
   "execution_count": 31
  },
  {
   "cell_type": "code",
   "metadata": {
    "ExecuteTime": {
     "end_time": "2025-06-19T13:12:26.562199Z",
     "start_time": "2025-06-19T13:12:26.560033Z"
    }
   },
   "source": [
    "ohe_pipe = Pipeline(\n",
    "    [\n",
    "        (\n",
    "            'simpleImputer_before_ohe_nan', \n",
    "            SimpleImputer(missing_values=np.nan, strategy='constant', fill_value='Unknown')\n",
    "        ),\n",
    "        (\n",
    "            'simpleImputer_before_ohe_zero', \n",
    "            SimpleImputer(missing_values=0, strategy='constant', fill_value='Unknown')\n",
    "        ),\n",
    "        (\n",
    "            'ohe', \n",
    "            OneHotEncoder(drop='first', handle_unknown='error', sparse_output=False)\n",
    "        ),\n",
    "        (\n",
    "            'simpleImputer_after_ohe', \n",
    "            SimpleImputer(missing_values=np.nan, strategy='most_frequent')\n",
    "        )\n",
    "    ]\n",
    ") "
   ],
   "outputs": [],
   "execution_count": 32
  },
  {
   "cell_type": "code",
   "metadata": {
    "ExecuteTime": {
     "end_time": "2025-06-19T13:12:26.567812Z",
     "start_time": "2025-06-19T13:12:26.565637Z"
    }
   },
   "source": [
    "month_pipe = Pipeline(\n",
    "    [\n",
    "        (\n",
    "            'to_string', \n",
    "            FunctionTransformer(lambda x: x.astype(str), validate=False)\n",
    "        ),\n",
    "        (\n",
    "            'simpleImputer_before_ohe_nan', \n",
    "            SimpleImputer(missing_values=np.nan, strategy='constant', fill_value='Unknown')\n",
    "        ),\n",
    "        (\n",
    "            'simpleImputer_before_ohe_zero', \n",
    "            SimpleImputer(missing_values='0', strategy='constant', fill_value='Unknown')\n",
    "        ),\n",
    "        (\n",
    "            'ohe', \n",
    "            OneHotEncoder(drop='first', handle_unknown='error', sparse_output=False)\n",
    "        ),\n",
    "        (\n",
    "            'simpleImputer_after_ohe', \n",
    "            SimpleImputer(missing_values=np.nan, strategy='most_frequent')\n",
    "        )\n",
    "    ]\n",
    ")"
   ],
   "outputs": [],
   "execution_count": 33
  },
  {
   "cell_type": "code",
   "metadata": {
    "ExecuteTime": {
     "end_time": "2025-06-19T13:12:26.572946Z",
     "start_time": "2025-06-19T13:12:26.570965Z"
    }
   },
   "source": [
    "data_preprocessor = ColumnTransformer(\n",
    "    [\n",
    "        ('ohe', ohe_pipe, ohe_columns),\n",
    "        ('month', month_pipe, ['RegistrationMonth']),\n",
    "        ('num', StandardScaler(), num_columns)\n",
    "    ], \n",
    "    remainder='passthrough'\n",
    ").set_output(transform=\"pandas\")"
   ],
   "outputs": [],
   "execution_count": 34
  },
  {
   "cell_type": "code",
   "metadata": {
    "ExecuteTime": {
     "end_time": "2025-06-19T13:12:26.578068Z",
     "start_time": "2025-06-19T13:12:26.576289Z"
    }
   },
   "source": [
    "final_p = Pipeline(\n",
    "    [\n",
    "        ('preprocessor', data_preprocessor),\n",
    "        ('models', LinearRegression())\n",
    "    ]\n",
    ")"
   ],
   "outputs": [],
   "execution_count": 35
  },
  {
   "cell_type": "code",
   "metadata": {
    "ExecuteTime": {
     "end_time": "2025-06-19T13:12:26.583613Z",
     "start_time": "2025-06-19T13:12:26.581552Z"
    }
   },
   "source": [
    "def rmse(y_true, y_pred):\n",
    "    return np.sqrt(mean_squared_error(y_true, y_pred))\n",
    "    \n",
    "rmse_scorer = make_scorer(rmse, greater_is_better=False)\n"
   ],
   "outputs": [],
   "execution_count": 36
  },
  {
   "cell_type": "code",
   "metadata": {
    "ExecuteTime": {
     "end_time": "2025-06-19T13:12:26.589190Z",
     "start_time": "2025-06-19T13:12:26.587112Z"
    }
   },
   "source": [
    "parameters = [\n",
    "    {\n",
    "        'models': [LinearRegression()],\n",
    "        'preprocessor__num': [StandardScaler(), 'passthrough']  \n",
    "    },\n",
    "    {\n",
    "        'models': [LGBMRegressor(random_state=RANDOM_STATE, verbose=-1)],\n",
    "        'models__n_estimators': [20, 40],\n",
    "        'models__max_depth': [-1, 4],\n",
    "        'preprocessor__num': [StandardScaler(), 'passthrough'],        \n",
    "    }\n",
    "]"
   ],
   "outputs": [],
   "execution_count": 37
  },
  {
   "cell_type": "code",
   "metadata": {
    "ExecuteTime": {
     "end_time": "2025-06-19T13:12:26.594486Z",
     "start_time": "2025-06-19T13:12:26.592726Z"
    }
   },
   "source": [
    "search = GridSearchCV(\n",
    "    final_p, \n",
    "    parameters,\n",
    "    n_jobs=-1,\n",
    "    cv=5, \n",
    "    scoring=rmse_scorer,\n",
    "    error_score='raise'\n",
    ")"
   ],
   "outputs": [],
   "execution_count": 38
  },
  {
   "cell_type": "code",
   "metadata": {},
   "source": [
    "search.fit(X_train, y_train)"
   ],
   "outputs": [],
   "execution_count": null
  },
  {
   "cell_type": "markdown",
   "metadata": {},
   "source": "## Model Analysis"
  },
  {
   "cell_type": "code",
   "metadata": {
    "ExecuteTime": {
     "end_time": "2025-06-19T13:12:43.142407Z",
     "start_time": "2025-06-19T13:12:43.125562Z"
    }
   },
   "source": [
    "results = pd.DataFrame(search.cv_results_).sort_values(by='rank_test_score')\n",
    "results"
   ],
   "outputs": [
    {
     "data": {
      "text/plain": [
       "   mean_fit_time  std_fit_time  mean_score_time  std_score_time  \\\n",
       "5       2.669161      0.504917         0.143011        0.008057   \n",
       "4       2.533645      0.362247         0.136837        0.006300   \n",
       "8       1.731535      0.142328         0.109755        0.003897   \n",
       "9       1.298301      0.237756         0.107208        0.012478   \n",
       "2       1.845283      0.160454         0.118549        0.007461   \n",
       "3       1.937800      0.126666         0.144587        0.039896   \n",
       "6       1.200667      0.047824         0.116819        0.012765   \n",
       "7       1.481037      0.096602         0.125296        0.013386   \n",
       "0       2.195073      0.136178         0.134759        0.042079   \n",
       "1       1.959641      0.444927         0.109474        0.010842   \n",
       "\n",
       "                                 param_models param_preprocessor__num  \\\n",
       "5  LGBMRegressor(random_state=42, verbose=-1)             passthrough   \n",
       "4  LGBMRegressor(random_state=42, verbose=-1)        StandardScaler()   \n",
       "8  LGBMRegressor(random_state=42, verbose=-1)        StandardScaler()   \n",
       "9  LGBMRegressor(random_state=42, verbose=-1)             passthrough   \n",
       "2  LGBMRegressor(random_state=42, verbose=-1)        StandardScaler()   \n",
       "3  LGBMRegressor(random_state=42, verbose=-1)             passthrough   \n",
       "6  LGBMRegressor(random_state=42, verbose=-1)        StandardScaler()   \n",
       "7  LGBMRegressor(random_state=42, verbose=-1)             passthrough   \n",
       "0                          LinearRegression()        StandardScaler()   \n",
       "1                          LinearRegression()             passthrough   \n",
       "\n",
       "   param_models__max_depth  param_models__n_estimators  \\\n",
       "5                     -1.0                        40.0   \n",
       "4                     -1.0                        40.0   \n",
       "8                      4.0                        40.0   \n",
       "9                      4.0                        40.0   \n",
       "2                     -1.0                        20.0   \n",
       "3                     -1.0                        20.0   \n",
       "6                      4.0                        20.0   \n",
       "7                      4.0                        20.0   \n",
       "0                      NaN                         NaN   \n",
       "1                      NaN                         NaN   \n",
       "\n",
       "                                              params  split0_test_score  \\\n",
       "5  {'models': LGBMRegressor(random_state=42, verb...       -1874.287111   \n",
       "4  {'models': LGBMRegressor(random_state=42, verb...       -1874.564818   \n",
       "8  {'models': LGBMRegressor(random_state=42, verb...       -2029.550169   \n",
       "9  {'models': LGBMRegressor(random_state=42, verb...       -2030.463970   \n",
       "2  {'models': LGBMRegressor(random_state=42, verb...       -2137.568083   \n",
       "3  {'models': LGBMRegressor(random_state=42, verb...       -2138.101332   \n",
       "6  {'models': LGBMRegressor(random_state=42, verb...       -2315.604122   \n",
       "7  {'models': LGBMRegressor(random_state=42, verb...       -2315.672439   \n",
       "0  {'models': LinearRegression(), 'preprocessor__...       -2969.628653   \n",
       "1  {'models': LinearRegression(), 'preprocessor__...       -2969.628653   \n",
       "\n",
       "   split1_test_score  split2_test_score  split3_test_score  split4_test_score  \\\n",
       "5       -1846.711075       -1860.311562       -1887.254740       -1885.817386   \n",
       "4       -1847.473084       -1860.161691       -1886.027228       -1886.818420   \n",
       "8       -2003.177053       -2019.371545       -2042.380091       -2034.835521   \n",
       "9       -2006.566142       -2019.286101       -2037.866565       -2038.331834   \n",
       "2       -2111.629503       -2133.454730       -2146.917056       -2153.383526   \n",
       "3       -2116.284325       -2133.186480       -2152.219569       -2155.120334   \n",
       "6       -2291.855353       -2310.522563       -2325.646308       -2325.454792   \n",
       "7       -2294.006905       -2310.452884       -2325.805660       -2327.678516   \n",
       "0       -2955.639824       -2927.784633       -2926.818945       -2962.167414   \n",
       "1       -2955.639824       -2927.784633       -2926.818945       -2962.167414   \n",
       "\n",
       "   mean_test_score  std_test_score  rank_test_score  \n",
       "5     -1870.876375       15.483506                1  \n",
       "4     -1871.009048       15.229788                2  \n",
       "8     -2025.862876       13.591960                3  \n",
       "9     -2026.502923       12.118607                4  \n",
       "2     -2136.590580       14.300235                5  \n",
       "3     -2138.982408       14.037287                6  \n",
       "6     -2313.816628       12.423621                7  \n",
       "7     -2314.723281       12.156995                8  \n",
       "0     -2948.407894       17.795209                9  \n",
       "1     -2948.407894       17.795209               10  "
      ],
      "text/html": [
       "<div>\n",
       "<style scoped>\n",
       "    .dataframe tbody tr th:only-of-type {\n",
       "        vertical-align: middle;\n",
       "    }\n",
       "\n",
       "    .dataframe tbody tr th {\n",
       "        vertical-align: top;\n",
       "    }\n",
       "\n",
       "    .dataframe thead th {\n",
       "        text-align: right;\n",
       "    }\n",
       "</style>\n",
       "<table border=\"1\" class=\"dataframe\">\n",
       "  <thead>\n",
       "    <tr style=\"text-align: right;\">\n",
       "      <th></th>\n",
       "      <th>mean_fit_time</th>\n",
       "      <th>std_fit_time</th>\n",
       "      <th>mean_score_time</th>\n",
       "      <th>std_score_time</th>\n",
       "      <th>param_models</th>\n",
       "      <th>param_preprocessor__num</th>\n",
       "      <th>param_models__max_depth</th>\n",
       "      <th>param_models__n_estimators</th>\n",
       "      <th>params</th>\n",
       "      <th>split0_test_score</th>\n",
       "      <th>split1_test_score</th>\n",
       "      <th>split2_test_score</th>\n",
       "      <th>split3_test_score</th>\n",
       "      <th>split4_test_score</th>\n",
       "      <th>mean_test_score</th>\n",
       "      <th>std_test_score</th>\n",
       "      <th>rank_test_score</th>\n",
       "    </tr>\n",
       "  </thead>\n",
       "  <tbody>\n",
       "    <tr>\n",
       "      <th>5</th>\n",
       "      <td>2.669161</td>\n",
       "      <td>0.504917</td>\n",
       "      <td>0.143011</td>\n",
       "      <td>0.008057</td>\n",
       "      <td>LGBMRegressor(random_state=42, verbose=-1)</td>\n",
       "      <td>passthrough</td>\n",
       "      <td>-1.0</td>\n",
       "      <td>40.0</td>\n",
       "      <td>{'models': LGBMRegressor(random_state=42, verb...</td>\n",
       "      <td>-1874.287111</td>\n",
       "      <td>-1846.711075</td>\n",
       "      <td>-1860.311562</td>\n",
       "      <td>-1887.254740</td>\n",
       "      <td>-1885.817386</td>\n",
       "      <td>-1870.876375</td>\n",
       "      <td>15.483506</td>\n",
       "      <td>1</td>\n",
       "    </tr>\n",
       "    <tr>\n",
       "      <th>4</th>\n",
       "      <td>2.533645</td>\n",
       "      <td>0.362247</td>\n",
       "      <td>0.136837</td>\n",
       "      <td>0.006300</td>\n",
       "      <td>LGBMRegressor(random_state=42, verbose=-1)</td>\n",
       "      <td>StandardScaler()</td>\n",
       "      <td>-1.0</td>\n",
       "      <td>40.0</td>\n",
       "      <td>{'models': LGBMRegressor(random_state=42, verb...</td>\n",
       "      <td>-1874.564818</td>\n",
       "      <td>-1847.473084</td>\n",
       "      <td>-1860.161691</td>\n",
       "      <td>-1886.027228</td>\n",
       "      <td>-1886.818420</td>\n",
       "      <td>-1871.009048</td>\n",
       "      <td>15.229788</td>\n",
       "      <td>2</td>\n",
       "    </tr>\n",
       "    <tr>\n",
       "      <th>8</th>\n",
       "      <td>1.731535</td>\n",
       "      <td>0.142328</td>\n",
       "      <td>0.109755</td>\n",
       "      <td>0.003897</td>\n",
       "      <td>LGBMRegressor(random_state=42, verbose=-1)</td>\n",
       "      <td>StandardScaler()</td>\n",
       "      <td>4.0</td>\n",
       "      <td>40.0</td>\n",
       "      <td>{'models': LGBMRegressor(random_state=42, verb...</td>\n",
       "      <td>-2029.550169</td>\n",
       "      <td>-2003.177053</td>\n",
       "      <td>-2019.371545</td>\n",
       "      <td>-2042.380091</td>\n",
       "      <td>-2034.835521</td>\n",
       "      <td>-2025.862876</td>\n",
       "      <td>13.591960</td>\n",
       "      <td>3</td>\n",
       "    </tr>\n",
       "    <tr>\n",
       "      <th>9</th>\n",
       "      <td>1.298301</td>\n",
       "      <td>0.237756</td>\n",
       "      <td>0.107208</td>\n",
       "      <td>0.012478</td>\n",
       "      <td>LGBMRegressor(random_state=42, verbose=-1)</td>\n",
       "      <td>passthrough</td>\n",
       "      <td>4.0</td>\n",
       "      <td>40.0</td>\n",
       "      <td>{'models': LGBMRegressor(random_state=42, verb...</td>\n",
       "      <td>-2030.463970</td>\n",
       "      <td>-2006.566142</td>\n",
       "      <td>-2019.286101</td>\n",
       "      <td>-2037.866565</td>\n",
       "      <td>-2038.331834</td>\n",
       "      <td>-2026.502923</td>\n",
       "      <td>12.118607</td>\n",
       "      <td>4</td>\n",
       "    </tr>\n",
       "    <tr>\n",
       "      <th>2</th>\n",
       "      <td>1.845283</td>\n",
       "      <td>0.160454</td>\n",
       "      <td>0.118549</td>\n",
       "      <td>0.007461</td>\n",
       "      <td>LGBMRegressor(random_state=42, verbose=-1)</td>\n",
       "      <td>StandardScaler()</td>\n",
       "      <td>-1.0</td>\n",
       "      <td>20.0</td>\n",
       "      <td>{'models': LGBMRegressor(random_state=42, verb...</td>\n",
       "      <td>-2137.568083</td>\n",
       "      <td>-2111.629503</td>\n",
       "      <td>-2133.454730</td>\n",
       "      <td>-2146.917056</td>\n",
       "      <td>-2153.383526</td>\n",
       "      <td>-2136.590580</td>\n",
       "      <td>14.300235</td>\n",
       "      <td>5</td>\n",
       "    </tr>\n",
       "    <tr>\n",
       "      <th>3</th>\n",
       "      <td>1.937800</td>\n",
       "      <td>0.126666</td>\n",
       "      <td>0.144587</td>\n",
       "      <td>0.039896</td>\n",
       "      <td>LGBMRegressor(random_state=42, verbose=-1)</td>\n",
       "      <td>passthrough</td>\n",
       "      <td>-1.0</td>\n",
       "      <td>20.0</td>\n",
       "      <td>{'models': LGBMRegressor(random_state=42, verb...</td>\n",
       "      <td>-2138.101332</td>\n",
       "      <td>-2116.284325</td>\n",
       "      <td>-2133.186480</td>\n",
       "      <td>-2152.219569</td>\n",
       "      <td>-2155.120334</td>\n",
       "      <td>-2138.982408</td>\n",
       "      <td>14.037287</td>\n",
       "      <td>6</td>\n",
       "    </tr>\n",
       "    <tr>\n",
       "      <th>6</th>\n",
       "      <td>1.200667</td>\n",
       "      <td>0.047824</td>\n",
       "      <td>0.116819</td>\n",
       "      <td>0.012765</td>\n",
       "      <td>LGBMRegressor(random_state=42, verbose=-1)</td>\n",
       "      <td>StandardScaler()</td>\n",
       "      <td>4.0</td>\n",
       "      <td>20.0</td>\n",
       "      <td>{'models': LGBMRegressor(random_state=42, verb...</td>\n",
       "      <td>-2315.604122</td>\n",
       "      <td>-2291.855353</td>\n",
       "      <td>-2310.522563</td>\n",
       "      <td>-2325.646308</td>\n",
       "      <td>-2325.454792</td>\n",
       "      <td>-2313.816628</td>\n",
       "      <td>12.423621</td>\n",
       "      <td>7</td>\n",
       "    </tr>\n",
       "    <tr>\n",
       "      <th>7</th>\n",
       "      <td>1.481037</td>\n",
       "      <td>0.096602</td>\n",
       "      <td>0.125296</td>\n",
       "      <td>0.013386</td>\n",
       "      <td>LGBMRegressor(random_state=42, verbose=-1)</td>\n",
       "      <td>passthrough</td>\n",
       "      <td>4.0</td>\n",
       "      <td>20.0</td>\n",
       "      <td>{'models': LGBMRegressor(random_state=42, verb...</td>\n",
       "      <td>-2315.672439</td>\n",
       "      <td>-2294.006905</td>\n",
       "      <td>-2310.452884</td>\n",
       "      <td>-2325.805660</td>\n",
       "      <td>-2327.678516</td>\n",
       "      <td>-2314.723281</td>\n",
       "      <td>12.156995</td>\n",
       "      <td>8</td>\n",
       "    </tr>\n",
       "    <tr>\n",
       "      <th>0</th>\n",
       "      <td>2.195073</td>\n",
       "      <td>0.136178</td>\n",
       "      <td>0.134759</td>\n",
       "      <td>0.042079</td>\n",
       "      <td>LinearRegression()</td>\n",
       "      <td>StandardScaler()</td>\n",
       "      <td>NaN</td>\n",
       "      <td>NaN</td>\n",
       "      <td>{'models': LinearRegression(), 'preprocessor__...</td>\n",
       "      <td>-2969.628653</td>\n",
       "      <td>-2955.639824</td>\n",
       "      <td>-2927.784633</td>\n",
       "      <td>-2926.818945</td>\n",
       "      <td>-2962.167414</td>\n",
       "      <td>-2948.407894</td>\n",
       "      <td>17.795209</td>\n",
       "      <td>9</td>\n",
       "    </tr>\n",
       "    <tr>\n",
       "      <th>1</th>\n",
       "      <td>1.959641</td>\n",
       "      <td>0.444927</td>\n",
       "      <td>0.109474</td>\n",
       "      <td>0.010842</td>\n",
       "      <td>LinearRegression()</td>\n",
       "      <td>passthrough</td>\n",
       "      <td>NaN</td>\n",
       "      <td>NaN</td>\n",
       "      <td>{'models': LinearRegression(), 'preprocessor__...</td>\n",
       "      <td>-2969.628653</td>\n",
       "      <td>-2955.639824</td>\n",
       "      <td>-2927.784633</td>\n",
       "      <td>-2926.818945</td>\n",
       "      <td>-2962.167414</td>\n",
       "      <td>-2948.407894</td>\n",
       "      <td>17.795209</td>\n",
       "      <td>10</td>\n",
       "    </tr>\n",
       "  </tbody>\n",
       "</table>\n",
       "</div>"
      ]
     },
     "execution_count": 40,
     "metadata": {},
     "output_type": "execute_result"
    }
   ],
   "execution_count": 40
  },
  {
   "cell_type": "markdown",
   "metadata": {},
   "source": "The RMSE values for the first and second models don't differ significantly, but the second model has better training and prediction times. Therefore, we'll proceed with the second model."
  },
  {
   "cell_type": "code",
   "metadata": {
    "ExecuteTime": {
     "end_time": "2025-06-19T13:12:43.159113Z",
     "start_time": "2025-06-19T13:12:43.156936Z"
    }
   },
   "source": [
    "second_best_model_params = results.iloc[1]['params']"
   ],
   "outputs": [],
   "execution_count": 41
  },
  {
   "cell_type": "code",
   "metadata": {
    "ExecuteTime": {
     "end_time": "2025-06-19T13:12:43.164941Z",
     "start_time": "2025-06-19T13:12:43.162917Z"
    }
   },
   "source": [
    "second_best_model_pipeline = Pipeline(\n",
    "    [\n",
    "        ('preprocessor', data_preprocessor),\n",
    "        ('models', second_best_model_params['models'])\n",
    "    ]\n",
    ")"
   ],
   "outputs": [],
   "execution_count": 42
  },
  {
   "cell_type": "code",
   "metadata": {
    "ExecuteTime": {
     "end_time": "2025-06-19T13:12:43.212890Z",
     "start_time": "2025-06-19T13:12:43.168706Z"
    }
   },
   "source": [
    "second_best_model_pipeline.set_params(preprocessor__num=second_best_model_params['preprocessor__num'])"
   ],
   "outputs": [
    {
     "data": {
      "text/plain": [
       "Pipeline(steps=[('preprocessor',\n",
       "                 ColumnTransformer(remainder='passthrough',\n",
       "                                   transformers=[('ohe',\n",
       "                                                  Pipeline(steps=[('simpleImputer_before_ohe_nan',\n",
       "                                                                   SimpleImputer(fill_value='Unknown',\n",
       "                                                                                 strategy='constant')),\n",
       "                                                                  ('simpleImputer_before_ohe_zero',\n",
       "                                                                   SimpleImputer(fill_value='Unknown',\n",
       "                                                                                 missing_values=0,\n",
       "                                                                                 strategy='constant')),\n",
       "                                                                  ('ohe',\n",
       "                                                                   OneHotEncoder(drop='first',\n",
       "                                                                                 sparse_ou...\n",
       "                                                                  ('simpleImputer_before_ohe_zero',\n",
       "                                                                   SimpleImputer(fill_value='Unknown',\n",
       "                                                                                 missing_values='0',\n",
       "                                                                                 strategy='constant')),\n",
       "                                                                  ('ohe',\n",
       "                                                                   OneHotEncoder(drop='first',\n",
       "                                                                                 sparse_output=False)),\n",
       "                                                                  ('simpleImputer_after_ohe',\n",
       "                                                                   SimpleImputer(strategy='most_frequent'))]),\n",
       "                                                  ['RegistrationMonth']),\n",
       "                                                 ('num', StandardScaler(),\n",
       "                                                  ['RegistrationYear', 'Power',\n",
       "                                                   'Kilometer'])])),\n",
       "                ('models', LGBMRegressor(random_state=42, verbose=-1))])"
      ],
      "text/html": [
       "<style>#sk-container-id-2 {\n",
       "  /* Definition of color scheme common for light and dark mode */\n",
       "  --sklearn-color-text: #000;\n",
       "  --sklearn-color-text-muted: #666;\n",
       "  --sklearn-color-line: gray;\n",
       "  /* Definition of color scheme for unfitted estimators */\n",
       "  --sklearn-color-unfitted-level-0: #fff5e6;\n",
       "  --sklearn-color-unfitted-level-1: #f6e4d2;\n",
       "  --sklearn-color-unfitted-level-2: #ffe0b3;\n",
       "  --sklearn-color-unfitted-level-3: chocolate;\n",
       "  /* Definition of color scheme for fitted estimators */\n",
       "  --sklearn-color-fitted-level-0: #f0f8ff;\n",
       "  --sklearn-color-fitted-level-1: #d4ebff;\n",
       "  --sklearn-color-fitted-level-2: #b3dbfd;\n",
       "  --sklearn-color-fitted-level-3: cornflowerblue;\n",
       "\n",
       "  /* Specific color for light theme */\n",
       "  --sklearn-color-text-on-default-background: var(--sg-text-color, var(--theme-code-foreground, var(--jp-content-font-color1, black)));\n",
       "  --sklearn-color-background: var(--sg-background-color, var(--theme-background, var(--jp-layout-color0, white)));\n",
       "  --sklearn-color-border-box: var(--sg-text-color, var(--theme-code-foreground, var(--jp-content-font-color1, black)));\n",
       "  --sklearn-color-icon: #696969;\n",
       "\n",
       "  @media (prefers-color-scheme: dark) {\n",
       "    /* Redefinition of color scheme for dark theme */\n",
       "    --sklearn-color-text-on-default-background: var(--sg-text-color, var(--theme-code-foreground, var(--jp-content-font-color1, white)));\n",
       "    --sklearn-color-background: var(--sg-background-color, var(--theme-background, var(--jp-layout-color0, #111)));\n",
       "    --sklearn-color-border-box: var(--sg-text-color, var(--theme-code-foreground, var(--jp-content-font-color1, white)));\n",
       "    --sklearn-color-icon: #878787;\n",
       "  }\n",
       "}\n",
       "\n",
       "#sk-container-id-2 {\n",
       "  color: var(--sklearn-color-text);\n",
       "}\n",
       "\n",
       "#sk-container-id-2 pre {\n",
       "  padding: 0;\n",
       "}\n",
       "\n",
       "#sk-container-id-2 input.sk-hidden--visually {\n",
       "  border: 0;\n",
       "  clip: rect(1px 1px 1px 1px);\n",
       "  clip: rect(1px, 1px, 1px, 1px);\n",
       "  height: 1px;\n",
       "  margin: -1px;\n",
       "  overflow: hidden;\n",
       "  padding: 0;\n",
       "  position: absolute;\n",
       "  width: 1px;\n",
       "}\n",
       "\n",
       "#sk-container-id-2 div.sk-dashed-wrapped {\n",
       "  border: 1px dashed var(--sklearn-color-line);\n",
       "  margin: 0 0.4em 0.5em 0.4em;\n",
       "  box-sizing: border-box;\n",
       "  padding-bottom: 0.4em;\n",
       "  background-color: var(--sklearn-color-background);\n",
       "}\n",
       "\n",
       "#sk-container-id-2 div.sk-container {\n",
       "  /* jupyter's `normalize.less` sets `[hidden] { display: none; }`\n",
       "     but bootstrap.min.css set `[hidden] { display: none !important; }`\n",
       "     so we also need the `!important` here to be able to override the\n",
       "     default hidden behavior on the sphinx rendered scikit-learn.org.\n",
       "     See: https://github.com/scikit-learn/scikit-learn/issues/21755 */\n",
       "  display: inline-block !important;\n",
       "  position: relative;\n",
       "}\n",
       "\n",
       "#sk-container-id-2 div.sk-text-repr-fallback {\n",
       "  display: none;\n",
       "}\n",
       "\n",
       "div.sk-parallel-item,\n",
       "div.sk-serial,\n",
       "div.sk-item {\n",
       "  /* draw centered vertical line to link estimators */\n",
       "  background-image: linear-gradient(var(--sklearn-color-text-on-default-background), var(--sklearn-color-text-on-default-background));\n",
       "  background-size: 2px 100%;\n",
       "  background-repeat: no-repeat;\n",
       "  background-position: center center;\n",
       "}\n",
       "\n",
       "/* Parallel-specific style estimator block */\n",
       "\n",
       "#sk-container-id-2 div.sk-parallel-item::after {\n",
       "  content: \"\";\n",
       "  width: 100%;\n",
       "  border-bottom: 2px solid var(--sklearn-color-text-on-default-background);\n",
       "  flex-grow: 1;\n",
       "}\n",
       "\n",
       "#sk-container-id-2 div.sk-parallel {\n",
       "  display: flex;\n",
       "  align-items: stretch;\n",
       "  justify-content: center;\n",
       "  background-color: var(--sklearn-color-background);\n",
       "  position: relative;\n",
       "}\n",
       "\n",
       "#sk-container-id-2 div.sk-parallel-item {\n",
       "  display: flex;\n",
       "  flex-direction: column;\n",
       "}\n",
       "\n",
       "#sk-container-id-2 div.sk-parallel-item:first-child::after {\n",
       "  align-self: flex-end;\n",
       "  width: 50%;\n",
       "}\n",
       "\n",
       "#sk-container-id-2 div.sk-parallel-item:last-child::after {\n",
       "  align-self: flex-start;\n",
       "  width: 50%;\n",
       "}\n",
       "\n",
       "#sk-container-id-2 div.sk-parallel-item:only-child::after {\n",
       "  width: 0;\n",
       "}\n",
       "\n",
       "/* Serial-specific style estimator block */\n",
       "\n",
       "#sk-container-id-2 div.sk-serial {\n",
       "  display: flex;\n",
       "  flex-direction: column;\n",
       "  align-items: center;\n",
       "  background-color: var(--sklearn-color-background);\n",
       "  padding-right: 1em;\n",
       "  padding-left: 1em;\n",
       "}\n",
       "\n",
       "\n",
       "/* Toggleable style: style used for estimator/Pipeline/ColumnTransformer box that is\n",
       "clickable and can be expanded/collapsed.\n",
       "- Pipeline and ColumnTransformer use this feature and define the default style\n",
       "- Estimators will overwrite some part of the style using the `sk-estimator` class\n",
       "*/\n",
       "\n",
       "/* Pipeline and ColumnTransformer style (default) */\n",
       "\n",
       "#sk-container-id-2 div.sk-toggleable {\n",
       "  /* Default theme specific background. It is overwritten whether we have a\n",
       "  specific estimator or a Pipeline/ColumnTransformer */\n",
       "  background-color: var(--sklearn-color-background);\n",
       "}\n",
       "\n",
       "/* Toggleable label */\n",
       "#sk-container-id-2 label.sk-toggleable__label {\n",
       "  cursor: pointer;\n",
       "  display: flex;\n",
       "  width: 100%;\n",
       "  margin-bottom: 0;\n",
       "  padding: 0.5em;\n",
       "  box-sizing: border-box;\n",
       "  text-align: center;\n",
       "  align-items: start;\n",
       "  justify-content: space-between;\n",
       "  gap: 0.5em;\n",
       "}\n",
       "\n",
       "#sk-container-id-2 label.sk-toggleable__label .caption {\n",
       "  font-size: 0.6rem;\n",
       "  font-weight: lighter;\n",
       "  color: var(--sklearn-color-text-muted);\n",
       "}\n",
       "\n",
       "#sk-container-id-2 label.sk-toggleable__label-arrow:before {\n",
       "  /* Arrow on the left of the label */\n",
       "  content: \"▸\";\n",
       "  float: left;\n",
       "  margin-right: 0.25em;\n",
       "  color: var(--sklearn-color-icon);\n",
       "}\n",
       "\n",
       "#sk-container-id-2 label.sk-toggleable__label-arrow:hover:before {\n",
       "  color: var(--sklearn-color-text);\n",
       "}\n",
       "\n",
       "/* Toggleable content - dropdown */\n",
       "\n",
       "#sk-container-id-2 div.sk-toggleable__content {\n",
       "  max-height: 0;\n",
       "  max-width: 0;\n",
       "  overflow: hidden;\n",
       "  text-align: left;\n",
       "  /* unfitted */\n",
       "  background-color: var(--sklearn-color-unfitted-level-0);\n",
       "}\n",
       "\n",
       "#sk-container-id-2 div.sk-toggleable__content.fitted {\n",
       "  /* fitted */\n",
       "  background-color: var(--sklearn-color-fitted-level-0);\n",
       "}\n",
       "\n",
       "#sk-container-id-2 div.sk-toggleable__content pre {\n",
       "  margin: 0.2em;\n",
       "  border-radius: 0.25em;\n",
       "  color: var(--sklearn-color-text);\n",
       "  /* unfitted */\n",
       "  background-color: var(--sklearn-color-unfitted-level-0);\n",
       "}\n",
       "\n",
       "#sk-container-id-2 div.sk-toggleable__content.fitted pre {\n",
       "  /* unfitted */\n",
       "  background-color: var(--sklearn-color-fitted-level-0);\n",
       "}\n",
       "\n",
       "#sk-container-id-2 input.sk-toggleable__control:checked~div.sk-toggleable__content {\n",
       "  /* Expand drop-down */\n",
       "  max-height: 200px;\n",
       "  max-width: 100%;\n",
       "  overflow: auto;\n",
       "}\n",
       "\n",
       "#sk-container-id-2 input.sk-toggleable__control:checked~label.sk-toggleable__label-arrow:before {\n",
       "  content: \"▾\";\n",
       "}\n",
       "\n",
       "/* Pipeline/ColumnTransformer-specific style */\n",
       "\n",
       "#sk-container-id-2 div.sk-label input.sk-toggleable__control:checked~label.sk-toggleable__label {\n",
       "  color: var(--sklearn-color-text);\n",
       "  background-color: var(--sklearn-color-unfitted-level-2);\n",
       "}\n",
       "\n",
       "#sk-container-id-2 div.sk-label.fitted input.sk-toggleable__control:checked~label.sk-toggleable__label {\n",
       "  background-color: var(--sklearn-color-fitted-level-2);\n",
       "}\n",
       "\n",
       "/* Estimator-specific style */\n",
       "\n",
       "/* Colorize estimator box */\n",
       "#sk-container-id-2 div.sk-estimator input.sk-toggleable__control:checked~label.sk-toggleable__label {\n",
       "  /* unfitted */\n",
       "  background-color: var(--sklearn-color-unfitted-level-2);\n",
       "}\n",
       "\n",
       "#sk-container-id-2 div.sk-estimator.fitted input.sk-toggleable__control:checked~label.sk-toggleable__label {\n",
       "  /* fitted */\n",
       "  background-color: var(--sklearn-color-fitted-level-2);\n",
       "}\n",
       "\n",
       "#sk-container-id-2 div.sk-label label.sk-toggleable__label,\n",
       "#sk-container-id-2 div.sk-label label {\n",
       "  /* The background is the default theme color */\n",
       "  color: var(--sklearn-color-text-on-default-background);\n",
       "}\n",
       "\n",
       "/* On hover, darken the color of the background */\n",
       "#sk-container-id-2 div.sk-label:hover label.sk-toggleable__label {\n",
       "  color: var(--sklearn-color-text);\n",
       "  background-color: var(--sklearn-color-unfitted-level-2);\n",
       "}\n",
       "\n",
       "/* Label box, darken color on hover, fitted */\n",
       "#sk-container-id-2 div.sk-label.fitted:hover label.sk-toggleable__label.fitted {\n",
       "  color: var(--sklearn-color-text);\n",
       "  background-color: var(--sklearn-color-fitted-level-2);\n",
       "}\n",
       "\n",
       "/* Estimator label */\n",
       "\n",
       "#sk-container-id-2 div.sk-label label {\n",
       "  font-family: monospace;\n",
       "  font-weight: bold;\n",
       "  display: inline-block;\n",
       "  line-height: 1.2em;\n",
       "}\n",
       "\n",
       "#sk-container-id-2 div.sk-label-container {\n",
       "  text-align: center;\n",
       "}\n",
       "\n",
       "/* Estimator-specific */\n",
       "#sk-container-id-2 div.sk-estimator {\n",
       "  font-family: monospace;\n",
       "  border: 1px dotted var(--sklearn-color-border-box);\n",
       "  border-radius: 0.25em;\n",
       "  box-sizing: border-box;\n",
       "  margin-bottom: 0.5em;\n",
       "  /* unfitted */\n",
       "  background-color: var(--sklearn-color-unfitted-level-0);\n",
       "}\n",
       "\n",
       "#sk-container-id-2 div.sk-estimator.fitted {\n",
       "  /* fitted */\n",
       "  background-color: var(--sklearn-color-fitted-level-0);\n",
       "}\n",
       "\n",
       "/* on hover */\n",
       "#sk-container-id-2 div.sk-estimator:hover {\n",
       "  /* unfitted */\n",
       "  background-color: var(--sklearn-color-unfitted-level-2);\n",
       "}\n",
       "\n",
       "#sk-container-id-2 div.sk-estimator.fitted:hover {\n",
       "  /* fitted */\n",
       "  background-color: var(--sklearn-color-fitted-level-2);\n",
       "}\n",
       "\n",
       "/* Specification for estimator info (e.g. \"i\" and \"?\") */\n",
       "\n",
       "/* Common style for \"i\" and \"?\" */\n",
       "\n",
       ".sk-estimator-doc-link,\n",
       "a:link.sk-estimator-doc-link,\n",
       "a:visited.sk-estimator-doc-link {\n",
       "  float: right;\n",
       "  font-size: smaller;\n",
       "  line-height: 1em;\n",
       "  font-family: monospace;\n",
       "  background-color: var(--sklearn-color-background);\n",
       "  border-radius: 1em;\n",
       "  height: 1em;\n",
       "  width: 1em;\n",
       "  text-decoration: none !important;\n",
       "  margin-left: 0.5em;\n",
       "  text-align: center;\n",
       "  /* unfitted */\n",
       "  border: var(--sklearn-color-unfitted-level-1) 1pt solid;\n",
       "  color: var(--sklearn-color-unfitted-level-1);\n",
       "}\n",
       "\n",
       ".sk-estimator-doc-link.fitted,\n",
       "a:link.sk-estimator-doc-link.fitted,\n",
       "a:visited.sk-estimator-doc-link.fitted {\n",
       "  /* fitted */\n",
       "  border: var(--sklearn-color-fitted-level-1) 1pt solid;\n",
       "  color: var(--sklearn-color-fitted-level-1);\n",
       "}\n",
       "\n",
       "/* On hover */\n",
       "div.sk-estimator:hover .sk-estimator-doc-link:hover,\n",
       ".sk-estimator-doc-link:hover,\n",
       "div.sk-label-container:hover .sk-estimator-doc-link:hover,\n",
       ".sk-estimator-doc-link:hover {\n",
       "  /* unfitted */\n",
       "  background-color: var(--sklearn-color-unfitted-level-3);\n",
       "  color: var(--sklearn-color-background);\n",
       "  text-decoration: none;\n",
       "}\n",
       "\n",
       "div.sk-estimator.fitted:hover .sk-estimator-doc-link.fitted:hover,\n",
       ".sk-estimator-doc-link.fitted:hover,\n",
       "div.sk-label-container:hover .sk-estimator-doc-link.fitted:hover,\n",
       ".sk-estimator-doc-link.fitted:hover {\n",
       "  /* fitted */\n",
       "  background-color: var(--sklearn-color-fitted-level-3);\n",
       "  color: var(--sklearn-color-background);\n",
       "  text-decoration: none;\n",
       "}\n",
       "\n",
       "/* Span, style for the box shown on hovering the info icon */\n",
       ".sk-estimator-doc-link span {\n",
       "  display: none;\n",
       "  z-index: 9999;\n",
       "  position: relative;\n",
       "  font-weight: normal;\n",
       "  right: .2ex;\n",
       "  padding: .5ex;\n",
       "  margin: .5ex;\n",
       "  width: min-content;\n",
       "  min-width: 20ex;\n",
       "  max-width: 50ex;\n",
       "  color: var(--sklearn-color-text);\n",
       "  box-shadow: 2pt 2pt 4pt #999;\n",
       "  /* unfitted */\n",
       "  background: var(--sklearn-color-unfitted-level-0);\n",
       "  border: .5pt solid var(--sklearn-color-unfitted-level-3);\n",
       "}\n",
       "\n",
       ".sk-estimator-doc-link.fitted span {\n",
       "  /* fitted */\n",
       "  background: var(--sklearn-color-fitted-level-0);\n",
       "  border: var(--sklearn-color-fitted-level-3);\n",
       "}\n",
       "\n",
       ".sk-estimator-doc-link:hover span {\n",
       "  display: block;\n",
       "}\n",
       "\n",
       "/* \"?\"-specific style due to the `<a>` HTML tag */\n",
       "\n",
       "#sk-container-id-2 a.estimator_doc_link {\n",
       "  float: right;\n",
       "  font-size: 1rem;\n",
       "  line-height: 1em;\n",
       "  font-family: monospace;\n",
       "  background-color: var(--sklearn-color-background);\n",
       "  border-radius: 1rem;\n",
       "  height: 1rem;\n",
       "  width: 1rem;\n",
       "  text-decoration: none;\n",
       "  /* unfitted */\n",
       "  color: var(--sklearn-color-unfitted-level-1);\n",
       "  border: var(--sklearn-color-unfitted-level-1) 1pt solid;\n",
       "}\n",
       "\n",
       "#sk-container-id-2 a.estimator_doc_link.fitted {\n",
       "  /* fitted */\n",
       "  border: var(--sklearn-color-fitted-level-1) 1pt solid;\n",
       "  color: var(--sklearn-color-fitted-level-1);\n",
       "}\n",
       "\n",
       "/* On hover */\n",
       "#sk-container-id-2 a.estimator_doc_link:hover {\n",
       "  /* unfitted */\n",
       "  background-color: var(--sklearn-color-unfitted-level-3);\n",
       "  color: var(--sklearn-color-background);\n",
       "  text-decoration: none;\n",
       "}\n",
       "\n",
       "#sk-container-id-2 a.estimator_doc_link.fitted:hover {\n",
       "  /* fitted */\n",
       "  background-color: var(--sklearn-color-fitted-level-3);\n",
       "}\n",
       "</style><div id=\"sk-container-id-2\" class=\"sk-top-container\"><div class=\"sk-text-repr-fallback\"><pre>Pipeline(steps=[(&#x27;preprocessor&#x27;,\n",
       "                 ColumnTransformer(remainder=&#x27;passthrough&#x27;,\n",
       "                                   transformers=[(&#x27;ohe&#x27;,\n",
       "                                                  Pipeline(steps=[(&#x27;simpleImputer_before_ohe_nan&#x27;,\n",
       "                                                                   SimpleImputer(fill_value=&#x27;Unknown&#x27;,\n",
       "                                                                                 strategy=&#x27;constant&#x27;)),\n",
       "                                                                  (&#x27;simpleImputer_before_ohe_zero&#x27;,\n",
       "                                                                   SimpleImputer(fill_value=&#x27;Unknown&#x27;,\n",
       "                                                                                 missing_values=0,\n",
       "                                                                                 strategy=&#x27;constant&#x27;)),\n",
       "                                                                  (&#x27;ohe&#x27;,\n",
       "                                                                   OneHotEncoder(drop=&#x27;first&#x27;,\n",
       "                                                                                 sparse_ou...\n",
       "                                                                  (&#x27;simpleImputer_before_ohe_zero&#x27;,\n",
       "                                                                   SimpleImputer(fill_value=&#x27;Unknown&#x27;,\n",
       "                                                                                 missing_values=&#x27;0&#x27;,\n",
       "                                                                                 strategy=&#x27;constant&#x27;)),\n",
       "                                                                  (&#x27;ohe&#x27;,\n",
       "                                                                   OneHotEncoder(drop=&#x27;first&#x27;,\n",
       "                                                                                 sparse_output=False)),\n",
       "                                                                  (&#x27;simpleImputer_after_ohe&#x27;,\n",
       "                                                                   SimpleImputer(strategy=&#x27;most_frequent&#x27;))]),\n",
       "                                                  [&#x27;RegistrationMonth&#x27;]),\n",
       "                                                 (&#x27;num&#x27;, StandardScaler(),\n",
       "                                                  [&#x27;RegistrationYear&#x27;, &#x27;Power&#x27;,\n",
       "                                                   &#x27;Kilometer&#x27;])])),\n",
       "                (&#x27;models&#x27;, LGBMRegressor(random_state=42, verbose=-1))])</pre><b>In a Jupyter environment, please rerun this cell to show the HTML representation or trust the notebook. <br />On GitHub, the HTML representation is unable to render, please try loading this page with nbviewer.org.</b></div><div class=\"sk-container\" hidden><div class=\"sk-item sk-dashed-wrapped\"><div class=\"sk-label-container\"><div class=\"sk-label  sk-toggleable\"><input class=\"sk-toggleable__control sk-hidden--visually\" id=\"sk-estimator-id-20\" type=\"checkbox\" ><label for=\"sk-estimator-id-20\" class=\"sk-toggleable__label  sk-toggleable__label-arrow\"><div><div>Pipeline</div></div><div><a class=\"sk-estimator-doc-link \" rel=\"noreferrer\" target=\"_blank\" href=\"https://scikit-learn.org/1.6/modules/generated/sklearn.pipeline.Pipeline.html\">?<span>Documentation for Pipeline</span></a><span class=\"sk-estimator-doc-link \">i<span>Not fitted</span></span></div></label><div class=\"sk-toggleable__content \"><pre>Pipeline(steps=[(&#x27;preprocessor&#x27;,\n",
       "                 ColumnTransformer(remainder=&#x27;passthrough&#x27;,\n",
       "                                   transformers=[(&#x27;ohe&#x27;,\n",
       "                                                  Pipeline(steps=[(&#x27;simpleImputer_before_ohe_nan&#x27;,\n",
       "                                                                   SimpleImputer(fill_value=&#x27;Unknown&#x27;,\n",
       "                                                                                 strategy=&#x27;constant&#x27;)),\n",
       "                                                                  (&#x27;simpleImputer_before_ohe_zero&#x27;,\n",
       "                                                                   SimpleImputer(fill_value=&#x27;Unknown&#x27;,\n",
       "                                                                                 missing_values=0,\n",
       "                                                                                 strategy=&#x27;constant&#x27;)),\n",
       "                                                                  (&#x27;ohe&#x27;,\n",
       "                                                                   OneHotEncoder(drop=&#x27;first&#x27;,\n",
       "                                                                                 sparse_ou...\n",
       "                                                                  (&#x27;simpleImputer_before_ohe_zero&#x27;,\n",
       "                                                                   SimpleImputer(fill_value=&#x27;Unknown&#x27;,\n",
       "                                                                                 missing_values=&#x27;0&#x27;,\n",
       "                                                                                 strategy=&#x27;constant&#x27;)),\n",
       "                                                                  (&#x27;ohe&#x27;,\n",
       "                                                                   OneHotEncoder(drop=&#x27;first&#x27;,\n",
       "                                                                                 sparse_output=False)),\n",
       "                                                                  (&#x27;simpleImputer_after_ohe&#x27;,\n",
       "                                                                   SimpleImputer(strategy=&#x27;most_frequent&#x27;))]),\n",
       "                                                  [&#x27;RegistrationMonth&#x27;]),\n",
       "                                                 (&#x27;num&#x27;, StandardScaler(),\n",
       "                                                  [&#x27;RegistrationYear&#x27;, &#x27;Power&#x27;,\n",
       "                                                   &#x27;Kilometer&#x27;])])),\n",
       "                (&#x27;models&#x27;, LGBMRegressor(random_state=42, verbose=-1))])</pre></div> </div></div><div class=\"sk-serial\"><div class=\"sk-item sk-dashed-wrapped\"><div class=\"sk-label-container\"><div class=\"sk-label  sk-toggleable\"><input class=\"sk-toggleable__control sk-hidden--visually\" id=\"sk-estimator-id-21\" type=\"checkbox\" ><label for=\"sk-estimator-id-21\" class=\"sk-toggleable__label  sk-toggleable__label-arrow\"><div><div>preprocessor: ColumnTransformer</div></div><div><a class=\"sk-estimator-doc-link \" rel=\"noreferrer\" target=\"_blank\" href=\"https://scikit-learn.org/1.6/modules/generated/sklearn.compose.ColumnTransformer.html\">?<span>Documentation for preprocessor: ColumnTransformer</span></a></div></label><div class=\"sk-toggleable__content \"><pre>ColumnTransformer(remainder=&#x27;passthrough&#x27;,\n",
       "                  transformers=[(&#x27;ohe&#x27;,\n",
       "                                 Pipeline(steps=[(&#x27;simpleImputer_before_ohe_nan&#x27;,\n",
       "                                                  SimpleImputer(fill_value=&#x27;Unknown&#x27;,\n",
       "                                                                strategy=&#x27;constant&#x27;)),\n",
       "                                                 (&#x27;simpleImputer_before_ohe_zero&#x27;,\n",
       "                                                  SimpleImputer(fill_value=&#x27;Unknown&#x27;,\n",
       "                                                                missing_values=0,\n",
       "                                                                strategy=&#x27;constant&#x27;)),\n",
       "                                                 (&#x27;ohe&#x27;,\n",
       "                                                  OneHotEncoder(drop=&#x27;first&#x27;,\n",
       "                                                                sparse_output=False)),\n",
       "                                                 (&#x27;simpleImputer_aft...\n",
       "                                                  SimpleImputer(fill_value=&#x27;Unknown&#x27;,\n",
       "                                                                strategy=&#x27;constant&#x27;)),\n",
       "                                                 (&#x27;simpleImputer_before_ohe_zero&#x27;,\n",
       "                                                  SimpleImputer(fill_value=&#x27;Unknown&#x27;,\n",
       "                                                                missing_values=&#x27;0&#x27;,\n",
       "                                                                strategy=&#x27;constant&#x27;)),\n",
       "                                                 (&#x27;ohe&#x27;,\n",
       "                                                  OneHotEncoder(drop=&#x27;first&#x27;,\n",
       "                                                                sparse_output=False)),\n",
       "                                                 (&#x27;simpleImputer_after_ohe&#x27;,\n",
       "                                                  SimpleImputer(strategy=&#x27;most_frequent&#x27;))]),\n",
       "                                 [&#x27;RegistrationMonth&#x27;]),\n",
       "                                (&#x27;num&#x27;, StandardScaler(),\n",
       "                                 [&#x27;RegistrationYear&#x27;, &#x27;Power&#x27;, &#x27;Kilometer&#x27;])])</pre></div> </div></div><div class=\"sk-parallel\"><div class=\"sk-parallel-item\"><div class=\"sk-item\"><div class=\"sk-label-container\"><div class=\"sk-label  sk-toggleable\"><input class=\"sk-toggleable__control sk-hidden--visually\" id=\"sk-estimator-id-22\" type=\"checkbox\" ><label for=\"sk-estimator-id-22\" class=\"sk-toggleable__label  sk-toggleable__label-arrow\"><div><div>ohe</div></div></label><div class=\"sk-toggleable__content \"><pre>[&#x27;VehicleType&#x27;, &#x27;Gearbox&#x27;, &#x27;FuelType&#x27;, &#x27;Brand&#x27;, &#x27;Repaired&#x27;]</pre></div> </div></div><div class=\"sk-serial\"><div class=\"sk-item\"><div class=\"sk-serial\"><div class=\"sk-item\"><div class=\"sk-estimator  sk-toggleable\"><input class=\"sk-toggleable__control sk-hidden--visually\" id=\"sk-estimator-id-23\" type=\"checkbox\" ><label for=\"sk-estimator-id-23\" class=\"sk-toggleable__label  sk-toggleable__label-arrow\"><div><div>SimpleImputer</div></div><div><a class=\"sk-estimator-doc-link \" rel=\"noreferrer\" target=\"_blank\" href=\"https://scikit-learn.org/1.6/modules/generated/sklearn.impute.SimpleImputer.html\">?<span>Documentation for SimpleImputer</span></a></div></label><div class=\"sk-toggleable__content \"><pre>SimpleImputer(fill_value=&#x27;Unknown&#x27;, strategy=&#x27;constant&#x27;)</pre></div> </div></div><div class=\"sk-item\"><div class=\"sk-estimator  sk-toggleable\"><input class=\"sk-toggleable__control sk-hidden--visually\" id=\"sk-estimator-id-24\" type=\"checkbox\" ><label for=\"sk-estimator-id-24\" class=\"sk-toggleable__label  sk-toggleable__label-arrow\"><div><div>SimpleImputer</div></div><div><a class=\"sk-estimator-doc-link \" rel=\"noreferrer\" target=\"_blank\" href=\"https://scikit-learn.org/1.6/modules/generated/sklearn.impute.SimpleImputer.html\">?<span>Documentation for SimpleImputer</span></a></div></label><div class=\"sk-toggleable__content \"><pre>SimpleImputer(fill_value=&#x27;Unknown&#x27;, missing_values=0, strategy=&#x27;constant&#x27;)</pre></div> </div></div><div class=\"sk-item\"><div class=\"sk-estimator  sk-toggleable\"><input class=\"sk-toggleable__control sk-hidden--visually\" id=\"sk-estimator-id-25\" type=\"checkbox\" ><label for=\"sk-estimator-id-25\" class=\"sk-toggleable__label  sk-toggleable__label-arrow\"><div><div>OneHotEncoder</div></div><div><a class=\"sk-estimator-doc-link \" rel=\"noreferrer\" target=\"_blank\" href=\"https://scikit-learn.org/1.6/modules/generated/sklearn.preprocessing.OneHotEncoder.html\">?<span>Documentation for OneHotEncoder</span></a></div></label><div class=\"sk-toggleable__content \"><pre>OneHotEncoder(drop=&#x27;first&#x27;, sparse_output=False)</pre></div> </div></div><div class=\"sk-item\"><div class=\"sk-estimator  sk-toggleable\"><input class=\"sk-toggleable__control sk-hidden--visually\" id=\"sk-estimator-id-26\" type=\"checkbox\" ><label for=\"sk-estimator-id-26\" class=\"sk-toggleable__label  sk-toggleable__label-arrow\"><div><div>SimpleImputer</div></div><div><a class=\"sk-estimator-doc-link \" rel=\"noreferrer\" target=\"_blank\" href=\"https://scikit-learn.org/1.6/modules/generated/sklearn.impute.SimpleImputer.html\">?<span>Documentation for SimpleImputer</span></a></div></label><div class=\"sk-toggleable__content \"><pre>SimpleImputer(strategy=&#x27;most_frequent&#x27;)</pre></div> </div></div></div></div></div></div></div><div class=\"sk-parallel-item\"><div class=\"sk-item\"><div class=\"sk-label-container\"><div class=\"sk-label  sk-toggleable\"><input class=\"sk-toggleable__control sk-hidden--visually\" id=\"sk-estimator-id-27\" type=\"checkbox\" ><label for=\"sk-estimator-id-27\" class=\"sk-toggleable__label  sk-toggleable__label-arrow\"><div><div>month</div></div></label><div class=\"sk-toggleable__content \"><pre>[&#x27;RegistrationMonth&#x27;]</pre></div> </div></div><div class=\"sk-serial\"><div class=\"sk-item\"><div class=\"sk-serial\"><div class=\"sk-item\"><div class=\"sk-estimator  sk-toggleable\"><input class=\"sk-toggleable__control sk-hidden--visually\" id=\"sk-estimator-id-28\" type=\"checkbox\" ><label for=\"sk-estimator-id-28\" class=\"sk-toggleable__label  sk-toggleable__label-arrow\"><div><div>&lt;lambda&gt;</div><div class=\"caption\">FunctionTransformer</div></div><div><a class=\"sk-estimator-doc-link \" rel=\"noreferrer\" target=\"_blank\" href=\"https://scikit-learn.org/1.6/modules/generated/sklearn.preprocessing.FunctionTransformer.html\">?<span>Documentation for FunctionTransformer</span></a></div></label><div class=\"sk-toggleable__content \"><pre>FunctionTransformer(func=&lt;function &lt;lambda&gt; at 0x2a27b3740&gt;)</pre></div> </div></div><div class=\"sk-item\"><div class=\"sk-estimator  sk-toggleable\"><input class=\"sk-toggleable__control sk-hidden--visually\" id=\"sk-estimator-id-29\" type=\"checkbox\" ><label for=\"sk-estimator-id-29\" class=\"sk-toggleable__label  sk-toggleable__label-arrow\"><div><div>SimpleImputer</div></div><div><a class=\"sk-estimator-doc-link \" rel=\"noreferrer\" target=\"_blank\" href=\"https://scikit-learn.org/1.6/modules/generated/sklearn.impute.SimpleImputer.html\">?<span>Documentation for SimpleImputer</span></a></div></label><div class=\"sk-toggleable__content \"><pre>SimpleImputer(fill_value=&#x27;Unknown&#x27;, strategy=&#x27;constant&#x27;)</pre></div> </div></div><div class=\"sk-item\"><div class=\"sk-estimator  sk-toggleable\"><input class=\"sk-toggleable__control sk-hidden--visually\" id=\"sk-estimator-id-30\" type=\"checkbox\" ><label for=\"sk-estimator-id-30\" class=\"sk-toggleable__label  sk-toggleable__label-arrow\"><div><div>SimpleImputer</div></div><div><a class=\"sk-estimator-doc-link \" rel=\"noreferrer\" target=\"_blank\" href=\"https://scikit-learn.org/1.6/modules/generated/sklearn.impute.SimpleImputer.html\">?<span>Documentation for SimpleImputer</span></a></div></label><div class=\"sk-toggleable__content \"><pre>SimpleImputer(fill_value=&#x27;Unknown&#x27;, missing_values=&#x27;0&#x27;, strategy=&#x27;constant&#x27;)</pre></div> </div></div><div class=\"sk-item\"><div class=\"sk-estimator  sk-toggleable\"><input class=\"sk-toggleable__control sk-hidden--visually\" id=\"sk-estimator-id-31\" type=\"checkbox\" ><label for=\"sk-estimator-id-31\" class=\"sk-toggleable__label  sk-toggleable__label-arrow\"><div><div>OneHotEncoder</div></div><div><a class=\"sk-estimator-doc-link \" rel=\"noreferrer\" target=\"_blank\" href=\"https://scikit-learn.org/1.6/modules/generated/sklearn.preprocessing.OneHotEncoder.html\">?<span>Documentation for OneHotEncoder</span></a></div></label><div class=\"sk-toggleable__content \"><pre>OneHotEncoder(drop=&#x27;first&#x27;, sparse_output=False)</pre></div> </div></div><div class=\"sk-item\"><div class=\"sk-estimator  sk-toggleable\"><input class=\"sk-toggleable__control sk-hidden--visually\" id=\"sk-estimator-id-32\" type=\"checkbox\" ><label for=\"sk-estimator-id-32\" class=\"sk-toggleable__label  sk-toggleable__label-arrow\"><div><div>SimpleImputer</div></div><div><a class=\"sk-estimator-doc-link \" rel=\"noreferrer\" target=\"_blank\" href=\"https://scikit-learn.org/1.6/modules/generated/sklearn.impute.SimpleImputer.html\">?<span>Documentation for SimpleImputer</span></a></div></label><div class=\"sk-toggleable__content \"><pre>SimpleImputer(strategy=&#x27;most_frequent&#x27;)</pre></div> </div></div></div></div></div></div></div><div class=\"sk-parallel-item\"><div class=\"sk-item\"><div class=\"sk-label-container\"><div class=\"sk-label  sk-toggleable\"><input class=\"sk-toggleable__control sk-hidden--visually\" id=\"sk-estimator-id-33\" type=\"checkbox\" ><label for=\"sk-estimator-id-33\" class=\"sk-toggleable__label  sk-toggleable__label-arrow\"><div><div>num</div></div></label><div class=\"sk-toggleable__content \"><pre>[&#x27;RegistrationYear&#x27;, &#x27;Power&#x27;, &#x27;Kilometer&#x27;]</pre></div> </div></div><div class=\"sk-serial\"><div class=\"sk-item\"><div class=\"sk-estimator  sk-toggleable\"><input class=\"sk-toggleable__control sk-hidden--visually\" id=\"sk-estimator-id-34\" type=\"checkbox\" ><label for=\"sk-estimator-id-34\" class=\"sk-toggleable__label  sk-toggleable__label-arrow\"><div><div>StandardScaler</div></div><div><a class=\"sk-estimator-doc-link \" rel=\"noreferrer\" target=\"_blank\" href=\"https://scikit-learn.org/1.6/modules/generated/sklearn.preprocessing.StandardScaler.html\">?<span>Documentation for StandardScaler</span></a></div></label><div class=\"sk-toggleable__content \"><pre>StandardScaler()</pre></div> </div></div></div></div></div><div class=\"sk-parallel-item\"><div class=\"sk-item\"><div class=\"sk-label-container\"><div class=\"sk-label  sk-toggleable\"><input class=\"sk-toggleable__control sk-hidden--visually\" id=\"sk-estimator-id-35\" type=\"checkbox\" ><label for=\"sk-estimator-id-35\" class=\"sk-toggleable__label  sk-toggleable__label-arrow\"><div><div>remainder</div></div></label><div class=\"sk-toggleable__content \"><pre></pre></div> </div></div><div class=\"sk-serial\"><div class=\"sk-item\"><div class=\"sk-estimator  sk-toggleable\"><input class=\"sk-toggleable__control sk-hidden--visually\" id=\"sk-estimator-id-36\" type=\"checkbox\" ><label for=\"sk-estimator-id-36\" class=\"sk-toggleable__label  sk-toggleable__label-arrow\"><div><div>passthrough</div></div></label><div class=\"sk-toggleable__content \"><pre>passthrough</pre></div> </div></div></div></div></div></div></div><div class=\"sk-item\"><div class=\"sk-estimator  sk-toggleable\"><input class=\"sk-toggleable__control sk-hidden--visually\" id=\"sk-estimator-id-37\" type=\"checkbox\" ><label for=\"sk-estimator-id-37\" class=\"sk-toggleable__label  sk-toggleable__label-arrow\"><div><div>LGBMRegressor</div></div></label><div class=\"sk-toggleable__content \"><pre>LGBMRegressor(random_state=42, verbose=-1)</pre></div> </div></div></div></div></div></div>"
      ]
     },
     "execution_count": 43,
     "metadata": {},
     "output_type": "execute_result"
    }
   ],
   "execution_count": 43
  },
  {
   "cell_type": "code",
   "metadata": {
    "ExecuteTime": {
     "end_time": "2025-06-19T13:12:44.706820Z",
     "start_time": "2025-06-19T13:12:43.221874Z"
    }
   },
   "source": [
    "start_time = time.time()\n",
    "second_best_model_pipeline.fit(X_train, y_train)\n",
    "fit_time = time.time() - start_time"
   ],
   "outputs": [],
   "execution_count": 44
  },
  {
   "cell_type": "code",
   "metadata": {
    "ExecuteTime": {
     "end_time": "2025-06-19T13:12:44.940098Z",
     "start_time": "2025-06-19T13:12:44.711265Z"
    }
   },
   "source": [
    "start_time = time.time()\n",
    "y_pred = second_best_model_pipeline.predict(X_test)\n",
    "predict_time = time.time() - start_time"
   ],
   "outputs": [],
   "execution_count": 45
  },
  {
   "cell_type": "code",
   "metadata": {
    "ExecuteTime": {
     "end_time": "2025-06-19T13:12:45.164070Z",
     "start_time": "2025-06-19T13:12:44.944169Z"
    }
   },
   "source": [
    "print(f'RMSE test: {(-1)*rmse_scorer(second_best_model_pipeline, X_test, y_test)} \\\n",
    "      \\nFit time: {fit_time} \\\n",
    "      \\nPredict time: {predict_time}')"
   ],
   "outputs": [
    {
     "name": "stdout",
     "output_type": "stream",
     "text": [
      "RMSE test: 1748.7633593447497       \n",
      "Fit time: 1.4832732677459717       \n",
      "Predict time: 0.22716712951660156\n"
     ]
    }
   ],
   "execution_count": 46
  },
  {
   "cell_type": "code",
   "metadata": {
    "ExecuteTime": {
     "end_time": "2025-06-19T13:12:45.176982Z",
     "start_time": "2025-06-19T13:12:45.172976Z"
    }
   },
   "source": [
    "dummy_regressor = DummyRegressor()\n",
    "dummy_regressor.fit(X_train, y_train)\n",
    "print('RMSE test, DummyRegressor:', (-1)*rmse_scorer(dummy_regressor, X_test, y_test))"
   ],
   "outputs": [
    {
     "name": "stdout",
     "output_type": "stream",
     "text": [
      "RMSE test, DummyRegressor: 4533.739137717185\n"
     ]
    }
   ],
   "execution_count": 47
  },
  {
   "cell_type": "markdown",
   "metadata": {},
   "source": [
    "The best model based on the metric value and training time is LGBMRegressor(n_estimators=30, random_state=42) with StandardScaler() for numerical preprocessing.\n",
    "\n",
    "The metric value on the test data is 1947.7.\n",
    "\n",
    "This found model significantly outperforms the DummyRegressor results."
   ]
  },
  {
   "metadata": {},
   "cell_type": "code",
   "outputs": [],
   "execution_count": null,
   "source": ""
  }
 ],
 "metadata": {
  "ExecuteTimeLog": [
   {
    "duration": 1440,
    "start_time": "2024-03-26T14:51:01.294Z"
   },
   {
    "duration": 3,
    "start_time": "2024-03-26T14:57:01.721Z"
   },
   {
    "duration": 2,
    "start_time": "2024-03-26T14:57:10.230Z"
   },
   {
    "duration": 2737,
    "start_time": "2024-03-26T14:57:31.708Z"
   },
   {
    "duration": 16,
    "start_time": "2024-03-26T14:57:50.447Z"
   },
   {
    "duration": 47376,
    "start_time": "2024-03-26T14:58:51.378Z"
   },
   {
    "duration": 4,
    "start_time": "2024-03-26T15:01:08.614Z"
   },
   {
    "duration": 342,
    "start_time": "2024-03-26T15:01:19.499Z"
   },
   {
    "duration": 1757,
    "start_time": "2024-03-27T12:41:44.290Z"
   },
   {
    "duration": 11,
    "start_time": "2024-03-27T12:41:54.573Z"
   },
   {
    "duration": 1539,
    "start_time": "2024-03-27T12:41:56.674Z"
   },
   {
    "duration": 3,
    "start_time": "2024-03-27T12:41:58.786Z"
   },
   {
    "duration": 1277,
    "start_time": "2024-03-27T12:41:59.759Z"
   },
   {
    "duration": 4,
    "start_time": "2024-03-27T12:42:01.554Z"
   },
   {
    "duration": 386,
    "start_time": "2024-03-27T12:42:02.489Z"
   },
   {
    "duration": 121,
    "start_time": "2024-03-27T13:15:26.101Z"
   },
   {
    "duration": 4,
    "start_time": "2024-03-27T13:25:51.934Z"
   },
   {
    "duration": 2,
    "start_time": "2024-03-27T13:25:54.369Z"
   },
   {
    "duration": 437,
    "start_time": "2024-03-27T13:25:54.842Z"
   },
   {
    "duration": 11,
    "start_time": "2024-03-27T13:26:55.191Z"
   },
   {
    "duration": 2185,
    "start_time": "2024-03-27T13:27:10.714Z"
   },
   {
    "duration": 10,
    "start_time": "2024-03-27T13:29:25.012Z"
   },
   {
    "duration": 9,
    "start_time": "2024-03-27T13:29:28.907Z"
   },
   {
    "duration": 2215,
    "start_time": "2024-03-27T13:29:33.832Z"
   },
   {
    "duration": 1160,
    "start_time": "2024-03-27T13:29:46.089Z"
   },
   {
    "duration": 3,
    "start_time": "2024-03-27T13:29:49.271Z"
   },
   {
    "duration": 232,
    "start_time": "2024-03-27T13:29:54.330Z"
   },
   {
    "duration": 17,
    "start_time": "2024-03-27T14:34:34.647Z"
   },
   {
    "duration": 6,
    "start_time": "2024-03-27T14:35:18.613Z"
   },
   {
    "duration": 4,
    "start_time": "2024-03-27T14:38:11.063Z"
   },
   {
    "duration": 1522,
    "start_time": "2024-03-27T14:40:08.451Z"
   },
   {
    "duration": 3,
    "start_time": "2024-03-27T14:40:09.975Z"
   },
   {
    "duration": 1177,
    "start_time": "2024-03-27T14:40:09.980Z"
   },
   {
    "duration": 4,
    "start_time": "2024-03-27T14:40:11.159Z"
   },
   {
    "duration": 299,
    "start_time": "2024-03-27T14:40:11.165Z"
   },
   {
    "duration": 24,
    "start_time": "2024-03-27T14:40:11.466Z"
   },
   {
    "duration": 13,
    "start_time": "2024-03-27T14:40:11.491Z"
   },
   {
    "duration": 1515,
    "start_time": "2024-03-27T14:41:24.344Z"
   },
   {
    "duration": 3,
    "start_time": "2024-03-27T14:41:25.861Z"
   },
   {
    "duration": 1189,
    "start_time": "2024-03-27T14:41:25.865Z"
   },
   {
    "duration": 3,
    "start_time": "2024-03-27T14:41:27.056Z"
   },
   {
    "duration": 293,
    "start_time": "2024-03-27T14:41:27.061Z"
   },
   {
    "duration": 24,
    "start_time": "2024-03-27T14:41:27.357Z"
   },
   {
    "duration": 7,
    "start_time": "2024-03-27T14:41:27.384Z"
   },
   {
    "duration": 21,
    "start_time": "2024-03-27T14:41:27.393Z"
   },
   {
    "duration": 1441,
    "start_time": "2024-03-27T14:43:16.322Z"
   },
   {
    "duration": 3,
    "start_time": "2024-03-27T14:43:18.390Z"
   },
   {
    "duration": 1155,
    "start_time": "2024-03-27T14:43:19.188Z"
   },
   {
    "duration": 4,
    "start_time": "2024-03-27T14:43:20.345Z"
   },
   {
    "duration": 287,
    "start_time": "2024-03-27T14:43:21.081Z"
   },
   {
    "duration": 14,
    "start_time": "2024-03-27T14:43:23.220Z"
   },
   {
    "duration": 4,
    "start_time": "2024-03-27T14:43:24.354Z"
   },
   {
    "duration": 3,
    "start_time": "2024-03-27T14:43:25.581Z"
   },
   {
    "duration": 4762,
    "start_time": "2024-03-27T14:43:32.235Z"
   },
   {
    "duration": 4340,
    "start_time": "2024-03-27T14:43:52.042Z"
   },
   {
    "duration": 110783,
    "start_time": "2024-03-27T14:46:19.349Z"
   },
   {
    "duration": 151,
    "start_time": "2024-03-27T15:12:06.965Z"
   },
   {
    "duration": 34,
    "start_time": "2024-03-27T15:12:21.091Z"
   },
   {
    "duration": 14,
    "start_time": "2024-03-27T15:16:00.812Z"
   },
   {
    "duration": 369,
    "start_time": "2024-03-27T15:16:06.845Z"
   },
   {
    "duration": 5,
    "start_time": "2024-03-27T15:18:42.447Z"
   },
   {
    "duration": 14,
    "start_time": "2024-03-27T15:19:16.914Z"
   },
   {
    "duration": 46,
    "start_time": "2024-03-27T15:19:54.351Z"
   },
   {
    "duration": 11,
    "start_time": "2024-03-27T15:22:01.102Z"
   },
   {
    "duration": 3634,
    "start_time": "2024-03-27T15:22:23.330Z"
   },
   {
    "duration": 1171,
    "start_time": "2024-03-27T15:22:30.428Z"
   },
   {
    "duration": 3358,
    "start_time": "2024-03-28T09:34:02.255Z"
   },
   {
    "duration": 1597,
    "start_time": "2024-03-28T09:34:06.333Z"
   },
   {
    "duration": 2,
    "start_time": "2024-03-28T09:34:08.477Z"
   },
   {
    "duration": 1321,
    "start_time": "2024-03-28T09:34:11.081Z"
   },
   {
    "duration": 4,
    "start_time": "2024-03-28T09:34:12.403Z"
   },
   {
    "duration": 285,
    "start_time": "2024-03-28T09:34:13.175Z"
   },
   {
    "duration": 14,
    "start_time": "2024-03-28T09:34:14.620Z"
   },
   {
    "duration": 5,
    "start_time": "2024-03-28T09:34:15.476Z"
   },
   {
    "duration": 3,
    "start_time": "2024-03-28T09:34:16.380Z"
   },
   {
    "duration": 44,
    "start_time": "2024-03-28T09:35:45.368Z"
   },
   {
    "duration": 1421,
    "start_time": "2024-03-28T09:35:58.494Z"
   },
   {
    "duration": 3,
    "start_time": "2024-03-28T09:36:00.549Z"
   },
   {
    "duration": 1095,
    "start_time": "2024-03-28T09:36:01.372Z"
   },
   {
    "duration": 3,
    "start_time": "2024-03-28T09:36:03.045Z"
   },
   {
    "duration": 259,
    "start_time": "2024-03-28T09:36:03.566Z"
   },
   {
    "duration": 22,
    "start_time": "2024-03-28T09:36:47.831Z"
   },
   {
    "duration": 4,
    "start_time": "2024-03-28T09:36:49.253Z"
   },
   {
    "duration": 3,
    "start_time": "2024-03-28T09:36:50.565Z"
   },
   {
    "duration": 6,
    "start_time": "2024-03-28T09:37:03.936Z"
   },
   {
    "duration": 1403,
    "start_time": "2024-03-28T09:40:36.171Z"
   },
   {
    "duration": 2,
    "start_time": "2024-03-28T09:40:37.576Z"
   },
   {
    "duration": 1026,
    "start_time": "2024-03-28T09:40:39.033Z"
   },
   {
    "duration": 4,
    "start_time": "2024-03-28T09:40:40.060Z"
   },
   {
    "duration": 7,
    "start_time": "2024-03-28T09:40:43.979Z"
   },
   {
    "duration": 5,
    "start_time": "2024-03-28T09:40:44.713Z"
   },
   {
    "duration": 3,
    "start_time": "2024-03-28T09:40:45.481Z"
   },
   {
    "duration": 23679,
    "start_time": "2024-03-28T09:41:06.955Z"
   },
   {
    "duration": 4985,
    "start_time": "2024-03-28T09:41:59.396Z"
   },
   {
    "duration": 306,
    "start_time": "2024-03-28T09:45:13.997Z"
   },
   {
    "duration": 102,
    "start_time": "2024-03-28T09:46:14.885Z"
   },
   {
    "duration": 7,
    "start_time": "2024-03-28T09:46:34.342Z"
   },
   {
    "duration": 15,
    "start_time": "2024-03-28T09:46:39.102Z"
   },
   {
    "duration": 92,
    "start_time": "2024-03-28T09:48:17.934Z"
   },
   {
    "duration": 7,
    "start_time": "2024-03-28T09:48:26.950Z"
   },
   {
    "duration": 303,
    "start_time": "2024-03-28T09:48:32.958Z"
   },
   {
    "duration": 7,
    "start_time": "2024-03-28T09:49:53.118Z"
   },
   {
    "duration": 2306,
    "start_time": "2024-03-28T09:49:57.232Z"
   },
   {
    "duration": 101679,
    "start_time": "2024-03-28T09:59:12.165Z"
   },
   {
    "duration": 4,
    "start_time": "2024-03-28T10:01:47.995Z"
   },
   {
    "duration": 311,
    "start_time": "2024-03-28T10:01:53.868Z"
   },
   {
    "duration": 367,
    "start_time": "2024-03-28T10:02:01.733Z"
   },
   {
    "duration": 1540,
    "start_time": "2024-03-28T10:08:27.383Z"
   },
   {
    "duration": 2,
    "start_time": "2024-03-28T10:08:29.774Z"
   },
   {
    "duration": 1357,
    "start_time": "2024-03-28T10:08:30.719Z"
   },
   {
    "duration": 3,
    "start_time": "2024-03-28T10:08:32.079Z"
   },
   {
    "duration": 307,
    "start_time": "2024-03-28T10:08:32.083Z"
   },
   {
    "duration": 6,
    "start_time": "2024-03-28T10:08:35.706Z"
   },
   {
    "duration": 4,
    "start_time": "2024-03-28T10:08:36.775Z"
   },
   {
    "duration": 5,
    "start_time": "2024-03-28T10:08:38.110Z"
   },
   {
    "duration": 27,
    "start_time": "2024-03-28T10:08:43.718Z"
   },
   {
    "duration": 365,
    "start_time": "2024-03-28T10:09:00.577Z"
   },
   {
    "duration": 1492,
    "start_time": "2024-03-28T10:12:27.241Z"
   },
   {
    "duration": 3,
    "start_time": "2024-03-28T10:12:29.294Z"
   },
   {
    "duration": 1094,
    "start_time": "2024-03-28T10:12:29.773Z"
   },
   {
    "duration": 3,
    "start_time": "2024-03-28T10:12:30.869Z"
   },
   {
    "duration": 325,
    "start_time": "2024-03-28T10:12:30.873Z"
   },
   {
    "duration": 6,
    "start_time": "2024-03-28T10:12:31.367Z"
   },
   {
    "duration": 4,
    "start_time": "2024-03-28T10:12:31.702Z"
   },
   {
    "duration": 3,
    "start_time": "2024-03-28T10:12:32.101Z"
   },
   {
    "duration": 1437,
    "start_time": "2024-03-28T10:12:46.947Z"
   },
   {
    "duration": 2,
    "start_time": "2024-03-28T10:12:49.249Z"
   },
   {
    "duration": 995,
    "start_time": "2024-03-28T10:12:52.022Z"
   },
   {
    "duration": 6,
    "start_time": "2024-03-28T10:12:59.442Z"
   },
   {
    "duration": 3,
    "start_time": "2024-03-28T10:12:59.715Z"
   },
   {
    "duration": 24,
    "start_time": "2024-03-28T10:14:13.822Z"
   },
   {
    "duration": 40,
    "start_time": "2024-03-28T10:14:26.867Z"
   },
   {
    "duration": 347,
    "start_time": "2024-03-28T10:14:36.337Z"
   },
   {
    "duration": 7035,
    "start_time": "2024-03-28T10:15:17.012Z"
   },
   {
    "duration": 21,
    "start_time": "2024-03-28T10:24:53.901Z"
   },
   {
    "duration": 2325,
    "start_time": "2024-03-28T10:30:48.143Z"
   },
   {
    "duration": 2643,
    "start_time": "2024-03-30T19:19:51.730Z"
   },
   {
    "duration": 1671,
    "start_time": "2024-03-30T19:19:57.774Z"
   },
   {
    "duration": 5230,
    "start_time": "2024-03-30T19:20:06.714Z"
   },
   {
    "duration": 36,
    "start_time": "2024-03-30T19:20:12.879Z"
   },
   {
    "duration": 2,
    "start_time": "2024-03-30T19:20:13.660Z"
   },
   {
    "duration": 1328,
    "start_time": "2024-03-30T19:20:14.667Z"
   },
   {
    "duration": 3,
    "start_time": "2024-03-30T19:20:16.700Z"
   },
   {
    "duration": 241,
    "start_time": "2024-03-30T19:20:17.556Z"
   },
   {
    "duration": 6,
    "start_time": "2024-03-30T19:20:18.742Z"
   },
   {
    "duration": 3,
    "start_time": "2024-03-30T19:20:19.153Z"
   },
   {
    "duration": 102729,
    "start_time": "2024-03-30T19:20:19.572Z"
   },
   {
    "duration": 5085,
    "start_time": "2024-03-30T19:22:02.303Z"
   },
   {
    "duration": 408,
    "start_time": "2024-03-30T19:23:21.500Z"
   },
   {
    "duration": 294,
    "start_time": "2024-03-30T19:23:41.666Z"
   },
   {
    "duration": 4,
    "start_time": "2024-03-30T19:23:42.724Z"
   },
   {
    "duration": 34,
    "start_time": "2024-03-30T19:23:43.599Z"
   },
   {
    "duration": 23,
    "start_time": "2024-03-30T19:25:07.571Z"
   },
   {
    "duration": 17,
    "start_time": "2024-03-30T19:25:26.623Z"
   },
   {
    "duration": 4,
    "start_time": "2024-03-30T19:25:45.060Z"
   },
   {
    "duration": 25,
    "start_time": "2024-03-30T19:27:11.470Z"
   },
   {
    "duration": 22,
    "start_time": "2024-03-30T19:27:23.242Z"
   },
   {
    "duration": 19,
    "start_time": "2024-03-30T19:29:37.714Z"
   },
   {
    "duration": 21,
    "start_time": "2024-03-30T19:29:47.021Z"
   },
   {
    "duration": 1601,
    "start_time": "2024-03-30T19:36:07.330Z"
   },
   {
    "duration": 471,
    "start_time": "2024-03-30T19:36:25.623Z"
   },
   {
    "duration": 42,
    "start_time": "2024-03-30T19:36:47.193Z"
   },
   {
    "duration": 22,
    "start_time": "2024-03-30T19:36:50.235Z"
   },
   {
    "duration": 47,
    "start_time": "2024-03-30T19:36:56.692Z"
   },
   {
    "duration": 87,
    "start_time": "2024-03-30T19:38:05.115Z"
   },
   {
    "duration": 134,
    "start_time": "2024-03-30T19:38:20.307Z"
   },
   {
    "duration": 73,
    "start_time": "2024-03-30T19:38:25.707Z"
   },
   {
    "duration": 71,
    "start_time": "2024-03-30T19:39:16.918Z"
   },
   {
    "duration": 85,
    "start_time": "2024-03-30T19:47:21.081Z"
   },
   {
    "duration": 101,
    "start_time": "2024-03-30T19:47:26.586Z"
   },
   {
    "duration": 26,
    "start_time": "2024-03-30T19:49:52.363Z"
   },
   {
    "duration": 25,
    "start_time": "2024-03-30T19:50:06.438Z"
   },
   {
    "duration": 25,
    "start_time": "2024-03-30T19:50:52.800Z"
   },
   {
    "duration": 43,
    "start_time": "2024-03-30T19:57:37.019Z"
   },
   {
    "duration": 52,
    "start_time": "2024-03-30T19:57:45.550Z"
   },
   {
    "duration": 55,
    "start_time": "2024-03-30T19:57:55.871Z"
   },
   {
    "duration": 288,
    "start_time": "2024-03-30T19:58:33.778Z"
   },
   {
    "duration": 328,
    "start_time": "2024-03-30T19:58:50.376Z"
   },
   {
    "duration": 305,
    "start_time": "2024-03-30T19:59:34.369Z"
   },
   {
    "duration": 37,
    "start_time": "2024-03-30T20:03:23.085Z"
   },
   {
    "duration": 4,
    "start_time": "2024-03-30T20:03:25.232Z"
   },
   {
    "duration": 360,
    "start_time": "2024-03-30T20:03:40.554Z"
   },
   {
    "duration": 7489,
    "start_time": "2024-03-30T20:03:48.812Z"
   },
   {
    "duration": 29,
    "start_time": "2024-03-30T20:05:38.945Z"
   },
   {
    "duration": 5398,
    "start_time": "2024-03-30T20:05:42.249Z"
   },
   {
    "duration": 11,
    "start_time": "2024-03-30T20:07:45.674Z"
   },
   {
    "duration": 158,
    "start_time": "2024-03-30T20:11:53.943Z"
   },
   {
    "duration": 4892,
    "start_time": "2024-03-30T20:15:02.937Z"
   },
   {
    "duration": 1417,
    "start_time": "2024-03-30T20:15:07.832Z"
   },
   {
    "duration": 2,
    "start_time": "2024-03-30T20:15:09.251Z"
   },
   {
    "duration": 1123,
    "start_time": "2024-03-30T20:15:09.255Z"
   },
   {
    "duration": 3,
    "start_time": "2024-03-30T20:15:10.381Z"
   },
   {
    "duration": 284,
    "start_time": "2024-03-30T20:15:10.386Z"
   },
   {
    "duration": 10,
    "start_time": "2024-03-30T20:15:10.671Z"
   },
   {
    "duration": 13,
    "start_time": "2024-03-30T20:15:10.683Z"
   },
   {
    "duration": 106928,
    "start_time": "2024-03-30T20:15:10.698Z"
   },
   {
    "duration": 124,
    "start_time": "2024-03-30T20:16:57.629Z"
   },
   {
    "duration": 1534,
    "start_time": "2024-03-30T20:16:57.755Z"
   },
   {
    "duration": 333,
    "start_time": "2024-03-30T20:16:59.291Z"
   },
   {
    "duration": 7,
    "start_time": "2024-03-30T20:16:59.627Z"
   },
   {
    "duration": 29,
    "start_time": "2024-03-30T20:16:59.636Z"
   },
   {
    "duration": 43,
    "start_time": "2024-03-30T20:17:52.117Z"
   },
   {
    "duration": 34,
    "start_time": "2024-03-30T20:18:17.321Z"
   },
   {
    "duration": 4,
    "start_time": "2024-03-30T20:18:18.258Z"
   },
   {
    "duration": 355,
    "start_time": "2024-03-30T20:18:23.331Z"
   },
   {
    "duration": 7053,
    "start_time": "2024-03-30T20:18:24.720Z"
   },
   {
    "duration": 23,
    "start_time": "2024-03-30T20:18:54.859Z"
   },
   {
    "duration": 5352,
    "start_time": "2024-03-30T20:18:55.389Z"
   },
   {
    "duration": 166,
    "start_time": "2024-03-30T20:19:03.174Z"
   },
   {
    "duration": 165,
    "start_time": "2024-03-30T20:19:28.658Z"
   },
   {
    "duration": 151,
    "start_time": "2024-03-30T20:20:39.711Z"
   },
   {
    "duration": 5,
    "start_time": "2024-03-30T20:22:08.582Z"
   },
   {
    "duration": 13,
    "start_time": "2024-03-30T20:22:16.460Z"
   },
   {
    "duration": 66,
    "start_time": "2024-03-30T20:25:08.562Z"
   },
   {
    "duration": 3,
    "start_time": "2024-03-30T20:28:11.966Z"
   },
   {
    "duration": 23,
    "start_time": "2024-03-30T20:32:43.168Z"
   },
   {
    "duration": 25,
    "start_time": "2024-03-30T20:33:11.536Z"
   },
   {
    "duration": 23,
    "start_time": "2024-03-30T20:36:11.502Z"
   },
   {
    "duration": 24,
    "start_time": "2024-03-30T20:36:19.216Z"
   },
   {
    "duration": 23,
    "start_time": "2024-03-30T20:36:41.518Z"
   },
   {
    "duration": 24,
    "start_time": "2024-03-30T20:36:57.855Z"
   },
   {
    "duration": 23,
    "start_time": "2024-03-30T20:37:07.666Z"
   },
   {
    "duration": 38,
    "start_time": "2024-03-30T20:37:14.990Z"
   },
   {
    "duration": 140,
    "start_time": "2024-03-30T20:38:16.359Z"
   },
   {
    "duration": 18,
    "start_time": "2024-03-30T20:39:34.870Z"
   },
   {
    "duration": 14,
    "start_time": "2024-03-30T20:39:42.051Z"
   },
   {
    "duration": 4,
    "start_time": "2024-03-30T20:40:07.643Z"
   },
   {
    "duration": 4,
    "start_time": "2024-03-30T20:50:09.259Z"
   },
   {
    "duration": 3,
    "start_time": "2024-03-30T20:52:56.695Z"
   },
   {
    "duration": 3,
    "start_time": "2024-03-30T20:52:57.272Z"
   },
   {
    "duration": 18,
    "start_time": "2024-03-30T20:55:57.350Z"
   },
   {
    "duration": 4,
    "start_time": "2024-03-30T20:56:46.177Z"
   },
   {
    "duration": 4,
    "start_time": "2024-03-30T20:56:47.582Z"
   },
   {
    "duration": 3,
    "start_time": "2024-03-30T20:56:52.519Z"
   },
   {
    "duration": 2,
    "start_time": "2024-03-30T20:57:01.826Z"
   },
   {
    "duration": 15,
    "start_time": "2024-03-30T20:59:12.781Z"
   },
   {
    "duration": 5,
    "start_time": "2024-03-30T20:59:43.883Z"
   },
   {
    "duration": 4,
    "start_time": "2024-03-30T20:59:54.301Z"
   },
   {
    "duration": 5,
    "start_time": "2024-03-30T21:00:18.812Z"
   },
   {
    "duration": 12,
    "start_time": "2024-03-30T21:00:51.318Z"
   },
   {
    "duration": 7,
    "start_time": "2024-03-30T21:01:10.017Z"
   },
   {
    "duration": 4,
    "start_time": "2024-03-30T21:01:21.973Z"
   },
   {
    "duration": 11,
    "start_time": "2024-03-30T21:09:58.071Z"
   },
   {
    "duration": 5,
    "start_time": "2024-03-30T21:10:38.921Z"
   },
   {
    "duration": 3,
    "start_time": "2024-03-30T21:10:45.345Z"
   },
   {
    "duration": 3,
    "start_time": "2024-03-30T21:10:51.250Z"
   },
   {
    "duration": 3,
    "start_time": "2024-03-30T21:11:11.024Z"
   },
   {
    "duration": 1462,
    "start_time": "2024-03-30T21:11:25.739Z"
   },
   {
    "duration": 5,
    "start_time": "2024-03-30T21:12:30.032Z"
   },
   {
    "duration": 4,
    "start_time": "2024-03-30T21:13:16.959Z"
   },
   {
    "duration": 5,
    "start_time": "2024-03-30T21:13:20.512Z"
   },
   {
    "duration": 3,
    "start_time": "2024-03-30T21:13:20.984Z"
   },
   {
    "duration": 4,
    "start_time": "2024-03-30T21:13:21.568Z"
   },
   {
    "duration": 3,
    "start_time": "2024-03-30T21:13:22.535Z"
   },
   {
    "duration": 3,
    "start_time": "2024-03-30T21:13:23.060Z"
   },
   {
    "duration": 3,
    "start_time": "2024-03-30T21:13:24.670Z"
   },
   {
    "duration": 3,
    "start_time": "2024-03-30T21:13:25.410Z"
   },
   {
    "duration": 285,
    "start_time": "2024-03-30T21:13:25.742Z"
   },
   {
    "duration": 4,
    "start_time": "2024-03-30T21:19:45.745Z"
   },
   {
    "duration": 3,
    "start_time": "2024-03-30T21:19:46.582Z"
   },
   {
    "duration": 3,
    "start_time": "2024-03-30T21:19:47.473Z"
   },
   {
    "duration": 3,
    "start_time": "2024-03-30T21:19:48.200Z"
   },
   {
    "duration": 3,
    "start_time": "2024-03-30T21:19:48.795Z"
   },
   {
    "duration": 4,
    "start_time": "2024-03-30T21:19:49.207Z"
   },
   {
    "duration": 2,
    "start_time": "2024-03-30T21:19:49.705Z"
   },
   {
    "duration": 255,
    "start_time": "2024-03-30T21:19:50.071Z"
   },
   {
    "duration": 4,
    "start_time": "2024-03-30T21:22:10.079Z"
   },
   {
    "duration": 3,
    "start_time": "2024-03-30T21:22:22.855Z"
   },
   {
    "duration": 3,
    "start_time": "2024-03-30T21:22:23.569Z"
   },
   {
    "duration": 3,
    "start_time": "2024-03-30T21:22:24.460Z"
   },
   {
    "duration": 4,
    "start_time": "2024-03-30T21:22:25.203Z"
   },
   {
    "duration": 4,
    "start_time": "2024-03-30T21:22:25.724Z"
   },
   {
    "duration": 3,
    "start_time": "2024-03-30T21:22:26.219Z"
   },
   {
    "duration": 279,
    "start_time": "2024-03-30T21:22:26.633Z"
   },
   {
    "duration": 4,
    "start_time": "2024-03-30T21:22:55.141Z"
   },
   {
    "duration": 5,
    "start_time": "2024-03-30T21:22:55.727Z"
   },
   {
    "duration": 5,
    "start_time": "2024-03-30T21:22:56.028Z"
   },
   {
    "duration": 3,
    "start_time": "2024-03-30T21:22:56.367Z"
   },
   {
    "duration": 3,
    "start_time": "2024-03-30T21:22:56.766Z"
   },
   {
    "duration": 5,
    "start_time": "2024-03-30T21:22:57.141Z"
   },
   {
    "duration": 3,
    "start_time": "2024-03-30T21:22:57.538Z"
   },
   {
    "duration": 307,
    "start_time": "2024-03-30T21:22:58.058Z"
   },
   {
    "duration": 4,
    "start_time": "2024-03-30T21:24:25.187Z"
   },
   {
    "duration": 4,
    "start_time": "2024-03-30T21:24:26.267Z"
   },
   {
    "duration": 4,
    "start_time": "2024-03-30T21:24:26.608Z"
   },
   {
    "duration": 3,
    "start_time": "2024-03-30T21:24:26.834Z"
   },
   {
    "duration": 3,
    "start_time": "2024-03-30T21:24:27.195Z"
   },
   {
    "duration": 4,
    "start_time": "2024-03-30T21:24:27.683Z"
   },
   {
    "duration": 2,
    "start_time": "2024-03-30T21:24:28.061Z"
   },
   {
    "duration": 731,
    "start_time": "2024-03-30T21:24:28.379Z"
   },
   {
    "duration": 3,
    "start_time": "2024-03-30T21:39:28.604Z"
   },
   {
    "duration": 4,
    "start_time": "2024-03-30T21:39:42.205Z"
   },
   {
    "duration": 3,
    "start_time": "2024-03-30T21:39:56.950Z"
   },
   {
    "duration": 4,
    "start_time": "2024-03-30T21:41:10.928Z"
   },
   {
    "duration": 3,
    "start_time": "2024-03-30T21:41:15.583Z"
   },
   {
    "duration": 3,
    "start_time": "2024-03-30T21:41:16.076Z"
   },
   {
    "duration": 3,
    "start_time": "2024-03-30T21:41:16.598Z"
   },
   {
    "duration": 2,
    "start_time": "2024-03-30T21:41:16.999Z"
   },
   {
    "duration": 579,
    "start_time": "2024-03-30T21:41:17.443Z"
   },
   {
    "duration": 4,
    "start_time": "2024-03-30T21:48:39.631Z"
   },
   {
    "duration": 3,
    "start_time": "2024-03-30T21:50:06.151Z"
   },
   {
    "duration": 5,
    "start_time": "2024-03-30T21:50:07.098Z"
   },
   {
    "duration": 3,
    "start_time": "2024-03-30T21:50:07.987Z"
   },
   {
    "duration": 3,
    "start_time": "2024-03-30T21:50:28.556Z"
   },
   {
    "duration": 3,
    "start_time": "2024-03-30T21:50:29.500Z"
   },
   {
    "duration": 3,
    "start_time": "2024-03-30T21:50:30.544Z"
   },
   {
    "duration": 4,
    "start_time": "2024-03-30T21:50:30.985Z"
   },
   {
    "duration": 3,
    "start_time": "2024-03-30T21:50:32.544Z"
   },
   {
    "duration": 825,
    "start_time": "2024-03-30T21:50:32.908Z"
   },
   {
    "duration": 4,
    "start_time": "2024-03-30T21:58:46.695Z"
   },
   {
    "duration": 12,
    "start_time": "2024-03-30T21:58:46.881Z"
   },
   {
    "duration": 5,
    "start_time": "2024-03-30T21:59:53.797Z"
   },
   {
    "duration": 3,
    "start_time": "2024-03-30T22:00:11.547Z"
   },
   {
    "duration": 5,
    "start_time": "2024-03-30T22:00:12.977Z"
   },
   {
    "duration": 5,
    "start_time": "2024-03-30T22:00:17.324Z"
   },
   {
    "duration": 3,
    "start_time": "2024-03-30T22:01:11.794Z"
   },
   {
    "duration": 3,
    "start_time": "2024-03-30T22:01:12.580Z"
   },
   {
    "duration": 3,
    "start_time": "2024-03-30T22:01:12.857Z"
   },
   {
    "duration": 4,
    "start_time": "2024-03-30T22:01:13.262Z"
   },
   {
    "duration": 3,
    "start_time": "2024-03-30T22:01:14.092Z"
   },
   {
    "duration": 649,
    "start_time": "2024-03-30T22:01:14.540Z"
   },
   {
    "duration": 6,
    "start_time": "2024-03-30T22:01:46.456Z"
   },
   {
    "duration": 4,
    "start_time": "2024-03-30T22:01:54.936Z"
   },
   {
    "duration": 4,
    "start_time": "2024-03-30T22:01:55.334Z"
   },
   {
    "duration": 3,
    "start_time": "2024-03-30T22:01:55.745Z"
   },
   {
    "duration": 4,
    "start_time": "2024-03-30T22:01:56.076Z"
   },
   {
    "duration": 3,
    "start_time": "2024-03-30T22:01:56.381Z"
   },
   {
    "duration": 4,
    "start_time": "2024-03-30T22:01:56.759Z"
   },
   {
    "duration": 4,
    "start_time": "2024-03-30T22:01:57.315Z"
   },
   {
    "duration": 4,
    "start_time": "2024-03-30T22:01:57.608Z"
   },
   {
    "duration": 619,
    "start_time": "2024-03-30T22:01:57.977Z"
   },
   {
    "duration": 3,
    "start_time": "2024-03-30T22:03:45.323Z"
   },
   {
    "duration": 4,
    "start_time": "2024-03-30T22:03:49.662Z"
   },
   {
    "duration": 5,
    "start_time": "2024-03-30T22:03:49.916Z"
   },
   {
    "duration": 3,
    "start_time": "2024-03-30T22:03:50.531Z"
   },
   {
    "duration": 3,
    "start_time": "2024-03-30T22:03:53.462Z"
   },
   {
    "duration": 3,
    "start_time": "2024-03-30T22:03:53.687Z"
   },
   {
    "duration": 3,
    "start_time": "2024-03-30T22:03:57.787Z"
   },
   {
    "duration": 3,
    "start_time": "2024-03-30T22:04:06.792Z"
   },
   {
    "duration": 3,
    "start_time": "2024-03-30T22:04:07.409Z"
   },
   {
    "duration": 4,
    "start_time": "2024-03-30T22:04:07.813Z"
   },
   {
    "duration": 3,
    "start_time": "2024-03-30T22:04:08.262Z"
   },
   {
    "duration": 3,
    "start_time": "2024-03-30T22:04:08.832Z"
   },
   {
    "duration": 576,
    "start_time": "2024-03-30T22:04:09.692Z"
   },
   {
    "duration": 3,
    "start_time": "2024-03-30T22:07:18.052Z"
   },
   {
    "duration": 4,
    "start_time": "2024-03-30T22:07:33.744Z"
   },
   {
    "duration": 7,
    "start_time": "2024-03-30T22:07:34.179Z"
   },
   {
    "duration": 4,
    "start_time": "2024-03-30T22:07:39.196Z"
   },
   {
    "duration": 3,
    "start_time": "2024-03-30T22:07:39.395Z"
   },
   {
    "duration": 3,
    "start_time": "2024-03-30T22:07:39.687Z"
   },
   {
    "duration": 4,
    "start_time": "2024-03-30T22:07:40.020Z"
   },
   {
    "duration": 2,
    "start_time": "2024-03-30T22:07:40.340Z"
   },
   {
    "duration": 691,
    "start_time": "2024-03-30T22:07:40.925Z"
   },
   {
    "duration": 5,
    "start_time": "2024-03-30T22:08:50.013Z"
   },
   {
    "duration": 7,
    "start_time": "2024-03-30T22:08:50.487Z"
   },
   {
    "duration": 3,
    "start_time": "2024-03-30T22:08:50.725Z"
   },
   {
    "duration": 4,
    "start_time": "2024-03-30T22:08:50.935Z"
   },
   {
    "duration": 4,
    "start_time": "2024-03-30T22:08:51.201Z"
   },
   {
    "duration": 4,
    "start_time": "2024-03-30T22:08:51.699Z"
   },
   {
    "duration": 4,
    "start_time": "2024-03-30T22:08:52.287Z"
   },
   {
    "duration": 3,
    "start_time": "2024-03-30T22:08:52.820Z"
   },
   {
    "duration": 5334,
    "start_time": "2024-03-30T22:09:59.729Z"
   },
   {
    "duration": 1605,
    "start_time": "2024-03-30T22:10:05.065Z"
   },
   {
    "duration": 3,
    "start_time": "2024-03-30T22:10:06.672Z"
   },
   {
    "duration": 1175,
    "start_time": "2024-03-30T22:10:06.677Z"
   },
   {
    "duration": 3,
    "start_time": "2024-03-30T22:10:07.855Z"
   },
   {
    "duration": 323,
    "start_time": "2024-03-30T22:10:07.860Z"
   },
   {
    "duration": 10,
    "start_time": "2024-03-30T22:10:08.186Z"
   },
   {
    "duration": 13,
    "start_time": "2024-03-30T22:10:08.199Z"
   },
   {
    "duration": 117417,
    "start_time": "2024-03-30T22:10:08.214Z"
   },
   {
    "duration": 152,
    "start_time": "2024-03-30T22:12:05.633Z"
   },
   {
    "duration": 37,
    "start_time": "2024-03-30T22:12:05.787Z"
   },
   {
    "duration": 24,
    "start_time": "2024-03-30T22:12:05.825Z"
   },
   {
    "duration": 1655,
    "start_time": "2024-03-30T22:12:05.851Z"
   },
   {
    "duration": 339,
    "start_time": "2024-03-30T22:12:07.509Z"
   },
   {
    "duration": 4,
    "start_time": "2024-03-30T22:12:07.850Z"
   },
   {
    "duration": 54,
    "start_time": "2024-03-30T22:12:07.856Z"
   },
   {
    "duration": 46,
    "start_time": "2024-03-30T22:12:07.911Z"
   },
   {
    "duration": 56,
    "start_time": "2024-03-30T22:12:07.959Z"
   },
   {
    "duration": 4,
    "start_time": "2024-03-30T22:12:08.017Z"
   },
   {
    "duration": 406,
    "start_time": "2024-03-30T22:12:08.023Z"
   },
   {
    "duration": 8024,
    "start_time": "2024-03-30T22:12:08.430Z"
   },
   {
    "duration": 26,
    "start_time": "2024-03-30T22:12:16.456Z"
   },
   {
    "duration": 6131,
    "start_time": "2024-03-30T22:12:16.483Z"
   },
   {
    "duration": 172,
    "start_time": "2024-03-30T22:12:22.615Z"
   },
   {
    "duration": 196,
    "start_time": "2024-03-30T22:12:22.789Z"
   },
   {
    "duration": 17,
    "start_time": "2024-03-30T22:12:22.987Z"
   },
   {
    "duration": 26,
    "start_time": "2024-03-30T22:12:23.006Z"
   },
   {
    "duration": 31,
    "start_time": "2024-03-30T22:12:23.034Z"
   },
   {
    "duration": 113,
    "start_time": "2024-03-30T22:12:23.067Z"
   },
   {
    "duration": 6,
    "start_time": "2024-03-30T22:12:45.897Z"
   },
   {
    "duration": 8,
    "start_time": "2024-03-30T22:13:46.396Z"
   },
   {
    "duration": 4,
    "start_time": "2024-03-30T22:14:14.637Z"
   },
   {
    "duration": 127,
    "start_time": "2024-03-30T22:14:31.445Z"
   },
   {
    "duration": 69,
    "start_time": "2024-03-30T22:14:31.763Z"
   },
   {
    "duration": 10,
    "start_time": "2024-03-30T22:14:38.058Z"
   },
   {
    "duration": 3,
    "start_time": "2024-03-30T22:14:42.419Z"
   },
   {
    "duration": 4,
    "start_time": "2024-03-30T22:14:43.231Z"
   },
   {
    "duration": 4,
    "start_time": "2024-03-30T22:14:43.731Z"
   },
   {
    "duration": 4,
    "start_time": "2024-03-30T22:14:44.421Z"
   },
   {
    "duration": 4,
    "start_time": "2024-03-30T22:14:44.984Z"
   },
   {
    "duration": 4,
    "start_time": "2024-03-30T22:14:46.200Z"
   },
   {
    "duration": 4,
    "start_time": "2024-03-30T22:14:47.102Z"
   },
   {
    "duration": 5,
    "start_time": "2024-03-30T22:14:47.803Z"
   },
   {
    "duration": 3,
    "start_time": "2024-03-30T22:14:48.728Z"
   },
   {
    "duration": 325,
    "start_time": "2024-03-30T22:14:52.959Z"
   },
   {
    "duration": 3,
    "start_time": "2024-03-30T22:15:45.911Z"
   },
   {
    "duration": 4,
    "start_time": "2024-03-30T22:15:46.460Z"
   },
   {
    "duration": 4,
    "start_time": "2024-03-30T22:16:23.940Z"
   },
   {
    "duration": 4,
    "start_time": "2024-03-30T22:16:24.307Z"
   },
   {
    "duration": 4,
    "start_time": "2024-03-30T22:16:24.896Z"
   },
   {
    "duration": 4,
    "start_time": "2024-03-30T22:16:25.371Z"
   },
   {
    "duration": 3,
    "start_time": "2024-03-30T22:16:25.757Z"
   },
   {
    "duration": 3,
    "start_time": "2024-03-30T22:16:26.420Z"
   },
   {
    "duration": 4,
    "start_time": "2024-03-30T22:16:26.977Z"
   },
   {
    "duration": 3,
    "start_time": "2024-03-30T22:16:27.541Z"
   },
   {
    "duration": 187,
    "start_time": "2024-03-30T22:16:28.352Z"
   },
   {
    "duration": 4,
    "start_time": "2024-03-30T22:17:10.952Z"
   },
   {
    "duration": 6,
    "start_time": "2024-03-30T22:17:11.194Z"
   },
   {
    "duration": 3,
    "start_time": "2024-03-30T22:17:11.407Z"
   },
   {
    "duration": 5,
    "start_time": "2024-03-30T22:17:11.802Z"
   },
   {
    "duration": 3,
    "start_time": "2024-03-30T22:17:13.812Z"
   },
   {
    "duration": 3,
    "start_time": "2024-03-30T22:17:14.956Z"
   },
   {
    "duration": 3,
    "start_time": "2024-03-30T22:17:15.470Z"
   },
   {
    "duration": 3,
    "start_time": "2024-03-30T22:17:16.066Z"
   },
   {
    "duration": 5021,
    "start_time": "2024-03-30T22:35:50.253Z"
   },
   {
    "duration": 1523,
    "start_time": "2024-03-30T22:35:55.277Z"
   },
   {
    "duration": 2,
    "start_time": "2024-03-30T22:35:57.473Z"
   },
   {
    "duration": 1113,
    "start_time": "2024-03-30T22:35:58.375Z"
   },
   {
    "duration": 3,
    "start_time": "2024-03-30T22:35:59.490Z"
   },
   {
    "duration": 271,
    "start_time": "2024-03-30T22:35:59.587Z"
   },
   {
    "duration": 3,
    "start_time": "2024-03-30T22:36:06.257Z"
   },
   {
    "duration": 5,
    "start_time": "2024-03-30T22:36:16.874Z"
   },
   {
    "duration": 31,
    "start_time": "2024-03-30T22:36:17.286Z"
   },
   {
    "duration": 49,
    "start_time": "2024-03-30T22:36:18.242Z"
   },
   {
    "duration": 36,
    "start_time": "2024-03-30T22:36:19.090Z"
   },
   {
    "duration": 4,
    "start_time": "2024-03-30T22:36:19.339Z"
   },
   {
    "duration": 411,
    "start_time": "2024-03-30T22:36:19.530Z"
   },
   {
    "duration": 7347,
    "start_time": "2024-03-30T22:36:19.943Z"
   },
   {
    "duration": 16,
    "start_time": "2024-03-30T22:36:27.292Z"
   },
   {
    "duration": 5450,
    "start_time": "2024-03-30T22:36:27.309Z"
   },
   {
    "duration": 193,
    "start_time": "2024-03-30T22:36:32.761Z"
   },
   {
    "duration": 200,
    "start_time": "2024-03-30T22:36:32.956Z"
   },
   {
    "duration": 11,
    "start_time": "2024-03-30T22:36:36.533Z"
   },
   {
    "duration": 5,
    "start_time": "2024-03-30T22:36:37.660Z"
   },
   {
    "duration": 13,
    "start_time": "2024-03-30T22:36:38.360Z"
   },
   {
    "duration": 84,
    "start_time": "2024-03-30T22:36:38.911Z"
   },
   {
    "duration": 5,
    "start_time": "2024-03-30T22:36:41.127Z"
   },
   {
    "duration": 4,
    "start_time": "2024-03-30T22:36:44.045Z"
   },
   {
    "duration": 4,
    "start_time": "2024-03-30T22:36:52.956Z"
   },
   {
    "duration": 4,
    "start_time": "2024-03-30T22:36:53.272Z"
   },
   {
    "duration": 3,
    "start_time": "2024-03-30T22:36:57.025Z"
   },
   {
    "duration": 3,
    "start_time": "2024-03-30T22:37:09.088Z"
   },
   {
    "duration": 3,
    "start_time": "2024-03-30T22:37:09.474Z"
   },
   {
    "duration": 5,
    "start_time": "2024-03-30T22:39:42.000Z"
   },
   {
    "duration": 3,
    "start_time": "2024-03-30T22:39:42.637Z"
   },
   {
    "duration": 1612,
    "start_time": "2024-03-30T23:00:22.079Z"
   },
   {
    "duration": 2,
    "start_time": "2024-03-30T23:00:23.717Z"
   },
   {
    "duration": 1264,
    "start_time": "2024-03-30T23:00:24.564Z"
   },
   {
    "duration": 3,
    "start_time": "2024-03-30T23:00:25.830Z"
   },
   {
    "duration": 301,
    "start_time": "2024-03-30T23:00:25.835Z"
   },
   {
    "duration": 9,
    "start_time": "2024-03-30T23:00:26.138Z"
   },
   {
    "duration": 3,
    "start_time": "2024-03-30T23:00:27.010Z"
   },
   {
    "duration": 53,
    "start_time": "2024-03-30T23:00:36.495Z"
   },
   {
    "duration": 41,
    "start_time": "2024-03-30T23:00:37.490Z"
   },
   {
    "duration": 4,
    "start_time": "2024-03-30T23:00:37.867Z"
   },
   {
    "duration": 391,
    "start_time": "2024-03-30T23:00:38.198Z"
   },
   {
    "duration": 8397,
    "start_time": "2024-03-30T23:00:38.598Z"
   },
   {
    "duration": 18,
    "start_time": "2024-03-30T23:00:46.998Z"
   },
   {
    "duration": 5916,
    "start_time": "2024-03-30T23:00:47.017Z"
   },
   {
    "duration": 216,
    "start_time": "2024-03-30T23:00:52.935Z"
   },
   {
    "duration": 182,
    "start_time": "2024-03-30T23:00:53.153Z"
   },
   {
    "duration": 10,
    "start_time": "2024-03-30T23:00:54.214Z"
   },
   {
    "duration": 8,
    "start_time": "2024-03-30T23:00:55.586Z"
   },
   {
    "duration": 15,
    "start_time": "2024-03-30T23:00:56.029Z"
   },
   {
    "duration": 92,
    "start_time": "2024-03-30T23:00:56.420Z"
   },
   {
    "duration": 4,
    "start_time": "2024-03-30T23:00:56.824Z"
   },
   {
    "duration": 2,
    "start_time": "2024-03-30T23:00:57.667Z"
   },
   {
    "duration": 6,
    "start_time": "2024-03-30T23:00:58.394Z"
   },
   {
    "duration": 4,
    "start_time": "2024-03-30T23:00:59.669Z"
   },
   {
    "duration": 3,
    "start_time": "2024-03-30T23:01:00.702Z"
   },
   {
    "duration": 3,
    "start_time": "2024-03-30T23:01:01.515Z"
   },
   {
    "duration": 3,
    "start_time": "2024-03-30T23:01:02.688Z"
   },
   {
    "duration": 3,
    "start_time": "2024-03-30T23:01:03.662Z"
   },
   {
    "duration": 3,
    "start_time": "2024-03-30T23:01:07.932Z"
   },
   {
    "duration": 3,
    "start_time": "2024-03-30T23:01:08.611Z"
   },
   {
    "duration": 112739,
    "start_time": "2024-03-30T23:01:09.796Z"
   },
   {
    "duration": 6,
    "start_time": "2024-03-30T23:03:26.704Z"
   },
   {
    "duration": 22,
    "start_time": "2024-03-30T23:04:00.863Z"
   },
   {
    "duration": 4,
    "start_time": "2024-03-30T23:05:19.321Z"
   },
   {
    "duration": 1535,
    "start_time": "2024-03-30T23:12:08.073Z"
   },
   {
    "duration": 3,
    "start_time": "2024-03-30T23:12:09.614Z"
   },
   {
    "duration": 1225,
    "start_time": "2024-03-30T23:12:09.798Z"
   },
   {
    "duration": 4,
    "start_time": "2024-03-30T23:12:11.024Z"
   },
   {
    "duration": 324,
    "start_time": "2024-03-30T23:12:11.030Z"
   },
   {
    "duration": 6,
    "start_time": "2024-03-30T23:12:11.356Z"
   },
   {
    "duration": 3,
    "start_time": "2024-03-30T23:12:12.714Z"
   },
   {
    "duration": 57,
    "start_time": "2024-03-30T23:12:20.925Z"
   },
   {
    "duration": 42,
    "start_time": "2024-03-30T23:12:22.647Z"
   },
   {
    "duration": 5,
    "start_time": "2024-03-30T23:12:23.493Z"
   },
   {
    "duration": 25,
    "start_time": "2024-03-30T23:12:34.562Z"
   },
   {
    "duration": 204,
    "start_time": "2024-03-30T23:12:37.591Z"
   },
   {
    "duration": 233,
    "start_time": "2024-03-30T23:12:38.449Z"
   },
   {
    "duration": 12,
    "start_time": "2024-03-30T23:12:41.018Z"
   },
   {
    "duration": 4,
    "start_time": "2024-03-30T23:12:43.006Z"
   },
   {
    "duration": 11,
    "start_time": "2024-03-30T23:12:43.816Z"
   },
   {
    "duration": 87,
    "start_time": "2024-03-30T23:12:44.651Z"
   },
   {
    "duration": 5,
    "start_time": "2024-03-30T23:12:45.374Z"
   },
   {
    "duration": 3,
    "start_time": "2024-03-30T23:12:47.041Z"
   },
   {
    "duration": 4,
    "start_time": "2024-03-30T23:18:01.340Z"
   },
   {
    "duration": 116,
    "start_time": "2024-03-30T23:18:06.416Z"
   },
   {
    "duration": 3,
    "start_time": "2024-03-30T23:18:20.193Z"
   },
   {
    "duration": 4,
    "start_time": "2024-03-30T23:18:21.213Z"
   },
   {
    "duration": 4,
    "start_time": "2024-03-30T23:18:21.959Z"
   },
   {
    "duration": 3,
    "start_time": "2024-03-30T23:18:22.178Z"
   },
   {
    "duration": 3,
    "start_time": "2024-03-30T23:18:22.934Z"
   },
   {
    "duration": 3,
    "start_time": "2024-03-30T23:18:23.605Z"
   },
   {
    "duration": 3,
    "start_time": "2024-03-30T23:18:24.645Z"
   },
   {
    "duration": 3,
    "start_time": "2024-03-30T23:18:25.520Z"
   },
   {
    "duration": 3,
    "start_time": "2024-03-30T23:18:27.038Z"
   },
   {
    "duration": 1426373,
    "start_time": "2024-03-30T23:18:27.822Z"
   },
   {
    "duration": 41,
    "start_time": "2024-03-30T23:43:15.478Z"
   },
   {
    "duration": 3,
    "start_time": "2024-03-30T23:44:01.971Z"
   },
   {
    "duration": 4,
    "start_time": "2024-03-30T23:44:53.112Z"
   },
   {
    "duration": 3,
    "start_time": "2024-03-30T23:44:54.546Z"
   },
   {
    "duration": 568,
    "start_time": "2024-03-30T23:45:22.830Z"
   },
   {
    "duration": 534,
    "start_time": "2024-03-30T23:46:48.559Z"
   },
   {
    "duration": 569,
    "start_time": "2024-03-30T23:47:26.321Z"
   },
   {
    "duration": 536,
    "start_time": "2024-03-30T23:47:29.172Z"
   },
   {
    "duration": 566,
    "start_time": "2024-03-30T23:47:59.643Z"
   },
   {
    "duration": 7,
    "start_time": "2024-03-30T23:49:02.434Z"
   },
   {
    "duration": 31,
    "start_time": "2024-03-31T00:08:32.339Z"
   },
   {
    "duration": 10,
    "start_time": "2024-03-31T00:09:23.765Z"
   },
   {
    "duration": 4,
    "start_time": "2024-03-31T00:09:29.091Z"
   },
   {
    "duration": 4,
    "start_time": "2024-03-31T00:09:38.002Z"
   },
   {
    "duration": 4,
    "start_time": "2024-03-31T00:10:01.985Z"
   },
   {
    "duration": 6,
    "start_time": "2024-03-31T00:10:03.904Z"
   },
   {
    "duration": 9,
    "start_time": "2024-03-31T00:16:33.998Z"
   },
   {
    "duration": 9,
    "start_time": "2024-03-31T00:16:57.154Z"
   },
   {
    "duration": 3,
    "start_time": "2024-03-31T00:17:30.138Z"
   },
   {
    "duration": 14,
    "start_time": "2024-03-31T00:17:56.497Z"
   },
   {
    "duration": 1979,
    "start_time": "2024-03-31T00:18:09.232Z"
   },
   {
    "duration": 4,
    "start_time": "2024-03-31T00:20:28.373Z"
   },
   {
    "duration": 1986,
    "start_time": "2024-03-31T00:20:29.113Z"
   },
   {
    "duration": 4,
    "start_time": "2024-03-31T00:25:06.149Z"
   },
   {
    "duration": 4,
    "start_time": "2024-03-31T00:25:14.818Z"
   },
   {
    "duration": 86,
    "start_time": "2024-03-31T00:25:31.549Z"
   },
   {
    "duration": 94992,
    "start_time": "2024-03-31T00:26:53.709Z"
   },
   {
    "duration": 502,
    "start_time": "2024-03-31T00:29:52.487Z"
   },
   {
    "duration": 107,
    "start_time": "2024-03-31T00:31:03.611Z"
   },
   {
    "duration": 133,
    "start_time": "2024-03-31T00:31:09.941Z"
   },
   {
    "duration": 524,
    "start_time": "2024-03-31T00:31:25.768Z"
   },
   {
    "duration": 513,
    "start_time": "2024-03-31T00:32:17.579Z"
   },
   {
    "duration": 6,
    "start_time": "2024-03-31T00:32:50.781Z"
   },
   {
    "duration": 5375,
    "start_time": "2024-03-31T04:12:06.994Z"
   },
   {
    "duration": 1707,
    "start_time": "2024-03-31T04:12:15.495Z"
   },
   {
    "duration": 2,
    "start_time": "2024-03-31T04:12:17.204Z"
   },
   {
    "duration": 3024,
    "start_time": "2024-03-31T04:12:20.563Z"
   },
   {
    "duration": 3,
    "start_time": "2024-03-31T04:12:27.702Z"
   },
   {
    "duration": 242,
    "start_time": "2024-03-31T04:12:28.155Z"
   },
   {
    "duration": 6,
    "start_time": "2024-03-31T04:13:49.220Z"
   },
   {
    "duration": 3,
    "start_time": "2024-03-31T04:13:57.127Z"
   },
   {
    "duration": 4,
    "start_time": "2024-03-31T04:17:54.680Z"
   },
   {
    "duration": 45,
    "start_time": "2024-03-31T04:18:08.796Z"
   },
   {
    "duration": 34,
    "start_time": "2024-03-31T04:20:02.448Z"
   },
   {
    "duration": 3,
    "start_time": "2024-03-31T04:20:17.456Z"
   },
   {
    "duration": 23,
    "start_time": "2024-03-31T04:20:39.916Z"
   },
   {
    "duration": 170,
    "start_time": "2024-03-31T04:20:44.248Z"
   },
   {
    "duration": 167,
    "start_time": "2024-03-31T04:20:47.316Z"
   },
   {
    "duration": 66,
    "start_time": "2024-03-31T04:21:00.620Z"
   },
   {
    "duration": 2,
    "start_time": "2024-03-31T04:22:24.885Z"
   },
   {
    "duration": 3,
    "start_time": "2024-03-31T04:25:58.997Z"
   },
   {
    "duration": 5941,
    "start_time": "2024-03-31T09:54:43.743Z"
   },
   {
    "duration": 1652,
    "start_time": "2024-03-31T09:54:49.686Z"
   },
   {
    "duration": 3,
    "start_time": "2024-03-31T09:54:51.340Z"
   },
   {
    "duration": 1349,
    "start_time": "2024-03-31T09:54:53.568Z"
   },
   {
    "duration": 3,
    "start_time": "2024-03-31T09:54:54.919Z"
   },
   {
    "duration": 267,
    "start_time": "2024-03-31T09:54:56.891Z"
   },
   {
    "duration": 7,
    "start_time": "2024-03-31T09:55:18.445Z"
   },
   {
    "duration": 3,
    "start_time": "2024-03-31T09:55:41.967Z"
   },
   {
    "duration": 105352,
    "start_time": "2024-03-31T09:55:42.539Z"
   },
   {
    "duration": 121,
    "start_time": "2024-03-31T09:57:27.892Z"
   },
   {
    "duration": 26,
    "start_time": "2024-03-31T09:57:28.014Z"
   },
   {
    "duration": 32,
    "start_time": "2024-03-31T09:57:28.041Z"
   },
   {
    "duration": 1410,
    "start_time": "2024-03-31T09:57:28.075Z"
   },
   {
    "duration": 303,
    "start_time": "2024-03-31T09:57:39.465Z"
   },
   {
    "duration": 4,
    "start_time": "2024-03-31T09:57:45.017Z"
   },
   {
    "duration": 14,
    "start_time": "2024-03-31T09:59:33.043Z"
   },
   {
    "duration": 13,
    "start_time": "2024-03-31T09:59:38.151Z"
   },
   {
    "duration": 59,
    "start_time": "2024-03-31T09:59:44.270Z"
   },
   {
    "duration": 122,
    "start_time": "2024-03-31T10:06:15.768Z"
   },
   {
    "duration": 37,
    "start_time": "2024-03-31T10:06:25.852Z"
   },
   {
    "duration": 30,
    "start_time": "2024-03-31T10:07:14.988Z"
   },
   {
    "duration": 30,
    "start_time": "2024-03-31T10:07:24.182Z"
   },
   {
    "duration": 1038,
    "start_time": "2024-03-31T10:08:54.344Z"
   },
   {
    "duration": 4,
    "start_time": "2024-03-31T10:08:55.384Z"
   },
   {
    "duration": 687,
    "start_time": "2024-03-31T10:08:59.484Z"
   },
   {
    "duration": 5047,
    "start_time": "2024-03-31T10:09:14.826Z"
   },
   {
    "duration": 1490,
    "start_time": "2024-03-31T10:09:19.875Z"
   },
   {
    "duration": 3,
    "start_time": "2024-03-31T10:09:21.366Z"
   },
   {
    "duration": 1085,
    "start_time": "2024-03-31T10:09:25.184Z"
   },
   {
    "duration": 3,
    "start_time": "2024-03-31T10:09:26.859Z"
   },
   {
    "duration": 268,
    "start_time": "2024-03-31T10:09:27.472Z"
   },
   {
    "duration": 3,
    "start_time": "2024-03-31T10:09:36.658Z"
   },
   {
    "duration": 124,
    "start_time": "2024-03-31T10:10:13.372Z"
   },
   {
    "duration": 32,
    "start_time": "2024-03-31T10:10:17.102Z"
   },
   {
    "duration": 31,
    "start_time": "2024-03-31T10:12:51.112Z"
   },
   {
    "duration": 121,
    "start_time": "2024-03-31T10:12:51.458Z"
   },
   {
    "duration": 27,
    "start_time": "2024-03-31T10:12:52.341Z"
   },
   {
    "duration": 23,
    "start_time": "2024-03-31T10:12:52.902Z"
   },
   {
    "duration": 8,
    "start_time": "2024-03-31T10:12:53.452Z"
   },
   {
    "duration": 6,
    "start_time": "2024-03-31T10:13:05.286Z"
   },
   {
    "duration": 586,
    "start_time": "2024-03-31T10:13:10.730Z"
   },
   {
    "duration": 31,
    "start_time": "2024-03-31T10:18:27.530Z"
   },
   {
    "duration": 14,
    "start_time": "2024-03-31T10:22:34.087Z"
   },
   {
    "duration": 60,
    "start_time": "2024-03-31T10:22:38.638Z"
   },
   {
    "duration": 14,
    "start_time": "2024-03-31T10:22:46.916Z"
   },
   {
    "duration": 12,
    "start_time": "2024-03-31T10:22:58.758Z"
   },
   {
    "duration": 13,
    "start_time": "2024-03-31T10:23:00.829Z"
   },
   {
    "duration": 13,
    "start_time": "2024-03-31T10:23:03.526Z"
   },
   {
    "duration": 13,
    "start_time": "2024-03-31T10:23:06.722Z"
   },
   {
    "duration": 11,
    "start_time": "2024-03-31T10:23:09.475Z"
   },
   {
    "duration": 12,
    "start_time": "2024-03-31T10:23:12.171Z"
   },
   {
    "duration": 12,
    "start_time": "2024-03-31T10:23:14.737Z"
   },
   {
    "duration": 61,
    "start_time": "2024-03-31T10:23:17.684Z"
   },
   {
    "duration": 14,
    "start_time": "2024-03-31T10:24:12.900Z"
   },
   {
    "duration": 44,
    "start_time": "2024-03-31T10:26:09.172Z"
   },
   {
    "duration": 34,
    "start_time": "2024-03-31T10:26:34.870Z"
   },
   {
    "duration": 4,
    "start_time": "2024-03-31T10:26:36.401Z"
   },
   {
    "duration": 30,
    "start_time": "2024-03-31T10:27:15.252Z"
   },
   {
    "duration": 45,
    "start_time": "2024-03-31T10:31:03.731Z"
   },
   {
    "duration": 57,
    "start_time": "2024-03-31T10:35:29.716Z"
   },
   {
    "duration": 13,
    "start_time": "2024-03-31T10:35:32.975Z"
   },
   {
    "duration": 30,
    "start_time": "2024-03-31T10:35:34.566Z"
   },
   {
    "duration": 34,
    "start_time": "2024-03-31T10:35:59.336Z"
   },
   {
    "duration": 4,
    "start_time": "2024-03-31T10:36:00.975Z"
   },
   {
    "duration": 341,
    "start_time": "2024-03-31T10:36:01.559Z"
   },
   {
    "duration": 6963,
    "start_time": "2024-03-31T10:36:02.194Z"
   },
   {
    "duration": 4987,
    "start_time": "2024-03-31T10:37:07.449Z"
   },
   {
    "duration": 1469,
    "start_time": "2024-03-31T10:37:13.907Z"
   },
   {
    "duration": 3,
    "start_time": "2024-03-31T10:37:15.378Z"
   },
   {
    "duration": 1094,
    "start_time": "2024-03-31T10:37:16.222Z"
   },
   {
    "duration": 3,
    "start_time": "2024-03-31T10:37:17.319Z"
   },
   {
    "duration": 292,
    "start_time": "2024-03-31T10:37:17.324Z"
   },
   {
    "duration": 6,
    "start_time": "2024-03-31T10:37:18.931Z"
   },
   {
    "duration": 3,
    "start_time": "2024-03-31T10:37:19.461Z"
   },
   {
    "duration": 111046,
    "start_time": "2024-03-31T10:37:21.148Z"
   },
   {
    "duration": 32,
    "start_time": "2024-03-31T10:39:17.459Z"
   },
   {
    "duration": 140,
    "start_time": "2024-03-31T10:39:18.682Z"
   },
   {
    "duration": 34,
    "start_time": "2024-03-31T10:39:19.453Z"
   },
   {
    "duration": 24,
    "start_time": "2024-03-31T10:39:20.012Z"
   },
   {
    "duration": 1461,
    "start_time": "2024-03-31T10:39:20.493Z"
   },
   {
    "duration": 339,
    "start_time": "2024-03-31T10:39:22.307Z"
   },
   {
    "duration": 4,
    "start_time": "2024-03-31T10:39:24.443Z"
   },
   {
    "duration": 37,
    "start_time": "2024-03-31T10:39:25.675Z"
   },
   {
    "duration": 45,
    "start_time": "2024-03-31T10:39:28.318Z"
   },
   {
    "duration": 14,
    "start_time": "2024-03-31T10:39:29.800Z"
   },
   {
    "duration": 48,
    "start_time": "2024-03-31T10:39:31.133Z"
   },
   {
    "duration": 34,
    "start_time": "2024-03-31T10:39:35.503Z"
   },
   {
    "duration": 4,
    "start_time": "2024-03-31T10:39:52.933Z"
   },
   {
    "duration": 389,
    "start_time": "2024-03-31T10:39:53.990Z"
   },
   {
    "duration": 7533,
    "start_time": "2024-03-31T10:39:55.392Z"
   },
   {
    "duration": 23,
    "start_time": "2024-03-31T10:40:05.233Z"
   },
   {
    "duration": 5608,
    "start_time": "2024-03-31T10:40:05.854Z"
   },
   {
    "duration": 148,
    "start_time": "2024-03-31T10:40:11.469Z"
   },
   {
    "duration": 188,
    "start_time": "2024-03-31T10:40:14.565Z"
   },
   {
    "duration": 71,
    "start_time": "2024-03-31T10:40:17.757Z"
   },
   {
    "duration": 4,
    "start_time": "2024-03-31T10:40:29.118Z"
   },
   {
    "duration": 147,
    "start_time": "2024-03-31T10:40:30.380Z"
   },
   {
    "duration": 5,
    "start_time": "2024-03-31T10:40:40.030Z"
   },
   {
    "duration": 18,
    "start_time": "2024-03-31T10:41:43.160Z"
   },
   {
    "duration": 3,
    "start_time": "2024-03-31T10:41:43.923Z"
   },
   {
    "duration": 2,
    "start_time": "2024-03-31T10:42:01.529Z"
   },
   {
    "duration": 3,
    "start_time": "2024-03-31T10:42:02.360Z"
   },
   {
    "duration": 4,
    "start_time": "2024-03-31T10:42:03.547Z"
   },
   {
    "duration": 3,
    "start_time": "2024-03-31T10:42:04.373Z"
   },
   {
    "duration": 3,
    "start_time": "2024-03-31T10:42:05.421Z"
   },
   {
    "duration": 3,
    "start_time": "2024-03-31T10:42:07.187Z"
   },
   {
    "duration": 3,
    "start_time": "2024-03-31T10:42:07.967Z"
   },
   {
    "duration": 3,
    "start_time": "2024-03-31T10:43:40.892Z"
   },
   {
    "duration": 188623,
    "start_time": "2024-03-31T10:43:43.254Z"
   },
   {
    "duration": 31,
    "start_time": "2024-03-31T10:47:48.465Z"
   },
   {
    "duration": 3,
    "start_time": "2024-03-31T10:48:20.192Z"
   },
   {
    "duration": 3,
    "start_time": "2024-03-31T10:48:20.937Z"
   },
   {
    "duration": 67,
    "start_time": "2024-03-31T10:48:22.045Z"
   },
   {
    "duration": 4457,
    "start_time": "2024-03-31T10:48:23.419Z"
   },
   {
    "duration": 520,
    "start_time": "2024-03-31T10:48:29.751Z"
   },
   {
    "duration": 12,
    "start_time": "2024-03-31T10:48:30.912Z"
   },
   {
    "duration": 4418,
    "start_time": "2024-03-31T10:50:00.557Z"
   },
   {
    "duration": 461,
    "start_time": "2024-03-31T10:50:05.816Z"
   },
   {
    "duration": 432,
    "start_time": "2024-03-31T10:50:07.053Z"
   },
   {
    "duration": 5,
    "start_time": "2024-03-31T10:50:11.725Z"
   }
  ],
  "kernelspec": {
   "display_name": "Python 3 (ipykernel)",
   "language": "python",
   "name": "python3"
  },
  "language_info": {
   "codemirror_mode": {
    "name": "ipython",
    "version": 3
   },
   "file_extension": ".py",
   "mimetype": "text/x-python",
   "name": "python",
   "nbconvert_exporter": "python",
   "pygments_lexer": "ipython3",
   "version": "3.9.5"
  },
  "toc": {
   "base_numbering": 1,
   "nav_menu": {},
   "number_sections": true,
   "sideBar": true,
   "skip_h1_title": true,
   "title_cell": "Table of Contents",
   "title_sidebar": "Contents",
   "toc_cell": false,
   "toc_position": {},
   "toc_section_display": true,
   "toc_window_display": false
  }
 },
 "nbformat": 4,
 "nbformat_minor": 2
}
