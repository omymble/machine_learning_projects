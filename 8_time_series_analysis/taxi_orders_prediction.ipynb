{
 "cells": [
  {
   "cell_type": "markdown",
   "metadata": {
    "toc": true
   },
   "source": [
    "<h1>Содержание<span class=\"tocSkip\"></span></h1>\n",
    "<div class=\"toc\"><ul class=\"toc-item\"><li><span><a href=\"#Подготовка\" data-toc-modified-id=\"Подготовка-1\"><span class=\"toc-item-num\">1&nbsp;&nbsp;</span>Подготовка</a></span></li><li><span><a href=\"#Анализ\" data-toc-modified-id=\"Анализ-2\"><span class=\"toc-item-num\">2&nbsp;&nbsp;</span>Анализ</a></span></li><li><span><a href=\"#Обучение\" data-toc-modified-id=\"Обучение-3\"><span class=\"toc-item-num\">3&nbsp;&nbsp;</span>Обучение</a></span></li><li><span><a href=\"#Тестирование\" data-toc-modified-id=\"Тестирование-4\"><span class=\"toc-item-num\">4&nbsp;&nbsp;</span>Тестирование</a></span></li></ul></div>"
   ]
  },
  {
   "cell_type": "markdown",
   "metadata": {},
   "source": "#  Development of an Order Volume Prediction System|"
  },
  {
   "cell_type": "markdown",
   "metadata": {},
   "source": [
    "A taxi company has collected historical data on taxi orders at airports. To attract more drivers during peak demand periods, it is necessary to forecast the number of taxi orders for the next hour.\n",
    "\n",
    "**Workflow:**\n",
    "\n",
    "1. Data loading and resampling to one-hour intervals.\n",
    "2. Data analysis.\n",
    "3. Training of various models with different hyperparameters.\n",
    "4. Models evaluation on a test dataset.\n",
    "\n",
    "The data is stored in the file `taxi.csv`, with the number of orders located in the `num_orders` column.\n"
   ]
  },
  {
   "cell_type": "code",
   "metadata": {
    "ExecuteTime": {
     "end_time": "2025-06-26T15:07:46.957716Z",
     "start_time": "2025-06-26T15:07:46.437309Z"
    }
   },
   "source": "!pip install statsmodels -q",
   "outputs": [],
   "execution_count": 1
  },
  {
   "cell_type": "code",
   "metadata": {
    "ExecuteTime": {
     "end_time": "2025-06-26T15:07:47.174831Z",
     "start_time": "2025-06-26T15:07:46.963655Z"
    }
   },
   "source": [
    "import pandas as pd\n",
    "import numpy as np\n",
    "\n",
    "from sklearn.preprocessing import (\n",
    "    StandardScaler,\n",
    "    MinMaxScaler\n",
    ")\n",
    "from sklearn.compose import ColumnTransformer\n",
    "from sklearn.pipeline import Pipeline\n",
    "from sklearn.impute import SimpleImputer \n",
    "\n",
    "from sklearn.model_selection import train_test_split\n",
    "\n",
    "from sklearn.linear_model import LinearRegression\n",
    "from sklearn.ensemble import RandomForestRegressor\n",
    "from sklearn.dummy import DummyRegressor\n",
    "\n",
    "from sklearn.metrics import mean_squared_error, make_scorer\n",
    "from sklearn.model_selection import GridSearchCV, TimeSeriesSplit\n",
    "\n",
    "import seaborn as sns\n",
    "import matplotlib.pyplot as plt\n",
    "from statsmodels.graphics.tsaplots import plot_acf\n",
    "from statsmodels.tsa.seasonal import seasonal_decompose\n",
    "from statsmodels.tsa.stattools import adfuller\n",
    "\n",
    "from sklearn.exceptions import FitFailedWarning\n",
    "from warnings import simplefilter\n",
    "\n",
    "simplefilter(action='ignore', category=FutureWarning)"
   ],
   "outputs": [],
   "execution_count": 2
  },
  {
   "cell_type": "code",
   "metadata": {
    "ExecuteTime": {
     "end_time": "2025-06-26T15:07:47.180421Z",
     "start_time": "2025-06-26T15:07:47.178663Z"
    }
   },
   "source": [
    "RANDOM_STATE = 42\n",
    "TEST_SIZE = 0.1"
   ],
   "outputs": [],
   "execution_count": 3
  },
  {
   "cell_type": "markdown",
   "metadata": {},
   "source": "## Data preparation"
  },
  {
   "cell_type": "code",
   "metadata": {
    "ExecuteTime": {
     "end_time": "2025-06-26T15:07:47.201207Z",
     "start_time": "2025-06-26T15:07:47.183707Z"
    }
   },
   "source": "taxi_df = pd.read_csv('../datasets/taxi.csv', parse_dates=['datetime'], index_col='datetime')",
   "outputs": [],
   "execution_count": 4
  },
  {
   "cell_type": "code",
   "metadata": {
    "ExecuteTime": {
     "end_time": "2025-06-26T15:07:47.209228Z",
     "start_time": "2025-06-26T15:07:47.205176Z"
    }
   },
   "source": [
    "taxi_df = taxi_df.resample('1H').sum()"
   ],
   "outputs": [],
   "execution_count": 5
  },
  {
   "cell_type": "code",
   "metadata": {
    "ExecuteTime": {
     "end_time": "2025-06-26T15:07:47.219413Z",
     "start_time": "2025-06-26T15:07:47.212552Z"
    }
   },
   "source": [
    "display(taxi_df.head())\n",
    "display(taxi_df.tail())"
   ],
   "outputs": [
    {
     "data": {
      "text/plain": [
       "                     num_orders\n",
       "datetime                       \n",
       "2018-03-01 00:00:00         124\n",
       "2018-03-01 01:00:00          85\n",
       "2018-03-01 02:00:00          71\n",
       "2018-03-01 03:00:00          66\n",
       "2018-03-01 04:00:00          43"
      ],
      "text/html": [
       "<div>\n",
       "<style scoped>\n",
       "    .dataframe tbody tr th:only-of-type {\n",
       "        vertical-align: middle;\n",
       "    }\n",
       "\n",
       "    .dataframe tbody tr th {\n",
       "        vertical-align: top;\n",
       "    }\n",
       "\n",
       "    .dataframe thead th {\n",
       "        text-align: right;\n",
       "    }\n",
       "</style>\n",
       "<table border=\"1\" class=\"dataframe\">\n",
       "  <thead>\n",
       "    <tr style=\"text-align: right;\">\n",
       "      <th></th>\n",
       "      <th>num_orders</th>\n",
       "    </tr>\n",
       "    <tr>\n",
       "      <th>datetime</th>\n",
       "      <th></th>\n",
       "    </tr>\n",
       "  </thead>\n",
       "  <tbody>\n",
       "    <tr>\n",
       "      <th>2018-03-01 00:00:00</th>\n",
       "      <td>124</td>\n",
       "    </tr>\n",
       "    <tr>\n",
       "      <th>2018-03-01 01:00:00</th>\n",
       "      <td>85</td>\n",
       "    </tr>\n",
       "    <tr>\n",
       "      <th>2018-03-01 02:00:00</th>\n",
       "      <td>71</td>\n",
       "    </tr>\n",
       "    <tr>\n",
       "      <th>2018-03-01 03:00:00</th>\n",
       "      <td>66</td>\n",
       "    </tr>\n",
       "    <tr>\n",
       "      <th>2018-03-01 04:00:00</th>\n",
       "      <td>43</td>\n",
       "    </tr>\n",
       "  </tbody>\n",
       "</table>\n",
       "</div>"
      ]
     },
     "metadata": {},
     "output_type": "display_data"
    },
    {
     "data": {
      "text/plain": [
       "                     num_orders\n",
       "datetime                       \n",
       "2018-08-31 19:00:00         136\n",
       "2018-08-31 20:00:00         154\n",
       "2018-08-31 21:00:00         159\n",
       "2018-08-31 22:00:00         223\n",
       "2018-08-31 23:00:00         205"
      ],
      "text/html": [
       "<div>\n",
       "<style scoped>\n",
       "    .dataframe tbody tr th:only-of-type {\n",
       "        vertical-align: middle;\n",
       "    }\n",
       "\n",
       "    .dataframe tbody tr th {\n",
       "        vertical-align: top;\n",
       "    }\n",
       "\n",
       "    .dataframe thead th {\n",
       "        text-align: right;\n",
       "    }\n",
       "</style>\n",
       "<table border=\"1\" class=\"dataframe\">\n",
       "  <thead>\n",
       "    <tr style=\"text-align: right;\">\n",
       "      <th></th>\n",
       "      <th>num_orders</th>\n",
       "    </tr>\n",
       "    <tr>\n",
       "      <th>datetime</th>\n",
       "      <th></th>\n",
       "    </tr>\n",
       "  </thead>\n",
       "  <tbody>\n",
       "    <tr>\n",
       "      <th>2018-08-31 19:00:00</th>\n",
       "      <td>136</td>\n",
       "    </tr>\n",
       "    <tr>\n",
       "      <th>2018-08-31 20:00:00</th>\n",
       "      <td>154</td>\n",
       "    </tr>\n",
       "    <tr>\n",
       "      <th>2018-08-31 21:00:00</th>\n",
       "      <td>159</td>\n",
       "    </tr>\n",
       "    <tr>\n",
       "      <th>2018-08-31 22:00:00</th>\n",
       "      <td>223</td>\n",
       "    </tr>\n",
       "    <tr>\n",
       "      <th>2018-08-31 23:00:00</th>\n",
       "      <td>205</td>\n",
       "    </tr>\n",
       "  </tbody>\n",
       "</table>\n",
       "</div>"
      ]
     },
     "metadata": {},
     "output_type": "display_data"
    }
   ],
   "execution_count": 6
  },
  {
   "cell_type": "code",
   "metadata": {
    "ExecuteTime": {
     "end_time": "2025-06-26T15:07:47.226805Z",
     "start_time": "2025-06-26T15:07:47.223461Z"
    }
   },
   "source": [
    "taxi_df.isna().sum()"
   ],
   "outputs": [
    {
     "data": {
      "text/plain": [
       "num_orders    0\n",
       "dtype: int64"
      ]
     },
     "execution_count": 7,
     "metadata": {},
     "output_type": "execute_result"
    }
   ],
   "execution_count": 7
  },
  {
   "cell_type": "code",
   "metadata": {
    "ExecuteTime": {
     "end_time": "2025-06-26T15:07:47.237857Z",
     "start_time": "2025-06-26T15:07:47.233448Z"
    }
   },
   "source": [
    "taxi_df.info()"
   ],
   "outputs": [
    {
     "name": "stdout",
     "output_type": "stream",
     "text": [
      "<class 'pandas.core.frame.DataFrame'>\n",
      "DatetimeIndex: 4416 entries, 2018-03-01 00:00:00 to 2018-08-31 23:00:00\n",
      "Freq: h\n",
      "Data columns (total 1 columns):\n",
      " #   Column      Non-Null Count  Dtype\n",
      "---  ------      --------------  -----\n",
      " 0   num_orders  4416 non-null   int64\n",
      "dtypes: int64(1)\n",
      "memory usage: 69.0 KB\n"
     ]
    }
   ],
   "execution_count": 8
  },
  {
   "cell_type": "markdown",
   "metadata": {},
   "source": "## Data analysis"
  },
  {
   "cell_type": "code",
   "metadata": {
    "ExecuteTime": {
     "end_time": "2025-06-26T15:07:47.249584Z",
     "start_time": "2025-06-26T15:07:47.247457Z"
    }
   },
   "source": [
    "rolling_mean = taxi_df['num_orders'].rolling(window=24).mean()"
   ],
   "outputs": [],
   "execution_count": 9
  },
  {
   "cell_type": "code",
   "metadata": {
    "ExecuteTime": {
     "end_time": "2025-06-26T15:07:47.422603Z",
     "start_time": "2025-06-26T15:07:47.256799Z"
    }
   },
   "source": [
    "plt.figure(figsize=(12, 6))\n",
    "sns.lineplot(x='datetime', y='num_orders', data=taxi_df, label='Original Data')\n",
    "plt.plot(taxi_df.index, rolling_mean, color='red', label='Rolling Mean (window=24)')\n",
    "\n",
    "plt.xticks(rotation=45)\n",
    "\n",
    "plt.xlabel('Datetime')\n",
    "plt.ylabel('Number of Orders')\n",
    "plt.title('Number of Taxi Orders Over Time')\n",
    "plt.legend()\n",
    "plt.tight_layout()\n",
    "plt.show()"
   ],
   "outputs": [
    {
     "data": {
      "text/plain": [
       "<Figure size 1200x600 with 1 Axes>"
      ],
      "image/png": "[encoded data removed]"
     },
     "metadata": {},
     "output_type": "display_data"
    }
   ],
   "execution_count": 10
  },
  {
   "cell_type": "code",
   "metadata": {
    "scrolled": true,
    "ExecuteTime": {
     "end_time": "2025-06-26T15:07:47.477171Z",
     "start_time": "2025-06-26T15:07:47.428079Z"
    }
   },
   "source": [
    "plot_acf(taxi_df['num_orders'], lags=50)\n",
    "plt.xlabel('Lag')\n",
    "plt.ylabel('Autocorrelation')\n",
    "plt.title('Autocorrelation Function')\n",
    "plt.show()"
   ],
   "outputs": [
    {
     "data": {
      "text/plain": [
       "<Figure size 640x480 with 1 Axes>"
      ],
      "image/png": "[encoded data removed]"
     },
     "metadata": {},
     "output_type": "display_data"
    }
   ],
   "execution_count": 11
  },
  {
   "cell_type": "markdown",
   "metadata": {},
   "source": "Lags 1, 2, and 24 show relatively high importance, so we add them as new features."
  },
  {
   "cell_type": "markdown",
   "metadata": {},
   "source": [
    "### Dickey-Fuller test\n",
    "\n",
    "H<sub>0</sub> - non-stationary series\n",
    "Н<sub>а</sub> - stationary series"
   ]
  },
  {
   "cell_type": "code",
   "metadata": {
    "ExecuteTime": {
     "end_time": "2025-06-26T15:07:47.624196Z",
     "start_time": "2025-06-26T15:07:47.486420Z"
    }
   },
   "source": [
    "a1 = 0.01\n",
    "a5 = 0.05\n",
    "\n",
    "result = adfuller(taxi_df['num_orders'])\n",
    "print(f'Test Statistic: {result[0]}')\n",
    "print(f'p-value: {result[1]}')\n",
    "print('Critical Values:')\n",
    "for key, value in result[4].items():\n",
    "    print(f' {key}: {value}')"
   ],
   "outputs": [
    {
     "name": "stdout",
     "output_type": "stream",
     "text": [
      "Test Statistic: -3.0689242890279487\n",
      "p-value: 0.02894005140261345\n",
      "Critical Values:\n",
      " 1%: -3.431842162413052\n",
      " 5%: -2.8621993540813637\n",
      " 10%: -2.567120978470452\n"
     ]
    }
   ],
   "execution_count": 12
  },
  {
   "cell_type": "code",
   "metadata": {
    "ExecuteTime": {
     "end_time": "2025-06-26T15:07:47.642119Z",
     "start_time": "2025-06-26T15:07:47.638271Z"
    }
   },
   "source": [
    "if result[1] < a1:\n",
    "    print('significance level 1%: do not reject the null hypothesis, the series is non-stationary')\n",
    "else:\n",
    "    print('significance level 1%: reject the null hypothesis - the series is stationary')\n",
    "if result[1] < a5:\\\n",
    "    print('significance level 5%: we do not reject the null hypothesis, the series is non-stationary')\n",
    "else:\n",
    "    print('significance level 5%: reject the null hypothesis - the series is stationary')"
   ],
   "outputs": [
    {
     "name": "stdout",
     "output_type": "stream",
     "text": [
      "significance level 1%: reject the null hypothesis - the series is stationary\n",
      "significance level 5%: we do not reject the null hypothesis, the series is non-stationary\n"
     ]
    }
   ],
   "execution_count": 13
  },
  {
   "cell_type": "markdown",
   "metadata": {},
   "source": "The moving average plot shows that the mean of the series is increasing. This suggests that the series is non-stationary. Additionally, we confirmed the non-stationarity of the series using the Dickey-Fuller test."
  },
  {
   "cell_type": "code",
   "metadata": {
    "ExecuteTime": {
     "end_time": "2025-06-26T15:07:47.721654Z",
     "start_time": "2025-06-26T15:07:47.655951Z"
    }
   },
   "source": [
    "decomposed = seasonal_decompose(taxi_df)\n",
    "plt.title('Seasonal Component from 2018-08-28 to 2018-08-30')\n",
    "decomposed.seasonal['2018-08-28':'2018-08-30'].plot(ax=plt.gca())\n",
    "plt.ylabel('Number of Orders')\n",
    "plt.show()"
   ],
   "outputs": [
    {
     "data": {
      "text/plain": [
       "<Figure size 640x480 with 1 Axes>"
      ],
      "image/png": "[encoded data removed]"
     },
     "metadata": {},
     "output_type": "display_data"
    }
   ],
   "execution_count": 14
  },
  {
   "cell_type": "code",
   "metadata": {
    "ExecuteTime": {
     "end_time": "2025-06-26T15:07:47.856116Z",
     "start_time": "2025-06-26T15:07:47.733931Z"
    }
   },
   "source": [
    "plt.title('Trend Component from 2018-08-28 to 2018-08-30')\n",
    "decomposed.trend.plot(ax=plt.gca())\n",
    "plt.ylabel('Number of Orders')\n",
    "plt.show()"
   ],
   "outputs": [
    {
     "data": {
      "text/plain": [
       "<Figure size 640x480 with 1 Axes>"
      ],
      "image/png": "[encoded data removed]"
     },
     "metadata": {},
     "output_type": "display_data"
    }
   ],
   "execution_count": 15
  },
  {
   "cell_type": "markdown",
   "metadata": {},
   "source": [
    "Based on the seasonal component, a daily cycle is observed. The highest values occur around midnight, likely due to the limited availability of public transportation at that time.\n",
    "The trend shows an increase in the number of taxi orders. The data spans from March to August, and the growth may be related to the fact that people tend to travel more during the summer."
   ]
  },
  {
   "cell_type": "code",
   "metadata": {
    "ExecuteTime": {
     "end_time": "2025-06-26T15:07:47.888210Z",
     "start_time": "2025-06-26T15:07:47.878817Z"
    }
   },
   "source": [
    "def make_features(df, rolling_mean_size):\n",
    "    data = df.copy()\n",
    "    data['day'] = data.index.day\n",
    "    data['hour'] = data.index.hour\n",
    "    data['dayofweek'] = data.index.dayofweek\n",
    "    \n",
    "    for lag in [1, 2, 24]:\n",
    "        data['lag_{}'.format(lag)] = data['num_orders'].shift(lag)\n",
    "\n",
    "    data['rolling_mean'] = data['num_orders'].shift().rolling(rolling_mean_size).mean()\n",
    "    \n",
    "    return data"
   ],
   "outputs": [],
   "execution_count": 16
  },
  {
   "cell_type": "code",
   "metadata": {
    "ExecuteTime": {
     "end_time": "2025-06-26T15:07:47.898918Z",
     "start_time": "2025-06-26T15:07:47.891681Z"
    }
   },
   "source": [
    "new_df = make_features(taxi_df, 12)\n",
    "new_df = new_df.dropna()\n",
    "new_df.head()"
   ],
   "outputs": [
    {
     "data": {
      "text/plain": [
       "                     num_orders  day  hour  dayofweek  lag_1  lag_2  lag_24  \\\n",
       "datetime                                                                      \n",
       "2018-03-02 00:00:00          90    2     0          4   58.0  113.0   124.0   \n",
       "2018-03-02 01:00:00         120    2     1          4   90.0   58.0    85.0   \n",
       "2018-03-02 02:00:00          75    2     2          4  120.0   90.0    71.0   \n",
       "2018-03-02 03:00:00          64    2     3          4   75.0  120.0    66.0   \n",
       "2018-03-02 04:00:00          20    2     4          4   64.0   75.0    43.0   \n",
       "\n",
       "                     rolling_mean  \n",
       "datetime                           \n",
       "2018-03-02 00:00:00     56.583333  \n",
       "2018-03-02 01:00:00     61.583333  \n",
       "2018-03-02 02:00:00     68.916667  \n",
       "2018-03-02 03:00:00     71.166667  \n",
       "2018-03-02 04:00:00     71.000000  "
      ],
      "text/html": [
       "<div>\n",
       "<style scoped>\n",
       "    .dataframe tbody tr th:only-of-type {\n",
       "        vertical-align: middle;\n",
       "    }\n",
       "\n",
       "    .dataframe tbody tr th {\n",
       "        vertical-align: top;\n",
       "    }\n",
       "\n",
       "    .dataframe thead th {\n",
       "        text-align: right;\n",
       "    }\n",
       "</style>\n",
       "<table border=\"1\" class=\"dataframe\">\n",
       "  <thead>\n",
       "    <tr style=\"text-align: right;\">\n",
       "      <th></th>\n",
       "      <th>num_orders</th>\n",
       "      <th>day</th>\n",
       "      <th>hour</th>\n",
       "      <th>dayofweek</th>\n",
       "      <th>lag_1</th>\n",
       "      <th>lag_2</th>\n",
       "      <th>lag_24</th>\n",
       "      <th>rolling_mean</th>\n",
       "    </tr>\n",
       "    <tr>\n",
       "      <th>datetime</th>\n",
       "      <th></th>\n",
       "      <th></th>\n",
       "      <th></th>\n",
       "      <th></th>\n",
       "      <th></th>\n",
       "      <th></th>\n",
       "      <th></th>\n",
       "      <th></th>\n",
       "    </tr>\n",
       "  </thead>\n",
       "  <tbody>\n",
       "    <tr>\n",
       "      <th>2018-03-02 00:00:00</th>\n",
       "      <td>90</td>\n",
       "      <td>2</td>\n",
       "      <td>0</td>\n",
       "      <td>4</td>\n",
       "      <td>58.0</td>\n",
       "      <td>113.0</td>\n",
       "      <td>124.0</td>\n",
       "      <td>56.583333</td>\n",
       "    </tr>\n",
       "    <tr>\n",
       "      <th>2018-03-02 01:00:00</th>\n",
       "      <td>120</td>\n",
       "      <td>2</td>\n",
       "      <td>1</td>\n",
       "      <td>4</td>\n",
       "      <td>90.0</td>\n",
       "      <td>58.0</td>\n",
       "      <td>85.0</td>\n",
       "      <td>61.583333</td>\n",
       "    </tr>\n",
       "    <tr>\n",
       "      <th>2018-03-02 02:00:00</th>\n",
       "      <td>75</td>\n",
       "      <td>2</td>\n",
       "      <td>2</td>\n",
       "      <td>4</td>\n",
       "      <td>120.0</td>\n",
       "      <td>90.0</td>\n",
       "      <td>71.0</td>\n",
       "      <td>68.916667</td>\n",
       "    </tr>\n",
       "    <tr>\n",
       "      <th>2018-03-02 03:00:00</th>\n",
       "      <td>64</td>\n",
       "      <td>2</td>\n",
       "      <td>3</td>\n",
       "      <td>4</td>\n",
       "      <td>75.0</td>\n",
       "      <td>120.0</td>\n",
       "      <td>66.0</td>\n",
       "      <td>71.166667</td>\n",
       "    </tr>\n",
       "    <tr>\n",
       "      <th>2018-03-02 04:00:00</th>\n",
       "      <td>20</td>\n",
       "      <td>2</td>\n",
       "      <td>4</td>\n",
       "      <td>4</td>\n",
       "      <td>64.0</td>\n",
       "      <td>75.0</td>\n",
       "      <td>43.0</td>\n",
       "      <td>71.000000</td>\n",
       "    </tr>\n",
       "  </tbody>\n",
       "</table>\n",
       "</div>"
      ]
     },
     "execution_count": 17,
     "metadata": {},
     "output_type": "execute_result"
    }
   ],
   "execution_count": 17
  },
  {
   "cell_type": "markdown",
   "metadata": {},
   "source": "The moving average was calculated using a 12-hour aggregation window."
  },
  {
   "cell_type": "markdown",
   "metadata": {},
   "source": "## Model training"
  },
  {
   "cell_type": "code",
   "metadata": {
    "ExecuteTime": {
     "end_time": "2025-06-26T15:07:47.910436Z",
     "start_time": "2025-06-26T15:07:47.907762Z"
    }
   },
   "source": [
    "y = new_df['num_orders']\n",
    "X = new_df.drop(['num_orders'], axis=1)"
   ],
   "outputs": [],
   "execution_count": 18
  },
  {
   "cell_type": "code",
   "metadata": {
    "ExecuteTime": {
     "end_time": "2025-06-26T15:07:47.918936Z",
     "start_time": "2025-06-26T15:07:47.915793Z"
    }
   },
   "source": [
    "X_train, X_test, y_train, y_test = train_test_split(X, y, shuffle=False, test_size=TEST_SIZE)"
   ],
   "outputs": [],
   "execution_count": 19
  },
  {
   "cell_type": "code",
   "metadata": {
    "ExecuteTime": {
     "end_time": "2025-06-26T15:07:47.924893Z",
     "start_time": "2025-06-26T15:07:47.923288Z"
    }
   },
   "source": [
    "# def rmse(y_true, y_pred):\n",
    "#     return np.sqrt(mean_squared_error(y_true, y_pred))\n",
    "#\n",
    "# rmse_scorer = make_scorer(rmse, greater_is_better=False)"
   ],
   "outputs": [],
   "execution_count": 20
  },
  {
   "cell_type": "markdown",
   "metadata": {},
   "source": "All features are treated as numerical."
  },
  {
   "cell_type": "code",
   "metadata": {
    "ExecuteTime": {
     "end_time": "2025-06-26T15:07:47.929899Z",
     "start_time": "2025-06-26T15:07:47.928239Z"
    }
   },
   "source": [
    "columns = ['day', 'hour', 'dayofweek', \\\n",
    "           'lag_1', 'lag_2', 'lag_24', 'rolling_mean']"
   ],
   "outputs": [],
   "execution_count": 21
  },
  {
   "cell_type": "code",
   "metadata": {
    "ExecuteTime": {
     "end_time": "2025-06-26T15:07:47.937797Z",
     "start_time": "2025-06-26T15:07:47.936012Z"
    }
   },
   "source": [
    "data_preprocessor = ColumnTransformer(\n",
    "    [\n",
    "        ('num', StandardScaler(), columns)\n",
    "    ], \n",
    "    remainder='passthrough'\n",
    ")"
   ],
   "outputs": [],
   "execution_count": 22
  },
  {
   "cell_type": "code",
   "metadata": {
    "ExecuteTime": {
     "end_time": "2025-06-26T15:07:47.944413Z",
     "start_time": "2025-06-26T15:07:47.942679Z"
    }
   },
   "source": [
    "final_p = Pipeline(\n",
    "    [\n",
    "        ('preprocessor', data_preprocessor),\n",
    "        ('models', LinearRegression())\n",
    "    ]\n",
    ")"
   ],
   "outputs": [],
   "execution_count": 23
  },
  {
   "cell_type": "code",
   "metadata": {
    "ExecuteTime": {
     "end_time": "2025-06-26T15:07:47.952199Z",
     "start_time": "2025-06-26T15:07:47.950040Z"
    }
   },
   "source": [
    "parameters = [\n",
    "    {\n",
    "        'models': [LinearRegression()],\n",
    "        'preprocessor__num': [StandardScaler(), MinMaxScaler(), 'passthrough']\n",
    "    }\n",
    "    ,\n",
    "    {\n",
    "        'models': [RandomForestRegressor(random_state=RANDOM_STATE)],\n",
    "        'models__n_estimators': [50, 100],\n",
    "        'models__max_depth': [3, 5, 7],\n",
    "        'preprocessor__num': [StandardScaler(), MinMaxScaler(), 'passthrough']  \n",
    "    }\n",
    "]"
   ],
   "outputs": [],
   "execution_count": 24
  },
  {
   "cell_type": "code",
   "metadata": {
    "ExecuteTime": {
     "end_time": "2025-06-26T15:07:47.957152Z",
     "start_time": "2025-06-26T15:07:47.955599Z"
    }
   },
   "source": [
    "tscv = TimeSeriesSplit(n_splits=5)"
   ],
   "outputs": [],
   "execution_count": 25
  },
  {
   "cell_type": "code",
   "metadata": {
    "ExecuteTime": {
     "end_time": "2025-06-26T15:07:47.962977Z",
     "start_time": "2025-06-26T15:07:47.961282Z"
    }
   },
   "source": [
    "search = GridSearchCV(\n",
    "    final_p, \n",
    "    parameters,\n",
    "    n_jobs=-1,\n",
    "    cv=tscv, \n",
    "    scoring='neg_root_mean_squared_error',\n",
    "    error_score='raise'\n",
    ")"
   ],
   "outputs": [],
   "execution_count": 26
  },
  {
   "cell_type": "code",
   "metadata": {
    "ExecuteTime": {
     "end_time": "2025-06-26T15:07:52.218423Z",
     "start_time": "2025-06-26T15:07:47.966902Z"
    }
   },
   "source": [
    "search.fit(X_train, y_train)"
   ],
   "outputs": [
    {
     "data": {
      "text/plain": [
       "GridSearchCV(cv=TimeSeriesSplit(gap=0, max_train_size=None, n_splits=5, test_size=None),\n",
       "             error_score='raise',\n",
       "             estimator=Pipeline(steps=[('preprocessor',\n",
       "                                        ColumnTransformer(remainder='passthrough',\n",
       "                                                          transformers=[('num',\n",
       "                                                                         StandardScaler(),\n",
       "                                                                         ['day',\n",
       "                                                                          'hour',\n",
       "                                                                          'dayofweek',\n",
       "                                                                          'lag_1',\n",
       "                                                                          'lag_2',\n",
       "                                                                          'lag_24',\n",
       "                                                                          'rolling_mean'])])),\n",
       "                                       ('models', LinearRegression())]),\n",
       "             n_jobs=-1,\n",
       "             param_grid=[{'models': [LinearRegression()],\n",
       "                          'preprocessor__num': [StandardScaler(),\n",
       "                                                MinMaxScaler(),\n",
       "                                                'passthrough']},\n",
       "                         {'models': [RandomForestRegressor(random_state=42)],\n",
       "                          'models__max_depth': [3, 5, 7],\n",
       "                          'models__n_estimators': [50, 100],\n",
       "                          'preprocessor__num': [StandardScaler(),\n",
       "                                                MinMaxScaler(),\n",
       "                                                'passthrough']}],\n",
       "             scoring='neg_root_mean_squared_error')"
      ],
      "text/html": [
       "<style>#sk-container-id-1 {\n",
       "  /* Definition of color scheme common for light and dark mode */\n",
       "  --sklearn-color-text: #000;\n",
       "  --sklearn-color-text-muted: #666;\n",
       "  --sklearn-color-line: gray;\n",
       "  /* Definition of color scheme for unfitted estimators */\n",
       "  --sklearn-color-unfitted-level-0: #fff5e6;\n",
       "  --sklearn-color-unfitted-level-1: #f6e4d2;\n",
       "  --sklearn-color-unfitted-level-2: #ffe0b3;\n",
       "  --sklearn-color-unfitted-level-3: chocolate;\n",
       "  /* Definition of color scheme for fitted estimators */\n",
       "  --sklearn-color-fitted-level-0: #f0f8ff;\n",
       "  --sklearn-color-fitted-level-1: #d4ebff;\n",
       "  --sklearn-color-fitted-level-2: #b3dbfd;\n",
       "  --sklearn-color-fitted-level-3: cornflowerblue;\n",
       "\n",
       "  /* Specific color for light theme */\n",
       "  --sklearn-color-text-on-default-background: var(--sg-text-color, var(--theme-code-foreground, var(--jp-content-font-color1, black)));\n",
       "  --sklearn-color-background: var(--sg-background-color, var(--theme-background, var(--jp-layout-color0, white)));\n",
       "  --sklearn-color-border-box: var(--sg-text-color, var(--theme-code-foreground, var(--jp-content-font-color1, black)));\n",
       "  --sklearn-color-icon: #696969;\n",
       "\n",
       "  @media (prefers-color-scheme: dark) {\n",
       "    /* Redefinition of color scheme for dark theme */\n",
       "    --sklearn-color-text-on-default-background: var(--sg-text-color, var(--theme-code-foreground, var(--jp-content-font-color1, white)));\n",
       "    --sklearn-color-background: var(--sg-background-color, var(--theme-background, var(--jp-layout-color0, #111)));\n",
       "    --sklearn-color-border-box: var(--sg-text-color, var(--theme-code-foreground, var(--jp-content-font-color1, white)));\n",
       "    --sklearn-color-icon: #878787;\n",
       "  }\n",
       "}\n",
       "\n",
       "#sk-container-id-1 {\n",
       "  color: var(--sklearn-color-text);\n",
       "}\n",
       "\n",
       "#sk-container-id-1 pre {\n",
       "  padding: 0;\n",
       "}\n",
       "\n",
       "#sk-container-id-1 input.sk-hidden--visually {\n",
       "  border: 0;\n",
       "  clip: rect(1px 1px 1px 1px);\n",
       "  clip: rect(1px, 1px, 1px, 1px);\n",
       "  height: 1px;\n",
       "  margin: -1px;\n",
       "  overflow: hidden;\n",
       "  padding: 0;\n",
       "  position: absolute;\n",
       "  width: 1px;\n",
       "}\n",
       "\n",
       "#sk-container-id-1 div.sk-dashed-wrapped {\n",
       "  border: 1px dashed var(--sklearn-color-line);\n",
       "  margin: 0 0.4em 0.5em 0.4em;\n",
       "  box-sizing: border-box;\n",
       "  padding-bottom: 0.4em;\n",
       "  background-color: var(--sklearn-color-background);\n",
       "}\n",
       "\n",
       "#sk-container-id-1 div.sk-container {\n",
       "  /* jupyter's `normalize.less` sets `[hidden] { display: none; }`\n",
       "     but bootstrap.min.css set `[hidden] { display: none !important; }`\n",
       "     so we also need the `!important` here to be able to override the\n",
       "     default hidden behavior on the sphinx rendered scikit-learn.org.\n",
       "     See: https://github.com/scikit-learn/scikit-learn/issues/21755 */\n",
       "  display: inline-block !important;\n",
       "  position: relative;\n",
       "}\n",
       "\n",
       "#sk-container-id-1 div.sk-text-repr-fallback {\n",
       "  display: none;\n",
       "}\n",
       "\n",
       "div.sk-parallel-item,\n",
       "div.sk-serial,\n",
       "div.sk-item {\n",
       "  /* draw centered vertical line to link estimators */\n",
       "  background-image: linear-gradient(var(--sklearn-color-text-on-default-background), var(--sklearn-color-text-on-default-background));\n",
       "  background-size: 2px 100%;\n",
       "  background-repeat: no-repeat;\n",
       "  background-position: center center;\n",
       "}\n",
       "\n",
       "/* Parallel-specific style estimator block */\n",
       "\n",
       "#sk-container-id-1 div.sk-parallel-item::after {\n",
       "  content: \"\";\n",
       "  width: 100%;\n",
       "  border-bottom: 2px solid var(--sklearn-color-text-on-default-background);\n",
       "  flex-grow: 1;\n",
       "}\n",
       "\n",
       "#sk-container-id-1 div.sk-parallel {\n",
       "  display: flex;\n",
       "  align-items: stretch;\n",
       "  justify-content: center;\n",
       "  background-color: var(--sklearn-color-background);\n",
       "  position: relative;\n",
       "}\n",
       "\n",
       "#sk-container-id-1 div.sk-parallel-item {\n",
       "  display: flex;\n",
       "  flex-direction: column;\n",
       "}\n",
       "\n",
       "#sk-container-id-1 div.sk-parallel-item:first-child::after {\n",
       "  align-self: flex-end;\n",
       "  width: 50%;\n",
       "}\n",
       "\n",
       "#sk-container-id-1 div.sk-parallel-item:last-child::after {\n",
       "  align-self: flex-start;\n",
       "  width: 50%;\n",
       "}\n",
       "\n",
       "#sk-container-id-1 div.sk-parallel-item:only-child::after {\n",
       "  width: 0;\n",
       "}\n",
       "\n",
       "/* Serial-specific style estimator block */\n",
       "\n",
       "#sk-container-id-1 div.sk-serial {\n",
       "  display: flex;\n",
       "  flex-direction: column;\n",
       "  align-items: center;\n",
       "  background-color: var(--sklearn-color-background);\n",
       "  padding-right: 1em;\n",
       "  padding-left: 1em;\n",
       "}\n",
       "\n",
       "\n",
       "/* Toggleable style: style used for estimator/Pipeline/ColumnTransformer box that is\n",
       "clickable and can be expanded/collapsed.\n",
       "- Pipeline and ColumnTransformer use this feature and define the default style\n",
       "- Estimators will overwrite some part of the style using the `sk-estimator` class\n",
       "*/\n",
       "\n",
       "/* Pipeline and ColumnTransformer style (default) */\n",
       "\n",
       "#sk-container-id-1 div.sk-toggleable {\n",
       "  /* Default theme specific background. It is overwritten whether we have a\n",
       "  specific estimator or a Pipeline/ColumnTransformer */\n",
       "  background-color: var(--sklearn-color-background);\n",
       "}\n",
       "\n",
       "/* Toggleable label */\n",
       "#sk-container-id-1 label.sk-toggleable__label {\n",
       "  cursor: pointer;\n",
       "  display: flex;\n",
       "  width: 100%;\n",
       "  margin-bottom: 0;\n",
       "  padding: 0.5em;\n",
       "  box-sizing: border-box;\n",
       "  text-align: center;\n",
       "  align-items: start;\n",
       "  justify-content: space-between;\n",
       "  gap: 0.5em;\n",
       "}\n",
       "\n",
       "#sk-container-id-1 label.sk-toggleable__label .caption {\n",
       "  font-size: 0.6rem;\n",
       "  font-weight: lighter;\n",
       "  color: var(--sklearn-color-text-muted);\n",
       "}\n",
       "\n",
       "#sk-container-id-1 label.sk-toggleable__label-arrow:before {\n",
       "  /* Arrow on the left of the label */\n",
       "  content: \"▸\";\n",
       "  float: left;\n",
       "  margin-right: 0.25em;\n",
       "  color: var(--sklearn-color-icon);\n",
       "}\n",
       "\n",
       "#sk-container-id-1 label.sk-toggleable__label-arrow:hover:before {\n",
       "  color: var(--sklearn-color-text);\n",
       "}\n",
       "\n",
       "/* Toggleable content - dropdown */\n",
       "\n",
       "#sk-container-id-1 div.sk-toggleable__content {\n",
       "  max-height: 0;\n",
       "  max-width: 0;\n",
       "  overflow: hidden;\n",
       "  text-align: left;\n",
       "  /* unfitted */\n",
       "  background-color: var(--sklearn-color-unfitted-level-0);\n",
       "}\n",
       "\n",
       "#sk-container-id-1 div.sk-toggleable__content.fitted {\n",
       "  /* fitted */\n",
       "  background-color: var(--sklearn-color-fitted-level-0);\n",
       "}\n",
       "\n",
       "#sk-container-id-1 div.sk-toggleable__content pre {\n",
       "  margin: 0.2em;\n",
       "  border-radius: 0.25em;\n",
       "  color: var(--sklearn-color-text);\n",
       "  /* unfitted */\n",
       "  background-color: var(--sklearn-color-unfitted-level-0);\n",
       "}\n",
       "\n",
       "#sk-container-id-1 div.sk-toggleable__content.fitted pre {\n",
       "  /* unfitted */\n",
       "  background-color: var(--sklearn-color-fitted-level-0);\n",
       "}\n",
       "\n",
       "#sk-container-id-1 input.sk-toggleable__control:checked~div.sk-toggleable__content {\n",
       "  /* Expand drop-down */\n",
       "  max-height: 200px;\n",
       "  max-width: 100%;\n",
       "  overflow: auto;\n",
       "}\n",
       "\n",
       "#sk-container-id-1 input.sk-toggleable__control:checked~label.sk-toggleable__label-arrow:before {\n",
       "  content: \"▾\";\n",
       "}\n",
       "\n",
       "/* Pipeline/ColumnTransformer-specific style */\n",
       "\n",
       "#sk-container-id-1 div.sk-label input.sk-toggleable__control:checked~label.sk-toggleable__label {\n",
       "  color: var(--sklearn-color-text);\n",
       "  background-color: var(--sklearn-color-unfitted-level-2);\n",
       "}\n",
       "\n",
       "#sk-container-id-1 div.sk-label.fitted input.sk-toggleable__control:checked~label.sk-toggleable__label {\n",
       "  background-color: var(--sklearn-color-fitted-level-2);\n",
       "}\n",
       "\n",
       "/* Estimator-specific style */\n",
       "\n",
       "/* Colorize estimator box */\n",
       "#sk-container-id-1 div.sk-estimator input.sk-toggleable__control:checked~label.sk-toggleable__label {\n",
       "  /* unfitted */\n",
       "  background-color: var(--sklearn-color-unfitted-level-2);\n",
       "}\n",
       "\n",
       "#sk-container-id-1 div.sk-estimator.fitted input.sk-toggleable__control:checked~label.sk-toggleable__label {\n",
       "  /* fitted */\n",
       "  background-color: var(--sklearn-color-fitted-level-2);\n",
       "}\n",
       "\n",
       "#sk-container-id-1 div.sk-label label.sk-toggleable__label,\n",
       "#sk-container-id-1 div.sk-label label {\n",
       "  /* The background is the default theme color */\n",
       "  color: var(--sklearn-color-text-on-default-background);\n",
       "}\n",
       "\n",
       "/* On hover, darken the color of the background */\n",
       "#sk-container-id-1 div.sk-label:hover label.sk-toggleable__label {\n",
       "  color: var(--sklearn-color-text);\n",
       "  background-color: var(--sklearn-color-unfitted-level-2);\n",
       "}\n",
       "\n",
       "/* Label box, darken color on hover, fitted */\n",
       "#sk-container-id-1 div.sk-label.fitted:hover label.sk-toggleable__label.fitted {\n",
       "  color: var(--sklearn-color-text);\n",
       "  background-color: var(--sklearn-color-fitted-level-2);\n",
       "}\n",
       "\n",
       "/* Estimator label */\n",
       "\n",
       "#sk-container-id-1 div.sk-label label {\n",
       "  font-family: monospace;\n",
       "  font-weight: bold;\n",
       "  display: inline-block;\n",
       "  line-height: 1.2em;\n",
       "}\n",
       "\n",
       "#sk-container-id-1 div.sk-label-container {\n",
       "  text-align: center;\n",
       "}\n",
       "\n",
       "/* Estimator-specific */\n",
       "#sk-container-id-1 div.sk-estimator {\n",
       "  font-family: monospace;\n",
       "  border: 1px dotted var(--sklearn-color-border-box);\n",
       "  border-radius: 0.25em;\n",
       "  box-sizing: border-box;\n",
       "  margin-bottom: 0.5em;\n",
       "  /* unfitted */\n",
       "  background-color: var(--sklearn-color-unfitted-level-0);\n",
       "}\n",
       "\n",
       "#sk-container-id-1 div.sk-estimator.fitted {\n",
       "  /* fitted */\n",
       "  background-color: var(--sklearn-color-fitted-level-0);\n",
       "}\n",
       "\n",
       "/* on hover */\n",
       "#sk-container-id-1 div.sk-estimator:hover {\n",
       "  /* unfitted */\n",
       "  background-color: var(--sklearn-color-unfitted-level-2);\n",
       "}\n",
       "\n",
       "#sk-container-id-1 div.sk-estimator.fitted:hover {\n",
       "  /* fitted */\n",
       "  background-color: var(--sklearn-color-fitted-level-2);\n",
       "}\n",
       "\n",
       "/* Specification for estimator info (e.g. \"i\" and \"?\") */\n",
       "\n",
       "/* Common style for \"i\" and \"?\" */\n",
       "\n",
       ".sk-estimator-doc-link,\n",
       "a:link.sk-estimator-doc-link,\n",
       "a:visited.sk-estimator-doc-link {\n",
       "  float: right;\n",
       "  font-size: smaller;\n",
       "  line-height: 1em;\n",
       "  font-family: monospace;\n",
       "  background-color: var(--sklearn-color-background);\n",
       "  border-radius: 1em;\n",
       "  height: 1em;\n",
       "  width: 1em;\n",
       "  text-decoration: none !important;\n",
       "  margin-left: 0.5em;\n",
       "  text-align: center;\n",
       "  /* unfitted */\n",
       "  border: var(--sklearn-color-unfitted-level-1) 1pt solid;\n",
       "  color: var(--sklearn-color-unfitted-level-1);\n",
       "}\n",
       "\n",
       ".sk-estimator-doc-link.fitted,\n",
       "a:link.sk-estimator-doc-link.fitted,\n",
       "a:visited.sk-estimator-doc-link.fitted {\n",
       "  /* fitted */\n",
       "  border: var(--sklearn-color-fitted-level-1) 1pt solid;\n",
       "  color: var(--sklearn-color-fitted-level-1);\n",
       "}\n",
       "\n",
       "/* On hover */\n",
       "div.sk-estimator:hover .sk-estimator-doc-link:hover,\n",
       ".sk-estimator-doc-link:hover,\n",
       "div.sk-label-container:hover .sk-estimator-doc-link:hover,\n",
       ".sk-estimator-doc-link:hover {\n",
       "  /* unfitted */\n",
       "  background-color: var(--sklearn-color-unfitted-level-3);\n",
       "  color: var(--sklearn-color-background);\n",
       "  text-decoration: none;\n",
       "}\n",
       "\n",
       "div.sk-estimator.fitted:hover .sk-estimator-doc-link.fitted:hover,\n",
       ".sk-estimator-doc-link.fitted:hover,\n",
       "div.sk-label-container:hover .sk-estimator-doc-link.fitted:hover,\n",
       ".sk-estimator-doc-link.fitted:hover {\n",
       "  /* fitted */\n",
       "  background-color: var(--sklearn-color-fitted-level-3);\n",
       "  color: var(--sklearn-color-background);\n",
       "  text-decoration: none;\n",
       "}\n",
       "\n",
       "/* Span, style for the box shown on hovering the info icon */\n",
       ".sk-estimator-doc-link span {\n",
       "  display: none;\n",
       "  z-index: 9999;\n",
       "  position: relative;\n",
       "  font-weight: normal;\n",
       "  right: .2ex;\n",
       "  padding: .5ex;\n",
       "  margin: .5ex;\n",
       "  width: min-content;\n",
       "  min-width: 20ex;\n",
       "  max-width: 50ex;\n",
       "  color: var(--sklearn-color-text);\n",
       "  box-shadow: 2pt 2pt 4pt #999;\n",
       "  /* unfitted */\n",
       "  background: var(--sklearn-color-unfitted-level-0);\n",
       "  border: .5pt solid var(--sklearn-color-unfitted-level-3);\n",
       "}\n",
       "\n",
       ".sk-estimator-doc-link.fitted span {\n",
       "  /* fitted */\n",
       "  background: var(--sklearn-color-fitted-level-0);\n",
       "  border: var(--sklearn-color-fitted-level-3);\n",
       "}\n",
       "\n",
       ".sk-estimator-doc-link:hover span {\n",
       "  display: block;\n",
       "}\n",
       "\n",
       "/* \"?\"-specific style due to the `<a>` HTML tag */\n",
       "\n",
       "#sk-container-id-1 a.estimator_doc_link {\n",
       "  float: right;\n",
       "  font-size: 1rem;\n",
       "  line-height: 1em;\n",
       "  font-family: monospace;\n",
       "  background-color: var(--sklearn-color-background);\n",
       "  border-radius: 1rem;\n",
       "  height: 1rem;\n",
       "  width: 1rem;\n",
       "  text-decoration: none;\n",
       "  /* unfitted */\n",
       "  color: var(--sklearn-color-unfitted-level-1);\n",
       "  border: var(--sklearn-color-unfitted-level-1) 1pt solid;\n",
       "}\n",
       "\n",
       "#sk-container-id-1 a.estimator_doc_link.fitted {\n",
       "  /* fitted */\n",
       "  border: var(--sklearn-color-fitted-level-1) 1pt solid;\n",
       "  color: var(--sklearn-color-fitted-level-1);\n",
       "}\n",
       "\n",
       "/* On hover */\n",
       "#sk-container-id-1 a.estimator_doc_link:hover {\n",
       "  /* unfitted */\n",
       "  background-color: var(--sklearn-color-unfitted-level-3);\n",
       "  color: var(--sklearn-color-background);\n",
       "  text-decoration: none;\n",
       "}\n",
       "\n",
       "#sk-container-id-1 a.estimator_doc_link.fitted:hover {\n",
       "  /* fitted */\n",
       "  background-color: var(--sklearn-color-fitted-level-3);\n",
       "}\n",
       "</style><div id=\"sk-container-id-1\" class=\"sk-top-container\"><div class=\"sk-text-repr-fallback\"><pre>GridSearchCV(cv=TimeSeriesSplit(gap=0, max_train_size=None, n_splits=5, test_size=None),\n",
       "             error_score=&#x27;raise&#x27;,\n",
       "             estimator=Pipeline(steps=[(&#x27;preprocessor&#x27;,\n",
       "                                        ColumnTransformer(remainder=&#x27;passthrough&#x27;,\n",
       "                                                          transformers=[(&#x27;num&#x27;,\n",
       "                                                                         StandardScaler(),\n",
       "                                                                         [&#x27;day&#x27;,\n",
       "                                                                          &#x27;hour&#x27;,\n",
       "                                                                          &#x27;dayofweek&#x27;,\n",
       "                                                                          &#x27;lag_1&#x27;,\n",
       "                                                                          &#x27;lag_2&#x27;,\n",
       "                                                                          &#x27;lag_24&#x27;,\n",
       "                                                                          &#x27;rolling_mean&#x27;])])),\n",
       "                                       (&#x27;models&#x27;, LinearRegression())]),\n",
       "             n_jobs=-1,\n",
       "             param_grid=[{&#x27;models&#x27;: [LinearRegression()],\n",
       "                          &#x27;preprocessor__num&#x27;: [StandardScaler(),\n",
       "                                                MinMaxScaler(),\n",
       "                                                &#x27;passthrough&#x27;]},\n",
       "                         {&#x27;models&#x27;: [RandomForestRegressor(random_state=42)],\n",
       "                          &#x27;models__max_depth&#x27;: [3, 5, 7],\n",
       "                          &#x27;models__n_estimators&#x27;: [50, 100],\n",
       "                          &#x27;preprocessor__num&#x27;: [StandardScaler(),\n",
       "                                                MinMaxScaler(),\n",
       "                                                &#x27;passthrough&#x27;]}],\n",
       "             scoring=&#x27;neg_root_mean_squared_error&#x27;)</pre><b>In a Jupyter environment, please rerun this cell to show the HTML representation or trust the notebook. <br />On GitHub, the HTML representation is unable to render, please try loading this page with nbviewer.org.</b></div><div class=\"sk-container\" hidden><div class=\"sk-item sk-dashed-wrapped\"><div class=\"sk-label-container\"><div class=\"sk-label fitted sk-toggleable\"><input class=\"sk-toggleable__control sk-hidden--visually\" id=\"sk-estimator-id-1\" type=\"checkbox\" ><label for=\"sk-estimator-id-1\" class=\"sk-toggleable__label fitted sk-toggleable__label-arrow\"><div><div>GridSearchCV</div></div><div><a class=\"sk-estimator-doc-link fitted\" rel=\"noreferrer\" target=\"_blank\" href=\"https://scikit-learn.org/1.6/modules/generated/sklearn.model_selection.GridSearchCV.html\">?<span>Documentation for GridSearchCV</span></a><span class=\"sk-estimator-doc-link fitted\">i<span>Fitted</span></span></div></label><div class=\"sk-toggleable__content fitted\"><pre>GridSearchCV(cv=TimeSeriesSplit(gap=0, max_train_size=None, n_splits=5, test_size=None),\n",
       "             error_score=&#x27;raise&#x27;,\n",
       "             estimator=Pipeline(steps=[(&#x27;preprocessor&#x27;,\n",
       "                                        ColumnTransformer(remainder=&#x27;passthrough&#x27;,\n",
       "                                                          transformers=[(&#x27;num&#x27;,\n",
       "                                                                         StandardScaler(),\n",
       "                                                                         [&#x27;day&#x27;,\n",
       "                                                                          &#x27;hour&#x27;,\n",
       "                                                                          &#x27;dayofweek&#x27;,\n",
       "                                                                          &#x27;lag_1&#x27;,\n",
       "                                                                          &#x27;lag_2&#x27;,\n",
       "                                                                          &#x27;lag_24&#x27;,\n",
       "                                                                          &#x27;rolling_mean&#x27;])])),\n",
       "                                       (&#x27;models&#x27;, LinearRegression())]),\n",
       "             n_jobs=-1,\n",
       "             param_grid=[{&#x27;models&#x27;: [LinearRegression()],\n",
       "                          &#x27;preprocessor__num&#x27;: [StandardScaler(),\n",
       "                                                MinMaxScaler(),\n",
       "                                                &#x27;passthrough&#x27;]},\n",
       "                         {&#x27;models&#x27;: [RandomForestRegressor(random_state=42)],\n",
       "                          &#x27;models__max_depth&#x27;: [3, 5, 7],\n",
       "                          &#x27;models__n_estimators&#x27;: [50, 100],\n",
       "                          &#x27;preprocessor__num&#x27;: [StandardScaler(),\n",
       "                                                MinMaxScaler(),\n",
       "                                                &#x27;passthrough&#x27;]}],\n",
       "             scoring=&#x27;neg_root_mean_squared_error&#x27;)</pre></div> </div></div><div class=\"sk-parallel\"><div class=\"sk-parallel-item\"><div class=\"sk-item\"><div class=\"sk-label-container\"><div class=\"sk-label fitted sk-toggleable\"><input class=\"sk-toggleable__control sk-hidden--visually\" id=\"sk-estimator-id-2\" type=\"checkbox\" ><label for=\"sk-estimator-id-2\" class=\"sk-toggleable__label fitted sk-toggleable__label-arrow\"><div><div>best_estimator_: Pipeline</div></div></label><div class=\"sk-toggleable__content fitted\"><pre>Pipeline(steps=[(&#x27;preprocessor&#x27;,\n",
       "                 ColumnTransformer(remainder=&#x27;passthrough&#x27;,\n",
       "                                   transformers=[(&#x27;num&#x27;, StandardScaler(),\n",
       "                                                  [&#x27;day&#x27;, &#x27;hour&#x27;, &#x27;dayofweek&#x27;,\n",
       "                                                   &#x27;lag_1&#x27;, &#x27;lag_2&#x27;, &#x27;lag_24&#x27;,\n",
       "                                                   &#x27;rolling_mean&#x27;])])),\n",
       "                (&#x27;models&#x27;,\n",
       "                 RandomForestRegressor(max_depth=7, random_state=42))])</pre></div> </div></div><div class=\"sk-serial\"><div class=\"sk-item\"><div class=\"sk-serial\"><div class=\"sk-item sk-dashed-wrapped\"><div class=\"sk-label-container\"><div class=\"sk-label fitted sk-toggleable\"><input class=\"sk-toggleable__control sk-hidden--visually\" id=\"sk-estimator-id-3\" type=\"checkbox\" ><label for=\"sk-estimator-id-3\" class=\"sk-toggleable__label fitted sk-toggleable__label-arrow\"><div><div>preprocessor: ColumnTransformer</div></div><div><a class=\"sk-estimator-doc-link fitted\" rel=\"noreferrer\" target=\"_blank\" href=\"https://scikit-learn.org/1.6/modules/generated/sklearn.compose.ColumnTransformer.html\">?<span>Documentation for preprocessor: ColumnTransformer</span></a></div></label><div class=\"sk-toggleable__content fitted\"><pre>ColumnTransformer(remainder=&#x27;passthrough&#x27;,\n",
       "                  transformers=[(&#x27;num&#x27;, StandardScaler(),\n",
       "                                 [&#x27;day&#x27;, &#x27;hour&#x27;, &#x27;dayofweek&#x27;, &#x27;lag_1&#x27;, &#x27;lag_2&#x27;,\n",
       "                                  &#x27;lag_24&#x27;, &#x27;rolling_mean&#x27;])])</pre></div> </div></div><div class=\"sk-parallel\"><div class=\"sk-parallel-item\"><div class=\"sk-item\"><div class=\"sk-label-container\"><div class=\"sk-label fitted sk-toggleable\"><input class=\"sk-toggleable__control sk-hidden--visually\" id=\"sk-estimator-id-4\" type=\"checkbox\" ><label for=\"sk-estimator-id-4\" class=\"sk-toggleable__label fitted sk-toggleable__label-arrow\"><div><div>num</div></div></label><div class=\"sk-toggleable__content fitted\"><pre>[&#x27;day&#x27;, &#x27;hour&#x27;, &#x27;dayofweek&#x27;, &#x27;lag_1&#x27;, &#x27;lag_2&#x27;, &#x27;lag_24&#x27;, &#x27;rolling_mean&#x27;]</pre></div> </div></div><div class=\"sk-serial\"><div class=\"sk-item\"><div class=\"sk-estimator fitted sk-toggleable\"><input class=\"sk-toggleable__control sk-hidden--visually\" id=\"sk-estimator-id-5\" type=\"checkbox\" ><label for=\"sk-estimator-id-5\" class=\"sk-toggleable__label fitted sk-toggleable__label-arrow\"><div><div>StandardScaler</div></div><div><a class=\"sk-estimator-doc-link fitted\" rel=\"noreferrer\" target=\"_blank\" href=\"https://scikit-learn.org/1.6/modules/generated/sklearn.preprocessing.StandardScaler.html\">?<span>Documentation for StandardScaler</span></a></div></label><div class=\"sk-toggleable__content fitted\"><pre>StandardScaler()</pre></div> </div></div></div></div></div><div class=\"sk-parallel-item\"><div class=\"sk-item\"><div class=\"sk-label-container\"><div class=\"sk-label fitted sk-toggleable\"><input class=\"sk-toggleable__control sk-hidden--visually\" id=\"sk-estimator-id-6\" type=\"checkbox\" ><label for=\"sk-estimator-id-6\" class=\"sk-toggleable__label fitted sk-toggleable__label-arrow\"><div><div>remainder</div></div></label><div class=\"sk-toggleable__content fitted\"><pre>[]</pre></div> </div></div><div class=\"sk-serial\"><div class=\"sk-item\"><div class=\"sk-estimator fitted sk-toggleable\"><input class=\"sk-toggleable__control sk-hidden--visually\" id=\"sk-estimator-id-7\" type=\"checkbox\" ><label for=\"sk-estimator-id-7\" class=\"sk-toggleable__label fitted sk-toggleable__label-arrow\"><div><div>passthrough</div></div></label><div class=\"sk-toggleable__content fitted\"><pre>passthrough</pre></div> </div></div></div></div></div></div></div><div class=\"sk-item\"><div class=\"sk-estimator fitted sk-toggleable\"><input class=\"sk-toggleable__control sk-hidden--visually\" id=\"sk-estimator-id-8\" type=\"checkbox\" ><label for=\"sk-estimator-id-8\" class=\"sk-toggleable__label fitted sk-toggleable__label-arrow\"><div><div>RandomForestRegressor</div></div><div><a class=\"sk-estimator-doc-link fitted\" rel=\"noreferrer\" target=\"_blank\" href=\"https://scikit-learn.org/1.6/modules/generated/sklearn.ensemble.RandomForestRegressor.html\">?<span>Documentation for RandomForestRegressor</span></a></div></label><div class=\"sk-toggleable__content fitted\"><pre>RandomForestRegressor(max_depth=7, random_state=42)</pre></div> </div></div></div></div></div></div></div></div></div></div></div>"
      ]
     },
     "execution_count": 27,
     "metadata": {},
     "output_type": "execute_result"
    }
   ],
   "execution_count": 27
  },
  {
   "cell_type": "code",
   "metadata": {
    "ExecuteTime": {
     "end_time": "2025-06-26T15:07:52.240242Z",
     "start_time": "2025-06-26T15:07:52.229892Z"
    }
   },
   "source": [
    "results = pd.DataFrame(search.cv_results_).sort_values(by='rank_test_score')\n",
    "results.head()"
   ],
   "outputs": [
    {
     "data": {
      "text/plain": [
       "    mean_fit_time  std_fit_time  mean_score_time  std_score_time  \\\n",
       "18       0.357502      0.119255         0.008346        0.003547   \n",
       "20       0.299704      0.105023         0.006301        0.000287   \n",
       "19       0.316610      0.104460         0.010667        0.004517   \n",
       "16       0.175372      0.073912         0.006827        0.003894   \n",
       "17       0.194047      0.077411         0.008819        0.007104   \n",
       "\n",
       "                              param_models param_preprocessor__num  \\\n",
       "18  RandomForestRegressor(random_state=42)        StandardScaler()   \n",
       "20  RandomForestRegressor(random_state=42)             passthrough   \n",
       "19  RandomForestRegressor(random_state=42)          MinMaxScaler()   \n",
       "16  RandomForestRegressor(random_state=42)          MinMaxScaler()   \n",
       "17  RandomForestRegressor(random_state=42)             passthrough   \n",
       "\n",
       "    param_models__max_depth  param_models__n_estimators  \\\n",
       "18                      7.0                       100.0   \n",
       "20                      7.0                       100.0   \n",
       "19                      7.0                       100.0   \n",
       "16                      7.0                        50.0   \n",
       "17                      7.0                        50.0   \n",
       "\n",
       "                                               params  split0_test_score  \\\n",
       "18  {'models': RandomForestRegressor(random_state=...         -22.891082   \n",
       "20  {'models': RandomForestRegressor(random_state=...         -22.884783   \n",
       "19  {'models': RandomForestRegressor(random_state=...         -22.886428   \n",
       "16  {'models': RandomForestRegressor(random_state=...         -22.976970   \n",
       "17  {'models': RandomForestRegressor(random_state=...         -22.966716   \n",
       "\n",
       "    split1_test_score  split2_test_score  split3_test_score  \\\n",
       "18         -22.805561         -24.552191         -25.618843   \n",
       "20         -22.826253         -24.556685         -25.614061   \n",
       "19         -22.813871         -24.570585         -25.614541   \n",
       "16         -22.851080         -24.441125         -25.687968   \n",
       "17         -22.883417         -24.423862         -25.680412   \n",
       "\n",
       "    split4_test_score  mean_test_score  std_test_score  rank_test_score  \n",
       "18         -33.713603       -25.916256        4.039204                1  \n",
       "20         -33.705837       -25.917524        4.033739                2  \n",
       "19         -33.704885       -25.918062        4.034086                3  \n",
       "16         -33.635281       -25.918485        3.996152                4  \n",
       "17         -33.642797       -25.919441        3.997002                5  "
      ],
      "text/html": [
       "<div>\n",
       "<style scoped>\n",
       "    .dataframe tbody tr th:only-of-type {\n",
       "        vertical-align: middle;\n",
       "    }\n",
       "\n",
       "    .dataframe tbody tr th {\n",
       "        vertical-align: top;\n",
       "    }\n",
       "\n",
       "    .dataframe thead th {\n",
       "        text-align: right;\n",
       "    }\n",
       "</style>\n",
       "<table border=\"1\" class=\"dataframe\">\n",
       "  <thead>\n",
       "    <tr style=\"text-align: right;\">\n",
       "      <th></th>\n",
       "      <th>mean_fit_time</th>\n",
       "      <th>std_fit_time</th>\n",
       "      <th>mean_score_time</th>\n",
       "      <th>std_score_time</th>\n",
       "      <th>param_models</th>\n",
       "      <th>param_preprocessor__num</th>\n",
       "      <th>param_models__max_depth</th>\n",
       "      <th>param_models__n_estimators</th>\n",
       "      <th>params</th>\n",
       "      <th>split0_test_score</th>\n",
       "      <th>split1_test_score</th>\n",
       "      <th>split2_test_score</th>\n",
       "      <th>split3_test_score</th>\n",
       "      <th>split4_test_score</th>\n",
       "      <th>mean_test_score</th>\n",
       "      <th>std_test_score</th>\n",
       "      <th>rank_test_score</th>\n",
       "    </tr>\n",
       "  </thead>\n",
       "  <tbody>\n",
       "    <tr>\n",
       "      <th>18</th>\n",
       "      <td>0.357502</td>\n",
       "      <td>0.119255</td>\n",
       "      <td>0.008346</td>\n",
       "      <td>0.003547</td>\n",
       "      <td>RandomForestRegressor(random_state=42)</td>\n",
       "      <td>StandardScaler()</td>\n",
       "      <td>7.0</td>\n",
       "      <td>100.0</td>\n",
       "      <td>{'models': RandomForestRegressor(random_state=...</td>\n",
       "      <td>-22.891082</td>\n",
       "      <td>-22.805561</td>\n",
       "      <td>-24.552191</td>\n",
       "      <td>-25.618843</td>\n",
       "      <td>-33.713603</td>\n",
       "      <td>-25.916256</td>\n",
       "      <td>4.039204</td>\n",
       "      <td>1</td>\n",
       "    </tr>\n",
       "    <tr>\n",
       "      <th>20</th>\n",
       "      <td>0.299704</td>\n",
       "      <td>0.105023</td>\n",
       "      <td>0.006301</td>\n",
       "      <td>0.000287</td>\n",
       "      <td>RandomForestRegressor(random_state=42)</td>\n",
       "      <td>passthrough</td>\n",
       "      <td>7.0</td>\n",
       "      <td>100.0</td>\n",
       "      <td>{'models': RandomForestRegressor(random_state=...</td>\n",
       "      <td>-22.884783</td>\n",
       "      <td>-22.826253</td>\n",
       "      <td>-24.556685</td>\n",
       "      <td>-25.614061</td>\n",
       "      <td>-33.705837</td>\n",
       "      <td>-25.917524</td>\n",
       "      <td>4.033739</td>\n",
       "      <td>2</td>\n",
       "    </tr>\n",
       "    <tr>\n",
       "      <th>19</th>\n",
       "      <td>0.316610</td>\n",
       "      <td>0.104460</td>\n",
       "      <td>0.010667</td>\n",
       "      <td>0.004517</td>\n",
       "      <td>RandomForestRegressor(random_state=42)</td>\n",
       "      <td>MinMaxScaler()</td>\n",
       "      <td>7.0</td>\n",
       "      <td>100.0</td>\n",
       "      <td>{'models': RandomForestRegressor(random_state=...</td>\n",
       "      <td>-22.886428</td>\n",
       "      <td>-22.813871</td>\n",
       "      <td>-24.570585</td>\n",
       "      <td>-25.614541</td>\n",
       "      <td>-33.704885</td>\n",
       "      <td>-25.918062</td>\n",
       "      <td>4.034086</td>\n",
       "      <td>3</td>\n",
       "    </tr>\n",
       "    <tr>\n",
       "      <th>16</th>\n",
       "      <td>0.175372</td>\n",
       "      <td>0.073912</td>\n",
       "      <td>0.006827</td>\n",
       "      <td>0.003894</td>\n",
       "      <td>RandomForestRegressor(random_state=42)</td>\n",
       "      <td>MinMaxScaler()</td>\n",
       "      <td>7.0</td>\n",
       "      <td>50.0</td>\n",
       "      <td>{'models': RandomForestRegressor(random_state=...</td>\n",
       "      <td>-22.976970</td>\n",
       "      <td>-22.851080</td>\n",
       "      <td>-24.441125</td>\n",
       "      <td>-25.687968</td>\n",
       "      <td>-33.635281</td>\n",
       "      <td>-25.918485</td>\n",
       "      <td>3.996152</td>\n",
       "      <td>4</td>\n",
       "    </tr>\n",
       "    <tr>\n",
       "      <th>17</th>\n",
       "      <td>0.194047</td>\n",
       "      <td>0.077411</td>\n",
       "      <td>0.008819</td>\n",
       "      <td>0.007104</td>\n",
       "      <td>RandomForestRegressor(random_state=42)</td>\n",
       "      <td>passthrough</td>\n",
       "      <td>7.0</td>\n",
       "      <td>50.0</td>\n",
       "      <td>{'models': RandomForestRegressor(random_state=...</td>\n",
       "      <td>-22.966716</td>\n",
       "      <td>-22.883417</td>\n",
       "      <td>-24.423862</td>\n",
       "      <td>-25.680412</td>\n",
       "      <td>-33.642797</td>\n",
       "      <td>-25.919441</td>\n",
       "      <td>3.997002</td>\n",
       "      <td>5</td>\n",
       "    </tr>\n",
       "  </tbody>\n",
       "</table>\n",
       "</div>"
      ]
     },
     "execution_count": 28,
     "metadata": {},
     "output_type": "execute_result"
    }
   ],
   "execution_count": 28
  },
  {
   "cell_type": "code",
   "metadata": {
    "ExecuteTime": {
     "end_time": "2025-06-26T15:07:52.247710Z",
     "start_time": "2025-06-26T15:07:52.245333Z"
    }
   },
   "source": [
    "print(search.best_params_, (-1)*search.best_score_)"
   ],
   "outputs": [
    {
     "name": "stdout",
     "output_type": "stream",
     "text": [
      "{'models': RandomForestRegressor(random_state=42), 'models__max_depth': 7, 'models__n_estimators': 100, 'preprocessor__num': StandardScaler()} 25.916255934100008\n"
     ]
    }
   ],
   "execution_count": 29
  },
  {
   "cell_type": "markdown",
   "metadata": {},
   "source": "## Testing"
  },
  {
   "cell_type": "code",
   "metadata": {
    "ExecuteTime": {
     "end_time": "2025-06-26T15:07:52.261351Z",
     "start_time": "2025-06-26T15:07:52.254771Z"
    }
   },
   "source": [
    "best_model = search.best_estimator_\n",
    "best_model"
   ],
   "outputs": [
    {
     "data": {
      "text/plain": [
       "Pipeline(steps=[('preprocessor',\n",
       "                 ColumnTransformer(remainder='passthrough',\n",
       "                                   transformers=[('num', StandardScaler(),\n",
       "                                                  ['day', 'hour', 'dayofweek',\n",
       "                                                   'lag_1', 'lag_2', 'lag_24',\n",
       "                                                   'rolling_mean'])])),\n",
       "                ('models',\n",
       "                 RandomForestRegressor(max_depth=7, random_state=42))])"
      ],
      "text/html": [
       "<style>#sk-container-id-2 {\n",
       "  /* Definition of color scheme common for light and dark mode */\n",
       "  --sklearn-color-text: #000;\n",
       "  --sklearn-color-text-muted: #666;\n",
       "  --sklearn-color-line: gray;\n",
       "  /* Definition of color scheme for unfitted estimators */\n",
       "  --sklearn-color-unfitted-level-0: #fff5e6;\n",
       "  --sklearn-color-unfitted-level-1: #f6e4d2;\n",
       "  --sklearn-color-unfitted-level-2: #ffe0b3;\n",
       "  --sklearn-color-unfitted-level-3: chocolate;\n",
       "  /* Definition of color scheme for fitted estimators */\n",
       "  --sklearn-color-fitted-level-0: #f0f8ff;\n",
       "  --sklearn-color-fitted-level-1: #d4ebff;\n",
       "  --sklearn-color-fitted-level-2: #b3dbfd;\n",
       "  --sklearn-color-fitted-level-3: cornflowerblue;\n",
       "\n",
       "  /* Specific color for light theme */\n",
       "  --sklearn-color-text-on-default-background: var(--sg-text-color, var(--theme-code-foreground, var(--jp-content-font-color1, black)));\n",
       "  --sklearn-color-background: var(--sg-background-color, var(--theme-background, var(--jp-layout-color0, white)));\n",
       "  --sklearn-color-border-box: var(--sg-text-color, var(--theme-code-foreground, var(--jp-content-font-color1, black)));\n",
       "  --sklearn-color-icon: #696969;\n",
       "\n",
       "  @media (prefers-color-scheme: dark) {\n",
       "    /* Redefinition of color scheme for dark theme */\n",
       "    --sklearn-color-text-on-default-background: var(--sg-text-color, var(--theme-code-foreground, var(--jp-content-font-color1, white)));\n",
       "    --sklearn-color-background: var(--sg-background-color, var(--theme-background, var(--jp-layout-color0, #111)));\n",
       "    --sklearn-color-border-box: var(--sg-text-color, var(--theme-code-foreground, var(--jp-content-font-color1, white)));\n",
       "    --sklearn-color-icon: #878787;\n",
       "  }\n",
       "}\n",
       "\n",
       "#sk-container-id-2 {\n",
       "  color: var(--sklearn-color-text);\n",
       "}\n",
       "\n",
       "#sk-container-id-2 pre {\n",
       "  padding: 0;\n",
       "}\n",
       "\n",
       "#sk-container-id-2 input.sk-hidden--visually {\n",
       "  border: 0;\n",
       "  clip: rect(1px 1px 1px 1px);\n",
       "  clip: rect(1px, 1px, 1px, 1px);\n",
       "  height: 1px;\n",
       "  margin: -1px;\n",
       "  overflow: hidden;\n",
       "  padding: 0;\n",
       "  position: absolute;\n",
       "  width: 1px;\n",
       "}\n",
       "\n",
       "#sk-container-id-2 div.sk-dashed-wrapped {\n",
       "  border: 1px dashed var(--sklearn-color-line);\n",
       "  margin: 0 0.4em 0.5em 0.4em;\n",
       "  box-sizing: border-box;\n",
       "  padding-bottom: 0.4em;\n",
       "  background-color: var(--sklearn-color-background);\n",
       "}\n",
       "\n",
       "#sk-container-id-2 div.sk-container {\n",
       "  /* jupyter's `normalize.less` sets `[hidden] { display: none; }`\n",
       "     but bootstrap.min.css set `[hidden] { display: none !important; }`\n",
       "     so we also need the `!important` here to be able to override the\n",
       "     default hidden behavior on the sphinx rendered scikit-learn.org.\n",
       "     See: https://github.com/scikit-learn/scikit-learn/issues/21755 */\n",
       "  display: inline-block !important;\n",
       "  position: relative;\n",
       "}\n",
       "\n",
       "#sk-container-id-2 div.sk-text-repr-fallback {\n",
       "  display: none;\n",
       "}\n",
       "\n",
       "div.sk-parallel-item,\n",
       "div.sk-serial,\n",
       "div.sk-item {\n",
       "  /* draw centered vertical line to link estimators */\n",
       "  background-image: linear-gradient(var(--sklearn-color-text-on-default-background), var(--sklearn-color-text-on-default-background));\n",
       "  background-size: 2px 100%;\n",
       "  background-repeat: no-repeat;\n",
       "  background-position: center center;\n",
       "}\n",
       "\n",
       "/* Parallel-specific style estimator block */\n",
       "\n",
       "#sk-container-id-2 div.sk-parallel-item::after {\n",
       "  content: \"\";\n",
       "  width: 100%;\n",
       "  border-bottom: 2px solid var(--sklearn-color-text-on-default-background);\n",
       "  flex-grow: 1;\n",
       "}\n",
       "\n",
       "#sk-container-id-2 div.sk-parallel {\n",
       "  display: flex;\n",
       "  align-items: stretch;\n",
       "  justify-content: center;\n",
       "  background-color: var(--sklearn-color-background);\n",
       "  position: relative;\n",
       "}\n",
       "\n",
       "#sk-container-id-2 div.sk-parallel-item {\n",
       "  display: flex;\n",
       "  flex-direction: column;\n",
       "}\n",
       "\n",
       "#sk-container-id-2 div.sk-parallel-item:first-child::after {\n",
       "  align-self: flex-end;\n",
       "  width: 50%;\n",
       "}\n",
       "\n",
       "#sk-container-id-2 div.sk-parallel-item:last-child::after {\n",
       "  align-self: flex-start;\n",
       "  width: 50%;\n",
       "}\n",
       "\n",
       "#sk-container-id-2 div.sk-parallel-item:only-child::after {\n",
       "  width: 0;\n",
       "}\n",
       "\n",
       "/* Serial-specific style estimator block */\n",
       "\n",
       "#sk-container-id-2 div.sk-serial {\n",
       "  display: flex;\n",
       "  flex-direction: column;\n",
       "  align-items: center;\n",
       "  background-color: var(--sklearn-color-background);\n",
       "  padding-right: 1em;\n",
       "  padding-left: 1em;\n",
       "}\n",
       "\n",
       "\n",
       "/* Toggleable style: style used for estimator/Pipeline/ColumnTransformer box that is\n",
       "clickable and can be expanded/collapsed.\n",
       "- Pipeline and ColumnTransformer use this feature and define the default style\n",
       "- Estimators will overwrite some part of the style using the `sk-estimator` class\n",
       "*/\n",
       "\n",
       "/* Pipeline and ColumnTransformer style (default) */\n",
       "\n",
       "#sk-container-id-2 div.sk-toggleable {\n",
       "  /* Default theme specific background. It is overwritten whether we have a\n",
       "  specific estimator or a Pipeline/ColumnTransformer */\n",
       "  background-color: var(--sklearn-color-background);\n",
       "}\n",
       "\n",
       "/* Toggleable label */\n",
       "#sk-container-id-2 label.sk-toggleable__label {\n",
       "  cursor: pointer;\n",
       "  display: flex;\n",
       "  width: 100%;\n",
       "  margin-bottom: 0;\n",
       "  padding: 0.5em;\n",
       "  box-sizing: border-box;\n",
       "  text-align: center;\n",
       "  align-items: start;\n",
       "  justify-content: space-between;\n",
       "  gap: 0.5em;\n",
       "}\n",
       "\n",
       "#sk-container-id-2 label.sk-toggleable__label .caption {\n",
       "  font-size: 0.6rem;\n",
       "  font-weight: lighter;\n",
       "  color: var(--sklearn-color-text-muted);\n",
       "}\n",
       "\n",
       "#sk-container-id-2 label.sk-toggleable__label-arrow:before {\n",
       "  /* Arrow on the left of the label */\n",
       "  content: \"▸\";\n",
       "  float: left;\n",
       "  margin-right: 0.25em;\n",
       "  color: var(--sklearn-color-icon);\n",
       "}\n",
       "\n",
       "#sk-container-id-2 label.sk-toggleable__label-arrow:hover:before {\n",
       "  color: var(--sklearn-color-text);\n",
       "}\n",
       "\n",
       "/* Toggleable content - dropdown */\n",
       "\n",
       "#sk-container-id-2 div.sk-toggleable__content {\n",
       "  max-height: 0;\n",
       "  max-width: 0;\n",
       "  overflow: hidden;\n",
       "  text-align: left;\n",
       "  /* unfitted */\n",
       "  background-color: var(--sklearn-color-unfitted-level-0);\n",
       "}\n",
       "\n",
       "#sk-container-id-2 div.sk-toggleable__content.fitted {\n",
       "  /* fitted */\n",
       "  background-color: var(--sklearn-color-fitted-level-0);\n",
       "}\n",
       "\n",
       "#sk-container-id-2 div.sk-toggleable__content pre {\n",
       "  margin: 0.2em;\n",
       "  border-radius: 0.25em;\n",
       "  color: var(--sklearn-color-text);\n",
       "  /* unfitted */\n",
       "  background-color: var(--sklearn-color-unfitted-level-0);\n",
       "}\n",
       "\n",
       "#sk-container-id-2 div.sk-toggleable__content.fitted pre {\n",
       "  /* unfitted */\n",
       "  background-color: var(--sklearn-color-fitted-level-0);\n",
       "}\n",
       "\n",
       "#sk-container-id-2 input.sk-toggleable__control:checked~div.sk-toggleable__content {\n",
       "  /* Expand drop-down */\n",
       "  max-height: 200px;\n",
       "  max-width: 100%;\n",
       "  overflow: auto;\n",
       "}\n",
       "\n",
       "#sk-container-id-2 input.sk-toggleable__control:checked~label.sk-toggleable__label-arrow:before {\n",
       "  content: \"▾\";\n",
       "}\n",
       "\n",
       "/* Pipeline/ColumnTransformer-specific style */\n",
       "\n",
       "#sk-container-id-2 div.sk-label input.sk-toggleable__control:checked~label.sk-toggleable__label {\n",
       "  color: var(--sklearn-color-text);\n",
       "  background-color: var(--sklearn-color-unfitted-level-2);\n",
       "}\n",
       "\n",
       "#sk-container-id-2 div.sk-label.fitted input.sk-toggleable__control:checked~label.sk-toggleable__label {\n",
       "  background-color: var(--sklearn-color-fitted-level-2);\n",
       "}\n",
       "\n",
       "/* Estimator-specific style */\n",
       "\n",
       "/* Colorize estimator box */\n",
       "#sk-container-id-2 div.sk-estimator input.sk-toggleable__control:checked~label.sk-toggleable__label {\n",
       "  /* unfitted */\n",
       "  background-color: var(--sklearn-color-unfitted-level-2);\n",
       "}\n",
       "\n",
       "#sk-container-id-2 div.sk-estimator.fitted input.sk-toggleable__control:checked~label.sk-toggleable__label {\n",
       "  /* fitted */\n",
       "  background-color: var(--sklearn-color-fitted-level-2);\n",
       "}\n",
       "\n",
       "#sk-container-id-2 div.sk-label label.sk-toggleable__label,\n",
       "#sk-container-id-2 div.sk-label label {\n",
       "  /* The background is the default theme color */\n",
       "  color: var(--sklearn-color-text-on-default-background);\n",
       "}\n",
       "\n",
       "/* On hover, darken the color of the background */\n",
       "#sk-container-id-2 div.sk-label:hover label.sk-toggleable__label {\n",
       "  color: var(--sklearn-color-text);\n",
       "  background-color: var(--sklearn-color-unfitted-level-2);\n",
       "}\n",
       "\n",
       "/* Label box, darken color on hover, fitted */\n",
       "#sk-container-id-2 div.sk-label.fitted:hover label.sk-toggleable__label.fitted {\n",
       "  color: var(--sklearn-color-text);\n",
       "  background-color: var(--sklearn-color-fitted-level-2);\n",
       "}\n",
       "\n",
       "/* Estimator label */\n",
       "\n",
       "#sk-container-id-2 div.sk-label label {\n",
       "  font-family: monospace;\n",
       "  font-weight: bold;\n",
       "  display: inline-block;\n",
       "  line-height: 1.2em;\n",
       "}\n",
       "\n",
       "#sk-container-id-2 div.sk-label-container {\n",
       "  text-align: center;\n",
       "}\n",
       "\n",
       "/* Estimator-specific */\n",
       "#sk-container-id-2 div.sk-estimator {\n",
       "  font-family: monospace;\n",
       "  border: 1px dotted var(--sklearn-color-border-box);\n",
       "  border-radius: 0.25em;\n",
       "  box-sizing: border-box;\n",
       "  margin-bottom: 0.5em;\n",
       "  /* unfitted */\n",
       "  background-color: var(--sklearn-color-unfitted-level-0);\n",
       "}\n",
       "\n",
       "#sk-container-id-2 div.sk-estimator.fitted {\n",
       "  /* fitted */\n",
       "  background-color: var(--sklearn-color-fitted-level-0);\n",
       "}\n",
       "\n",
       "/* on hover */\n",
       "#sk-container-id-2 div.sk-estimator:hover {\n",
       "  /* unfitted */\n",
       "  background-color: var(--sklearn-color-unfitted-level-2);\n",
       "}\n",
       "\n",
       "#sk-container-id-2 div.sk-estimator.fitted:hover {\n",
       "  /* fitted */\n",
       "  background-color: var(--sklearn-color-fitted-level-2);\n",
       "}\n",
       "\n",
       "/* Specification for estimator info (e.g. \"i\" and \"?\") */\n",
       "\n",
       "/* Common style for \"i\" and \"?\" */\n",
       "\n",
       ".sk-estimator-doc-link,\n",
       "a:link.sk-estimator-doc-link,\n",
       "a:visited.sk-estimator-doc-link {\n",
       "  float: right;\n",
       "  font-size: smaller;\n",
       "  line-height: 1em;\n",
       "  font-family: monospace;\n",
       "  background-color: var(--sklearn-color-background);\n",
       "  border-radius: 1em;\n",
       "  height: 1em;\n",
       "  width: 1em;\n",
       "  text-decoration: none !important;\n",
       "  margin-left: 0.5em;\n",
       "  text-align: center;\n",
       "  /* unfitted */\n",
       "  border: var(--sklearn-color-unfitted-level-1) 1pt solid;\n",
       "  color: var(--sklearn-color-unfitted-level-1);\n",
       "}\n",
       "\n",
       ".sk-estimator-doc-link.fitted,\n",
       "a:link.sk-estimator-doc-link.fitted,\n",
       "a:visited.sk-estimator-doc-link.fitted {\n",
       "  /* fitted */\n",
       "  border: var(--sklearn-color-fitted-level-1) 1pt solid;\n",
       "  color: var(--sklearn-color-fitted-level-1);\n",
       "}\n",
       "\n",
       "/* On hover */\n",
       "div.sk-estimator:hover .sk-estimator-doc-link:hover,\n",
       ".sk-estimator-doc-link:hover,\n",
       "div.sk-label-container:hover .sk-estimator-doc-link:hover,\n",
       ".sk-estimator-doc-link:hover {\n",
       "  /* unfitted */\n",
       "  background-color: var(--sklearn-color-unfitted-level-3);\n",
       "  color: var(--sklearn-color-background);\n",
       "  text-decoration: none;\n",
       "}\n",
       "\n",
       "div.sk-estimator.fitted:hover .sk-estimator-doc-link.fitted:hover,\n",
       ".sk-estimator-doc-link.fitted:hover,\n",
       "div.sk-label-container:hover .sk-estimator-doc-link.fitted:hover,\n",
       ".sk-estimator-doc-link.fitted:hover {\n",
       "  /* fitted */\n",
       "  background-color: var(--sklearn-color-fitted-level-3);\n",
       "  color: var(--sklearn-color-background);\n",
       "  text-decoration: none;\n",
       "}\n",
       "\n",
       "/* Span, style for the box shown on hovering the info icon */\n",
       ".sk-estimator-doc-link span {\n",
       "  display: none;\n",
       "  z-index: 9999;\n",
       "  position: relative;\n",
       "  font-weight: normal;\n",
       "  right: .2ex;\n",
       "  padding: .5ex;\n",
       "  margin: .5ex;\n",
       "  width: min-content;\n",
       "  min-width: 20ex;\n",
       "  max-width: 50ex;\n",
       "  color: var(--sklearn-color-text);\n",
       "  box-shadow: 2pt 2pt 4pt #999;\n",
       "  /* unfitted */\n",
       "  background: var(--sklearn-color-unfitted-level-0);\n",
       "  border: .5pt solid var(--sklearn-color-unfitted-level-3);\n",
       "}\n",
       "\n",
       ".sk-estimator-doc-link.fitted span {\n",
       "  /* fitted */\n",
       "  background: var(--sklearn-color-fitted-level-0);\n",
       "  border: var(--sklearn-color-fitted-level-3);\n",
       "}\n",
       "\n",
       ".sk-estimator-doc-link:hover span {\n",
       "  display: block;\n",
       "}\n",
       "\n",
       "/* \"?\"-specific style due to the `<a>` HTML tag */\n",
       "\n",
       "#sk-container-id-2 a.estimator_doc_link {\n",
       "  float: right;\n",
       "  font-size: 1rem;\n",
       "  line-height: 1em;\n",
       "  font-family: monospace;\n",
       "  background-color: var(--sklearn-color-background);\n",
       "  border-radius: 1rem;\n",
       "  height: 1rem;\n",
       "  width: 1rem;\n",
       "  text-decoration: none;\n",
       "  /* unfitted */\n",
       "  color: var(--sklearn-color-unfitted-level-1);\n",
       "  border: var(--sklearn-color-unfitted-level-1) 1pt solid;\n",
       "}\n",
       "\n",
       "#sk-container-id-2 a.estimator_doc_link.fitted {\n",
       "  /* fitted */\n",
       "  border: var(--sklearn-color-fitted-level-1) 1pt solid;\n",
       "  color: var(--sklearn-color-fitted-level-1);\n",
       "}\n",
       "\n",
       "/* On hover */\n",
       "#sk-container-id-2 a.estimator_doc_link:hover {\n",
       "  /* unfitted */\n",
       "  background-color: var(--sklearn-color-unfitted-level-3);\n",
       "  color: var(--sklearn-color-background);\n",
       "  text-decoration: none;\n",
       "}\n",
       "\n",
       "#sk-container-id-2 a.estimator_doc_link.fitted:hover {\n",
       "  /* fitted */\n",
       "  background-color: var(--sklearn-color-fitted-level-3);\n",
       "}\n",
       "</style><div id=\"sk-container-id-2\" class=\"sk-top-container\"><div class=\"sk-text-repr-fallback\"><pre>Pipeline(steps=[(&#x27;preprocessor&#x27;,\n",
       "                 ColumnTransformer(remainder=&#x27;passthrough&#x27;,\n",
       "                                   transformers=[(&#x27;num&#x27;, StandardScaler(),\n",
       "                                                  [&#x27;day&#x27;, &#x27;hour&#x27;, &#x27;dayofweek&#x27;,\n",
       "                                                   &#x27;lag_1&#x27;, &#x27;lag_2&#x27;, &#x27;lag_24&#x27;,\n",
       "                                                   &#x27;rolling_mean&#x27;])])),\n",
       "                (&#x27;models&#x27;,\n",
       "                 RandomForestRegressor(max_depth=7, random_state=42))])</pre><b>In a Jupyter environment, please rerun this cell to show the HTML representation or trust the notebook. <br />On GitHub, the HTML representation is unable to render, please try loading this page with nbviewer.org.</b></div><div class=\"sk-container\" hidden><div class=\"sk-item sk-dashed-wrapped\"><div class=\"sk-label-container\"><div class=\"sk-label fitted sk-toggleable\"><input class=\"sk-toggleable__control sk-hidden--visually\" id=\"sk-estimator-id-9\" type=\"checkbox\" ><label for=\"sk-estimator-id-9\" class=\"sk-toggleable__label fitted sk-toggleable__label-arrow\"><div><div>Pipeline</div></div><div><a class=\"sk-estimator-doc-link fitted\" rel=\"noreferrer\" target=\"_blank\" href=\"https://scikit-learn.org/1.6/modules/generated/sklearn.pipeline.Pipeline.html\">?<span>Documentation for Pipeline</span></a><span class=\"sk-estimator-doc-link fitted\">i<span>Fitted</span></span></div></label><div class=\"sk-toggleable__content fitted\"><pre>Pipeline(steps=[(&#x27;preprocessor&#x27;,\n",
       "                 ColumnTransformer(remainder=&#x27;passthrough&#x27;,\n",
       "                                   transformers=[(&#x27;num&#x27;, StandardScaler(),\n",
       "                                                  [&#x27;day&#x27;, &#x27;hour&#x27;, &#x27;dayofweek&#x27;,\n",
       "                                                   &#x27;lag_1&#x27;, &#x27;lag_2&#x27;, &#x27;lag_24&#x27;,\n",
       "                                                   &#x27;rolling_mean&#x27;])])),\n",
       "                (&#x27;models&#x27;,\n",
       "                 RandomForestRegressor(max_depth=7, random_state=42))])</pre></div> </div></div><div class=\"sk-serial\"><div class=\"sk-item sk-dashed-wrapped\"><div class=\"sk-label-container\"><div class=\"sk-label fitted sk-toggleable\"><input class=\"sk-toggleable__control sk-hidden--visually\" id=\"sk-estimator-id-10\" type=\"checkbox\" ><label for=\"sk-estimator-id-10\" class=\"sk-toggleable__label fitted sk-toggleable__label-arrow\"><div><div>preprocessor: ColumnTransformer</div></div><div><a class=\"sk-estimator-doc-link fitted\" rel=\"noreferrer\" target=\"_blank\" href=\"https://scikit-learn.org/1.6/modules/generated/sklearn.compose.ColumnTransformer.html\">?<span>Documentation for preprocessor: ColumnTransformer</span></a></div></label><div class=\"sk-toggleable__content fitted\"><pre>ColumnTransformer(remainder=&#x27;passthrough&#x27;,\n",
       "                  transformers=[(&#x27;num&#x27;, StandardScaler(),\n",
       "                                 [&#x27;day&#x27;, &#x27;hour&#x27;, &#x27;dayofweek&#x27;, &#x27;lag_1&#x27;, &#x27;lag_2&#x27;,\n",
       "                                  &#x27;lag_24&#x27;, &#x27;rolling_mean&#x27;])])</pre></div> </div></div><div class=\"sk-parallel\"><div class=\"sk-parallel-item\"><div class=\"sk-item\"><div class=\"sk-label-container\"><div class=\"sk-label fitted sk-toggleable\"><input class=\"sk-toggleable__control sk-hidden--visually\" id=\"sk-estimator-id-11\" type=\"checkbox\" ><label for=\"sk-estimator-id-11\" class=\"sk-toggleable__label fitted sk-toggleable__label-arrow\"><div><div>num</div></div></label><div class=\"sk-toggleable__content fitted\"><pre>[&#x27;day&#x27;, &#x27;hour&#x27;, &#x27;dayofweek&#x27;, &#x27;lag_1&#x27;, &#x27;lag_2&#x27;, &#x27;lag_24&#x27;, &#x27;rolling_mean&#x27;]</pre></div> </div></div><div class=\"sk-serial\"><div class=\"sk-item\"><div class=\"sk-estimator fitted sk-toggleable\"><input class=\"sk-toggleable__control sk-hidden--visually\" id=\"sk-estimator-id-12\" type=\"checkbox\" ><label for=\"sk-estimator-id-12\" class=\"sk-toggleable__label fitted sk-toggleable__label-arrow\"><div><div>StandardScaler</div></div><div><a class=\"sk-estimator-doc-link fitted\" rel=\"noreferrer\" target=\"_blank\" href=\"https://scikit-learn.org/1.6/modules/generated/sklearn.preprocessing.StandardScaler.html\">?<span>Documentation for StandardScaler</span></a></div></label><div class=\"sk-toggleable__content fitted\"><pre>StandardScaler()</pre></div> </div></div></div></div></div><div class=\"sk-parallel-item\"><div class=\"sk-item\"><div class=\"sk-label-container\"><div class=\"sk-label fitted sk-toggleable\"><input class=\"sk-toggleable__control sk-hidden--visually\" id=\"sk-estimator-id-13\" type=\"checkbox\" ><label for=\"sk-estimator-id-13\" class=\"sk-toggleable__label fitted sk-toggleable__label-arrow\"><div><div>remainder</div></div></label><div class=\"sk-toggleable__content fitted\"><pre>[]</pre></div> </div></div><div class=\"sk-serial\"><div class=\"sk-item\"><div class=\"sk-estimator fitted sk-toggleable\"><input class=\"sk-toggleable__control sk-hidden--visually\" id=\"sk-estimator-id-14\" type=\"checkbox\" ><label for=\"sk-estimator-id-14\" class=\"sk-toggleable__label fitted sk-toggleable__label-arrow\"><div><div>passthrough</div></div></label><div class=\"sk-toggleable__content fitted\"><pre>passthrough</pre></div> </div></div></div></div></div></div></div><div class=\"sk-item\"><div class=\"sk-estimator fitted sk-toggleable\"><input class=\"sk-toggleable__control sk-hidden--visually\" id=\"sk-estimator-id-15\" type=\"checkbox\" ><label for=\"sk-estimator-id-15\" class=\"sk-toggleable__label fitted sk-toggleable__label-arrow\"><div><div>RandomForestRegressor</div></div><div><a class=\"sk-estimator-doc-link fitted\" rel=\"noreferrer\" target=\"_blank\" href=\"https://scikit-learn.org/1.6/modules/generated/sklearn.ensemble.RandomForestRegressor.html\">?<span>Documentation for RandomForestRegressor</span></a></div></label><div class=\"sk-toggleable__content fitted\"><pre>RandomForestRegressor(max_depth=7, random_state=42)</pre></div> </div></div></div></div></div></div>"
      ]
     },
     "execution_count": 30,
     "metadata": {},
     "output_type": "execute_result"
    }
   ],
   "execution_count": 30
  },
  {
   "cell_type": "code",
   "metadata": {
    "ExecuteTime": {
     "end_time": "2025-06-26T15:07:52.298392Z",
     "start_time": "2025-06-26T15:07:52.288739Z"
    }
   },
   "source": "y_pred = best_model.predict(X_test)",
   "outputs": [],
   "execution_count": 31
  },
  {
   "metadata": {
    "ExecuteTime": {
     "end_time": "2025-06-26T15:07:52.311880Z",
     "start_time": "2025-06-26T15:07:52.307392Z"
    }
   },
   "cell_type": "code",
   "source": "y_test",
   "outputs": [
    {
     "data": {
      "text/plain": [
       "datetime\n",
       "2018-08-13 16:00:00    144\n",
       "2018-08-13 17:00:00    152\n",
       "2018-08-13 18:00:00    104\n",
       "2018-08-13 19:00:00     91\n",
       "2018-08-13 20:00:00     82\n",
       "                      ... \n",
       "2018-08-31 19:00:00    136\n",
       "2018-08-31 20:00:00    154\n",
       "2018-08-31 21:00:00    159\n",
       "2018-08-31 22:00:00    223\n",
       "2018-08-31 23:00:00    205\n",
       "Freq: h, Name: num_orders, Length: 440, dtype: int64"
      ]
     },
     "execution_count": 32,
     "metadata": {},
     "output_type": "execute_result"
    }
   ],
   "execution_count": 32
  },
  {
   "metadata": {
    "ExecuteTime": {
     "end_time": "2025-06-26T15:07:52.322076Z",
     "start_time": "2025-06-26T15:07:52.318327Z"
    }
   },
   "cell_type": "code",
   "source": "y_train",
   "outputs": [
    {
     "data": {
      "text/plain": [
       "datetime\n",
       "2018-03-02 00:00:00     90\n",
       "2018-03-02 01:00:00    120\n",
       "2018-03-02 02:00:00     75\n",
       "2018-03-02 03:00:00     64\n",
       "2018-03-02 04:00:00     20\n",
       "                      ... \n",
       "2018-08-13 11:00:00    144\n",
       "2018-08-13 12:00:00     92\n",
       "2018-08-13 13:00:00    119\n",
       "2018-08-13 14:00:00    102\n",
       "2018-08-13 15:00:00    175\n",
       "Freq: h, Name: num_orders, Length: 3952, dtype: int64"
      ]
     },
     "execution_count": 33,
     "metadata": {},
     "output_type": "execute_result"
    }
   ],
   "execution_count": 33
  },
  {
   "metadata": {
    "ExecuteTime": {
     "end_time": "2025-06-26T15:07:52.340738Z",
     "start_time": "2025-06-26T15:07:52.336010Z"
    }
   },
   "cell_type": "code",
   "source": "y_pred",
   "outputs": [
    {
     "data": {
      "text/plain": [
       "array([122.45052602, 114.36085363, 112.48813131, 106.36973214,\n",
       "       103.72019691, 109.20718353, 132.42245505, 130.29449187,\n",
       "       181.56459128, 159.39357311, 158.10991515, 146.97876951,\n",
       "       127.255662  ,  95.59943601,  43.40473658,  38.20157277,\n",
       "        78.07555726, 109.28760175, 119.28711918, 121.79539543,\n",
       "       113.04597968, 110.85425362,  89.46826931, 115.29860215,\n",
       "       118.69422632, 117.81257507, 112.60641626, 100.4583198 ,\n",
       "       106.63388336, 111.12128919, 121.34406048, 116.27659123,\n",
       "       169.80371732, 165.51086499, 159.16032593, 125.60941326,\n",
       "       132.80778133,  63.19525184,  55.06756096,  38.85907659,\n",
       "        80.47781342, 106.23889514, 116.29998984, 117.94312663,\n",
       "       108.0843774 ,  87.34955204,  98.49337658, 104.69764848,\n",
       "       104.37529063, 122.25408511, 112.61745155, 106.91950983,\n",
       "       109.19588378, 120.06235559, 127.17624382, 138.61127513,\n",
       "       187.36538694, 150.06762421, 164.59663999, 143.50328478,\n",
       "       141.04975684,  99.24686925,  52.15240115,  34.95107612,\n",
       "        80.79740947, 116.39471466, 117.92154576, 119.99691717,\n",
       "       108.55367084, 107.21107144,  92.03374505,  91.46775016,\n",
       "       118.02858793, 121.97824727, 114.49928953, 118.2769236 ,\n",
       "       118.04829304, 116.53085864, 133.44180671, 134.84442733,\n",
       "       175.59760383, 149.30609361, 163.89200235, 145.67480542,\n",
       "       142.63778903, 113.69303892,  46.6243884 ,  40.93490936,\n",
       "        96.44445573, 114.57893522, 116.96323595, 115.36071294,\n",
       "       114.43957334,  94.10325202,  92.63975256, 109.57087103,\n",
       "       119.87701569, 123.17068311, 121.10516647, 119.55578834,\n",
       "        98.70567931, 124.21529599, 135.14862036, 136.96354429,\n",
       "       192.10497431, 323.62856732, 163.53751173, 162.65999735,\n",
       "       141.24467533,  93.76558084,  58.71534808,  46.3096356 ,\n",
       "        80.49651009, 116.69763431, 120.64504947, 116.71219083,\n",
       "       114.40769554, 102.09758141,  86.94761819, 102.66254956,\n",
       "       122.3464304 , 122.72998596, 115.98599673,  92.10205924,\n",
       "       113.4899511 , 108.32525265, 118.63308432, 114.35138684,\n",
       "       169.00713341, 145.12967274, 149.45504166, 126.23857762,\n",
       "       131.61355452, 103.38110232,  50.77014492,  36.20343288,\n",
       "        83.32130009, 108.04598378, 108.42598997,  98.83339827,\n",
       "        85.99176694,  72.06305843, 109.03057961, 119.98943068,\n",
       "       117.23321795, 111.59141623, 101.05271602, 102.50015648,\n",
       "       109.42011182, 118.63491905, 110.55306849, 133.37428337,\n",
       "       196.30234943, 159.71754954, 291.57770903, 232.51550847,\n",
       "       139.78258712, 139.81914762,  51.0391036 ,  40.73317533,\n",
       "        80.73069182, 111.06068427, 114.34273364,  94.05067515,\n",
       "       120.47299348, 116.09638715, 116.88842935, 118.11484578,\n",
       "       123.0921435 , 127.81834191, 104.50977434, 114.47027602,\n",
       "       119.39621614, 105.94187317, 134.05656081, 139.38960323,\n",
       "       192.59786089, 172.85396119, 171.28081771, 151.13469693,\n",
       "       140.08468783, 110.40802884,  40.4935915 ,  40.83374221,\n",
       "        80.052113  , 109.74790563, 118.77070761, 118.34861202,\n",
       "       111.70790423, 112.02505827,  95.84672796, 122.69604085,\n",
       "       119.57099782, 109.2164024 , 116.87572528, 115.24088882,\n",
       "       100.89453644, 111.98993075, 135.18751525, 127.64827139,\n",
       "       178.27632738, 182.91230175, 166.07898384, 132.20149518,\n",
       "       144.45731882,  63.31010609,  53.45786625,  48.67350231,\n",
       "        81.38329951, 106.56466899, 118.52961052, 118.12748148,\n",
       "       110.80807017,  86.6820546 , 111.65399592, 116.29604862,\n",
       "       112.34747149, 121.70707626, 109.71766799, 115.31472448,\n",
       "       110.77159154, 123.25697078, 134.10349729, 135.86645441,\n",
       "       177.38946323, 154.77748634, 168.6561885 , 147.49996672,\n",
       "       138.50043028,  97.81560873,  71.0402511 ,  42.99031152,\n",
       "        80.68719928, 114.38591829, 116.52435124, 118.06826495,\n",
       "        95.33517237, 114.94784907, 114.96603788, 103.65745496,\n",
       "       119.85934763, 121.29447594, 121.50772927, 122.62255734,\n",
       "       114.36279736, 112.2933899 , 134.4987648 , 132.71136319,\n",
       "       187.88792198, 186.44243754, 165.15372726, 148.00310314,\n",
       "       137.02654691,  79.26551613,  39.55223817,  41.41035868,\n",
       "        85.37773437, 109.35094065, 118.60711641, 119.11966599,\n",
       "       123.66010402, 105.94515002, 112.68983145, 107.43470314,\n",
       "       119.1076942 , 123.56493216, 130.8067443 , 112.11726592,\n",
       "       116.13931678, 129.28636151, 135.48930042, 148.06297762,\n",
       "       201.74428914, 304.46606007, 174.87628686, 144.88807663,\n",
       "       135.39450095,  55.36458789,  80.52239398,  45.17216521,\n",
       "        80.29695089, 117.97058772, 121.66062228, 125.99406424,\n",
       "       113.76243297, 117.93822774,  82.12037576, 113.299222  ,\n",
       "       122.46954484, 126.15735798, 125.17737872, 113.23338147,\n",
       "       121.72163345, 121.56840855, 137.0197231 , 137.63131986,\n",
       "       188.17328496, 320.63587558, 165.67947902, 146.55913863,\n",
       "       234.16148068, 109.42301507,  54.29537207,  28.68176861,\n",
       "        85.62709275, 117.77764313, 118.55943618, 118.26420193,\n",
       "       105.79105155,  93.35344838, 113.42280112, 123.31362514,\n",
       "       125.22379805, 123.36820546, 123.97359934, 117.46025721,\n",
       "       116.15035565, 126.2073889 , 128.83733114, 135.87537466,\n",
       "       201.74679938, 271.26225281, 162.3790011 , 233.96172658,\n",
       "       141.83883474,  66.60834631,  45.21454316,  41.32311928,\n",
       "        90.75428132, 119.88360348, 121.33793584, 118.3869951 ,\n",
       "       124.91362481, 113.10611047, 120.25576381, 124.8720982 ,\n",
       "       124.13384415, 127.61538716, 123.82391953, 122.74206189,\n",
       "       125.22324873, 118.54043716, 136.24705092, 144.341103  ,\n",
       "       191.21773329, 175.67251847, 173.68841096, 138.79524281,\n",
       "       135.28150253,  74.97819081,  42.26524302,  43.20207474,\n",
       "       101.18387714, 119.01638443, 125.70339713, 126.07125623,\n",
       "       119.74047033, 119.01982925, 114.48731286, 122.19442787,\n",
       "       124.32983628, 131.86714625, 124.80168306, 128.85504911,\n",
       "       114.08884348, 116.15135661, 137.37378559, 142.40703476,\n",
       "       190.70784232, 167.23081207, 166.68726751, 144.38950072,\n",
       "       142.37293685,  74.29561904,  44.98213507,  56.5067148 ,\n",
       "       101.99905575, 117.30128071, 125.76242262, 122.33742347,\n",
       "       120.64471013, 116.96065429, 121.5576013 , 126.63205   ,\n",
       "       124.85522238, 129.37507001, 122.07361034, 119.39143152,\n",
       "       117.62972035, 131.91469197, 138.21018775, 138.54102614,\n",
       "       269.87468706, 169.07474837, 165.08272771, 146.46494169,\n",
       "       140.68228196,  81.51728732,  44.19094953,  41.15507418,\n",
       "        95.75919362, 119.71219566, 127.89985752, 129.68704686,\n",
       "       129.1197935 , 122.98643686, 127.23910641, 121.18033252,\n",
       "       126.21035324, 165.3349586 , 198.16086467, 131.98530671,\n",
       "       116.08515984, 128.55222136, 138.67280538, 142.65470558,\n",
       "       193.79310731, 306.18053453, 166.8015778 , 150.95228411,\n",
       "       130.8664555 ,  83.02149351,  54.87758814,  40.63111798,\n",
       "        95.46171241, 121.95313481, 129.16332506, 130.23139469,\n",
       "       129.34172753, 127.54418966, 114.41267935, 130.34466485,\n",
       "       128.64824098, 124.77463699, 132.0638212 , 114.08074145,\n",
       "       131.24301489, 133.73436029, 141.59183706, 141.94500277])"
      ]
     },
     "execution_count": 34,
     "metadata": {},
     "output_type": "execute_result"
    }
   ],
   "execution_count": 34
  },
  {
   "metadata": {
    "ExecuteTime": {
     "end_time": "2025-06-26T15:07:52.352469Z",
     "start_time": "2025-06-26T15:07:52.349700Z"
    }
   },
   "cell_type": "code",
   "source": [
    "rmse_test = np.sqrt(mean_squared_error(y_test, y_pred))\n",
    "print(f'RMSE Test: {rmse_test:.4f}')"
   ],
   "outputs": [
    {
     "name": "stdout",
     "output_type": "stream",
     "text": [
      "RMSE Test: 47.4546\n"
     ]
    }
   ],
   "execution_count": 35
  },
  {
   "metadata": {
    "ExecuteTime": {
     "end_time": "2025-06-26T15:07:52.381815Z",
     "start_time": "2025-06-26T15:07:52.359819Z"
    }
   },
   "cell_type": "code",
   "source": [
    "y_pred_train = best_model.predict(X_train)\n",
    "\n",
    "# 2. Calculate RMSE on the training set\n",
    "rmse_train = np.sqrt(mean_squared_error(y_train, y_pred_train))\n",
    "print(f'RMSE Train: {rmse_train:.4f}')"
   ],
   "outputs": [
    {
     "name": "stdout",
     "output_type": "stream",
     "text": [
      "RMSE Train: 20.4897\n"
     ]
    }
   ],
   "execution_count": 36
  },
  {
   "cell_type": "markdown",
   "metadata": {},
   "source": [
    "The predicted values differ significantly from the actual ones, primarily because the distributions of the `train` and `test` sets differ — the test set exhibits higher fluctuations that the model was not prepared for.\n",
    "Despite this, the evaluation metric on the test set remains below 48, which is acceptable. As a result, the optimal configuration was found to be a maximum tree depth of 5 and up to 100 trees."
   ]
  },
  {
   "cell_type": "code",
   "metadata": {
    "ExecuteTime": {
     "end_time": "2025-06-26T15:07:52.397853Z",
     "start_time": "2025-06-26T15:07:52.393915Z"
    }
   },
   "source": [
    "dummy_regressor = DummyRegressor()\n",
    "dummy_regressor.fit(X_train, y_train)\n",
    "y_pred_dummy = dummy_regressor.predict(X_test)\n",
    "mse_dummy_test = mean_squared_error(y_test, y_pred_dummy)\n",
    "rmse_dummy_test = np.sqrt(mse_dummy_test)\n",
    "\n",
    "print(f'RMSE test, DummyRegressor: {rmse_dummy_test:.4f}')"
   ],
   "outputs": [
    {
     "name": "stdout",
     "output_type": "stream",
     "text": [
      "RMSE test, DummyRegressor: 84.6877\n"
     ]
    }
   ],
   "execution_count": 37
  },
  {
   "cell_type": "markdown",
   "metadata": {},
   "source": [
    "The best-performing model is:\n",
    "\n",
    "**`RandomForestRegressor(max_depth=7, n_estimators=50, random_state=42)`**\n",
    "with pipeline parameters:\n",
    "\n",
    "* `'models__max_depth': 7`\n",
    "* `'models__n_estimators': 50`\n",
    "* `'preprocessor__num': 'passthrough'` (i.e., no transformation on numeric features)\n",
    "\n",
    "**Evaluation results:**\n",
    "\n",
    "* RMSE on the training set: **20.5**\n",
    "* RMSE on the test set: **47.5**\n",
    "\n",
    "This model significantly outperforms the `DummyRegressor` baseline in terms of the RMSE metric."
   ]
  },
  {
   "metadata": {},
   "cell_type": "markdown",
   "source": "## Results visualization"
  },
  {
   "cell_type": "code",
   "metadata": {
    "ExecuteTime": {
     "end_time": "2025-06-26T15:07:52.513472Z",
     "start_time": "2025-06-26T15:07:52.407859Z"
    }
   },
   "source": [
    "plt.figure(figsize=(12, 6))\n",
    "sns.lineplot(data=new_df.iloc[len(y_train):], x=new_df.index[len(y_train):], y='num_orders', label='Real values')\n",
    "sns.lineplot(data=new_df.iloc[len(y_train):], x=new_df.index[len(y_train):], y=y_pred, label='Predictions')\n",
    "\n",
    "plt.title('Plot of predicted and actual values over the test period')\n",
    "plt.xlabel('Date and time')\n",
    "plt.ylabel('Number of orders')\n",
    "plt.xticks(rotation=45)\n",
    "plt.legend()\n",
    "plt.grid(True)\n",
    "\n",
    "plt.show()"
   ],
   "outputs": [
    {
     "data": {
      "text/plain": [
       "<Figure size 1200x600 with 1 Axes>"
      ],
      "image/png": "[encoded data removed]"
     },
     "metadata": {},
     "output_type": "display_data"
    }
   ],
   "execution_count": 38
  },
  {
   "cell_type": "markdown",
   "metadata": {},
   "source": "The model predicts peak values less accurately—most often, these values are underestimated. However, lower order volumes are predicted more accurately. Additionally, the model tends to \"smooth\" the results, capturing the overall trend but not fully replicating sharp fluctuations in the data."
  }
 ],
 "metadata": {
  "ExecuteTimeLog": [
   {
    "duration": 1732,
    "start_time": "2024-04-01T20:05:09.216Z"
   },
   {
    "duration": 94,
    "start_time": "2024-04-01T20:05:57.546Z"
   },
   {
    "duration": 13,
    "start_time": "2024-04-01T20:06:04.649Z"
   },
   {
    "duration": 12,
    "start_time": "2024-04-01T20:06:34.701Z"
   },
   {
    "duration": 8,
    "start_time": "2024-04-01T20:06:39.854Z"
   },
   {
    "duration": 9,
    "start_time": "2024-04-01T20:28:56.421Z"
   },
   {
    "duration": 6,
    "start_time": "2024-04-01T20:29:05.072Z"
   },
   {
    "duration": 42,
    "start_time": "2024-04-01T20:29:13.438Z"
   },
   {
    "duration": 11,
    "start_time": "2024-04-01T20:29:13.682Z"
   },
   {
    "duration": 9,
    "start_time": "2024-04-01T20:29:17.941Z"
   },
   {
    "duration": 12,
    "start_time": "2024-04-01T20:29:24.619Z"
   },
   {
    "duration": 119,
    "start_time": "2024-04-01T20:29:59.912Z"
   },
   {
    "duration": 9,
    "start_time": "2024-04-01T20:30:00.283Z"
   },
   {
    "duration": 46,
    "start_time": "2024-04-01T20:30:09.378Z"
   },
   {
    "duration": 9,
    "start_time": "2024-04-01T20:30:10.944Z"
   },
   {
    "duration": 6,
    "start_time": "2024-04-01T20:30:13.717Z"
   },
   {
    "duration": 11,
    "start_time": "2024-04-01T20:30:14.491Z"
   },
   {
    "duration": 46,
    "start_time": "2024-04-01T20:30:22.848Z"
   },
   {
    "duration": 9,
    "start_time": "2024-04-01T20:30:23.406Z"
   },
   {
    "duration": 6,
    "start_time": "2024-04-01T20:30:29.905Z"
   },
   {
    "duration": 11,
    "start_time": "2024-04-01T20:30:30.631Z"
   },
   {
    "duration": 1362,
    "start_time": "2024-04-01T20:31:14.988Z"
   },
   {
    "duration": 1384,
    "start_time": "2024-04-01T20:32:39.991Z"
   },
   {
    "duration": 51,
    "start_time": "2024-04-01T20:32:41.940Z"
   },
   {
    "duration": 14,
    "start_time": "2024-04-01T20:32:42.699Z"
   },
   {
    "duration": 6,
    "start_time": "2024-04-01T20:32:43.597Z"
   },
   {
    "duration": 10,
    "start_time": "2024-04-01T20:32:44.490Z"
   },
   {
    "duration": 1206,
    "start_time": "2024-04-01T20:32:46.596Z"
   },
   {
    "duration": 4,
    "start_time": "2024-04-01T20:38:58.356Z"
   },
   {
    "duration": 110,
    "start_time": "2024-04-01T20:39:29.134Z"
   },
   {
    "duration": 5,
    "start_time": "2024-04-01T20:39:31.119Z"
   },
   {
    "duration": 14,
    "start_time": "2024-04-01T20:39:31.386Z"
   },
   {
    "duration": 47,
    "start_time": "2024-04-01T20:40:58.015Z"
   },
   {
    "duration": 8,
    "start_time": "2024-04-01T20:40:59.177Z"
   },
   {
    "duration": 5,
    "start_time": "2024-04-01T20:41:01.692Z"
   },
   {
    "duration": 9,
    "start_time": "2024-04-01T20:41:02.717Z"
   },
   {
    "duration": 2129,
    "start_time": "2024-04-01T20:42:05.663Z"
   },
   {
    "duration": 5,
    "start_time": "2024-04-01T20:42:13.616Z"
   },
   {
    "duration": 30,
    "start_time": "2024-04-01T20:42:14.167Z"
   },
   {
    "duration": 45,
    "start_time": "2024-04-01T20:42:36.643Z"
   },
   {
    "duration": 3,
    "start_time": "2024-04-01T20:49:16.622Z"
   },
   {
    "duration": 6,
    "start_time": "2024-04-01T20:50:28.885Z"
   },
   {
    "duration": 7,
    "start_time": "2024-04-01T20:50:42.712Z"
   },
   {
    "duration": 32,
    "start_time": "2024-04-01T20:50:53.083Z"
   },
   {
    "duration": 5,
    "start_time": "2024-04-01T20:50:59.754Z"
   },
   {
    "duration": 5,
    "start_time": "2024-04-01T20:51:14.412Z"
   },
   {
    "duration": 4,
    "start_time": "2024-04-01T20:51:37.893Z"
   },
   {
    "duration": 17,
    "start_time": "2024-04-01T20:51:57.016Z"
   },
   {
    "duration": 5,
    "start_time": "2024-04-01T20:52:09.187Z"
   },
   {
    "duration": 11,
    "start_time": "2024-04-01T20:52:23.581Z"
   },
   {
    "duration": 4,
    "start_time": "2024-04-01T20:52:25.213Z"
   },
   {
    "duration": 2,
    "start_time": "2024-04-01T20:58:09.532Z"
   },
   {
    "duration": 3,
    "start_time": "2024-04-01T21:00:12.644Z"
   },
   {
    "duration": 1424,
    "start_time": "2024-04-01T21:15:27.542Z"
   },
   {
    "duration": 2,
    "start_time": "2024-04-01T21:15:28.968Z"
   },
   {
    "duration": 52,
    "start_time": "2024-04-01T21:15:30.478Z"
   },
   {
    "duration": 17,
    "start_time": "2024-04-01T21:16:11.495Z"
   },
   {
    "duration": 5,
    "start_time": "2024-04-01T21:16:16.705Z"
   },
   {
    "duration": 9,
    "start_time": "2024-04-01T21:16:18.486Z"
   },
   {
    "duration": 714,
    "start_time": "2024-04-01T21:16:23.169Z"
   },
   {
    "duration": 4,
    "start_time": "2024-04-01T21:16:46.389Z"
   },
   {
    "duration": 48,
    "start_time": "2024-04-01T21:16:47.266Z"
   },
   {
    "duration": 38,
    "start_time": "2024-04-01T21:17:01.178Z"
   },
   {
    "duration": 1379,
    "start_time": "2024-04-01T21:17:17.501Z"
   },
   {
    "duration": 2,
    "start_time": "2024-04-01T21:17:18.882Z"
   },
   {
    "duration": 52,
    "start_time": "2024-04-01T21:17:20.102Z"
   },
   {
    "duration": 17,
    "start_time": "2024-04-01T21:17:20.740Z"
   },
   {
    "duration": 5,
    "start_time": "2024-04-01T21:17:22.589Z"
   },
   {
    "duration": 11,
    "start_time": "2024-04-01T21:17:23.344Z"
   },
   {
    "duration": 703,
    "start_time": "2024-04-01T21:17:24.375Z"
   },
   {
    "duration": 4,
    "start_time": "2024-04-01T21:18:04.250Z"
   },
   {
    "duration": 31,
    "start_time": "2024-04-01T21:18:21.784Z"
   },
   {
    "duration": 7,
    "start_time": "2024-04-01T21:18:55.771Z"
   },
   {
    "duration": 4,
    "start_time": "2024-04-01T21:18:56.593Z"
   },
   {
    "duration": 3,
    "start_time": "2024-04-01T21:18:58.492Z"
   },
   {
    "duration": 3,
    "start_time": "2024-04-01T21:20:19.349Z"
   },
   {
    "duration": 4,
    "start_time": "2024-04-01T21:22:46.225Z"
   },
   {
    "duration": 108,
    "start_time": "2024-04-01T21:22:46.944Z"
   },
   {
    "duration": 4,
    "start_time": "2024-04-01T21:23:04.509Z"
   },
   {
    "duration": 3,
    "start_time": "2024-04-01T21:23:06.624Z"
   },
   {
    "duration": 3,
    "start_time": "2024-04-01T21:23:08.249Z"
   },
   {
    "duration": 3,
    "start_time": "2024-04-01T21:23:22.518Z"
   },
   {
    "duration": 9,
    "start_time": "2024-04-01T21:23:31.083Z"
   },
   {
    "duration": 8,
    "start_time": "2024-04-01T21:24:03.133Z"
   },
   {
    "duration": 4,
    "start_time": "2024-04-01T21:24:03.821Z"
   },
   {
    "duration": 3,
    "start_time": "2024-04-01T21:24:04.506Z"
   },
   {
    "duration": 2,
    "start_time": "2024-04-01T21:24:05.072Z"
   },
   {
    "duration": 5,
    "start_time": "2024-04-01T21:24:05.871Z"
   },
   {
    "duration": 3,
    "start_time": "2024-04-01T21:24:06.483Z"
   },
   {
    "duration": 3,
    "start_time": "2024-04-01T21:24:07.069Z"
   },
   {
    "duration": 3,
    "start_time": "2024-04-01T21:24:07.910Z"
   },
   {
    "duration": 3,
    "start_time": "2024-04-01T21:24:08.765Z"
   },
   {
    "duration": 142,
    "start_time": "2024-04-01T21:24:09.524Z"
   },
   {
    "duration": 5,
    "start_time": "2024-04-01T21:30:49.892Z"
   },
   {
    "duration": 24,
    "start_time": "2024-04-01T21:34:21.219Z"
   },
   {
    "duration": 4,
    "start_time": "2024-04-01T21:35:01.498Z"
   },
   {
    "duration": 3,
    "start_time": "2024-04-01T21:35:13.961Z"
   },
   {
    "duration": 3,
    "start_time": "2024-04-01T21:35:36.864Z"
   },
   {
    "duration": 39,
    "start_time": "2024-04-01T21:35:39.696Z"
   },
   {
    "duration": 1463,
    "start_time": "2024-04-01T21:36:29.551Z"
   },
   {
    "duration": 2,
    "start_time": "2024-04-01T21:36:31.016Z"
   },
   {
    "duration": 49,
    "start_time": "2024-04-01T21:36:33.034Z"
   },
   {
    "duration": 17,
    "start_time": "2024-04-01T21:36:34.454Z"
   },
   {
    "duration": 5,
    "start_time": "2024-04-01T21:36:35.157Z"
   },
   {
    "duration": 10,
    "start_time": "2024-04-01T21:36:36.014Z"
   },
   {
    "duration": 677,
    "start_time": "2024-04-01T21:36:38.243Z"
   },
   {
    "duration": 113,
    "start_time": "2024-04-01T21:36:49.680Z"
   },
   {
    "duration": 4,
    "start_time": "2024-04-01T21:36:52.515Z"
   },
   {
    "duration": 27,
    "start_time": "2024-04-01T21:36:53.106Z"
   },
   {
    "duration": 86,
    "start_time": "2024-04-01T21:37:09.118Z"
   },
   {
    "duration": 33,
    "start_time": "2024-04-01T21:37:16.131Z"
   },
   {
    "duration": 1414,
    "start_time": "2024-04-01T21:39:53.511Z"
   },
   {
    "duration": 2,
    "start_time": "2024-04-01T21:39:54.927Z"
   },
   {
    "duration": 51,
    "start_time": "2024-04-01T21:39:56.523Z"
   },
   {
    "duration": 17,
    "start_time": "2024-04-01T21:39:57.117Z"
   },
   {
    "duration": 5,
    "start_time": "2024-04-01T21:39:57.809Z"
   },
   {
    "duration": 10,
    "start_time": "2024-04-01T21:39:58.507Z"
   },
   {
    "duration": 703,
    "start_time": "2024-04-01T21:40:00.165Z"
   },
   {
    "duration": 4,
    "start_time": "2024-04-01T21:40:04.162Z"
   },
   {
    "duration": 29,
    "start_time": "2024-04-01T21:40:04.793Z"
   },
   {
    "duration": 6,
    "start_time": "2024-04-01T21:40:09.742Z"
   },
   {
    "duration": 6,
    "start_time": "2024-04-01T21:40:23.099Z"
   },
   {
    "duration": 1449,
    "start_time": "2024-04-01T21:41:11.982Z"
   },
   {
    "duration": 3,
    "start_time": "2024-04-01T21:41:13.433Z"
   },
   {
    "duration": 50,
    "start_time": "2024-04-01T21:41:13.437Z"
   },
   {
    "duration": 17,
    "start_time": "2024-04-01T21:41:13.488Z"
   },
   {
    "duration": 5,
    "start_time": "2024-04-01T21:41:13.507Z"
   },
   {
    "duration": 9,
    "start_time": "2024-04-01T21:41:13.513Z"
   },
   {
    "duration": 709,
    "start_time": "2024-04-01T21:41:13.524Z"
   },
   {
    "duration": 3,
    "start_time": "2024-04-01T21:41:14.235Z"
   },
   {
    "duration": 42,
    "start_time": "2024-04-01T21:41:14.240Z"
   },
   {
    "duration": 6,
    "start_time": "2024-04-01T21:41:14.284Z"
   },
   {
    "duration": 3,
    "start_time": "2024-04-01T21:41:18.916Z"
   },
   {
    "duration": 4,
    "start_time": "2024-04-01T21:41:27.383Z"
   },
   {
    "duration": 3,
    "start_time": "2024-04-01T21:41:28.566Z"
   },
   {
    "duration": 3,
    "start_time": "2024-04-01T21:41:32.609Z"
   },
   {
    "duration": 3,
    "start_time": "2024-04-01T21:41:56.951Z"
   },
   {
    "duration": 2,
    "start_time": "2024-04-01T21:41:57.800Z"
   },
   {
    "duration": 3,
    "start_time": "2024-04-01T21:41:58.335Z"
   },
   {
    "duration": 3,
    "start_time": "2024-04-01T21:41:59.077Z"
   },
   {
    "duration": 3,
    "start_time": "2024-04-01T21:42:00.785Z"
   },
   {
    "duration": 3,
    "start_time": "2024-04-01T21:42:01.621Z"
   },
   {
    "duration": 1247,
    "start_time": "2024-04-01T21:42:02.128Z"
   },
   {
    "duration": 4,
    "start_time": "2024-04-01T21:42:54.343Z"
   },
   {
    "duration": 3,
    "start_time": "2024-04-01T21:43:16.914Z"
   },
   {
    "duration": 5,
    "start_time": "2024-04-01T21:43:17.705Z"
   },
   {
    "duration": 3,
    "start_time": "2024-04-01T21:43:18.203Z"
   },
   {
    "duration": 3,
    "start_time": "2024-04-01T21:43:18.624Z"
   },
   {
    "duration": 3,
    "start_time": "2024-04-01T21:43:19.066Z"
   },
   {
    "duration": 3,
    "start_time": "2024-04-01T21:43:19.598Z"
   },
   {
    "duration": 3,
    "start_time": "2024-04-01T21:43:20.148Z"
   },
   {
    "duration": 39,
    "start_time": "2024-04-01T21:43:20.731Z"
   },
   {
    "duration": 18,
    "start_time": "2024-04-01T21:43:38.426Z"
   },
   {
    "duration": 12,
    "start_time": "2024-04-01T21:43:42.938Z"
   },
   {
    "duration": 8,
    "start_time": "2024-04-01T21:43:50.628Z"
   },
   {
    "duration": 5,
    "start_time": "2024-04-01T21:44:03.189Z"
   },
   {
    "duration": 6,
    "start_time": "2024-04-01T21:44:03.809Z"
   },
   {
    "duration": 3,
    "start_time": "2024-04-01T21:44:04.453Z"
   },
   {
    "duration": 19,
    "start_time": "2024-04-01T21:44:05.059Z"
   },
   {
    "duration": 3,
    "start_time": "2024-04-01T21:44:07.964Z"
   },
   {
    "duration": 3,
    "start_time": "2024-04-01T21:44:08.219Z"
   },
   {
    "duration": 4,
    "start_time": "2024-04-01T21:44:08.759Z"
   },
   {
    "duration": 3,
    "start_time": "2024-04-01T21:44:09.437Z"
   },
   {
    "duration": 3,
    "start_time": "2024-04-01T21:44:10.038Z"
   },
   {
    "duration": 3,
    "start_time": "2024-04-01T21:44:10.560Z"
   },
   {
    "duration": 3,
    "start_time": "2024-04-01T21:44:11.123Z"
   },
   {
    "duration": 3,
    "start_time": "2024-04-01T21:44:12.170Z"
   },
   {
    "duration": 108,
    "start_time": "2024-04-01T21:44:13.171Z"
   },
   {
    "duration": 4,
    "start_time": "2024-04-01T21:49:29.374Z"
   },
   {
    "duration": 3,
    "start_time": "2024-04-01T21:49:30.873Z"
   },
   {
    "duration": 3,
    "start_time": "2024-04-01T21:49:31.172Z"
   },
   {
    "duration": 3,
    "start_time": "2024-04-01T21:49:31.380Z"
   },
   {
    "duration": 3,
    "start_time": "2024-04-01T21:49:31.889Z"
   },
   {
    "duration": 3,
    "start_time": "2024-04-01T21:49:32.295Z"
   },
   {
    "duration": 47,
    "start_time": "2024-04-01T21:49:32.877Z"
   },
   {
    "duration": 5,
    "start_time": "2024-04-01T21:53:44.195Z"
   },
   {
    "duration": 3,
    "start_time": "2024-04-01T21:53:44.656Z"
   },
   {
    "duration": 47,
    "start_time": "2024-04-01T21:53:45.280Z"
   },
   {
    "duration": 11,
    "start_time": "2024-04-01T21:53:45.583Z"
   },
   {
    "duration": 7,
    "start_time": "2024-04-01T21:53:45.842Z"
   },
   {
    "duration": 9,
    "start_time": "2024-04-01T21:53:46.509Z"
   },
   {
    "duration": 625,
    "start_time": "2024-04-01T21:53:47.559Z"
   },
   {
    "duration": 4,
    "start_time": "2024-04-01T21:53:48.779Z"
   },
   {
    "duration": 37,
    "start_time": "2024-04-01T21:53:49.331Z"
   },
   {
    "duration": 6,
    "start_time": "2024-04-01T21:53:54.076Z"
   },
   {
    "duration": 8,
    "start_time": "2024-04-01T21:53:54.769Z"
   },
   {
    "duration": 4,
    "start_time": "2024-04-01T21:53:56.410Z"
   },
   {
    "duration": 19,
    "start_time": "2024-04-01T21:53:57.456Z"
   },
   {
    "duration": 1368,
    "start_time": "2024-04-01T21:57:11.110Z"
   },
   {
    "duration": 2,
    "start_time": "2024-04-01T21:57:12.480Z"
   },
   {
    "duration": 49,
    "start_time": "2024-04-01T21:57:13.490Z"
   },
   {
    "duration": 18,
    "start_time": "2024-04-01T21:57:13.981Z"
   },
   {
    "duration": 6,
    "start_time": "2024-04-01T21:57:14.485Z"
   },
   {
    "duration": 10,
    "start_time": "2024-04-01T21:57:15.025Z"
   },
   {
    "duration": 697,
    "start_time": "2024-04-01T21:57:15.971Z"
   },
   {
    "duration": 4,
    "start_time": "2024-04-01T21:57:18.106Z"
   },
   {
    "duration": 28,
    "start_time": "2024-04-01T21:57:18.578Z"
   },
   {
    "duration": 7,
    "start_time": "2024-04-01T21:57:19.885Z"
   },
   {
    "duration": 7,
    "start_time": "2024-04-01T21:57:20.556Z"
   },
   {
    "duration": 4,
    "start_time": "2024-04-01T21:57:21.105Z"
   },
   {
    "duration": 18,
    "start_time": "2024-04-01T21:57:21.699Z"
   },
   {
    "duration": 4,
    "start_time": "2024-04-01T21:58:01.436Z"
   },
   {
    "duration": 72,
    "start_time": "2024-04-01T21:58:01.442Z"
   },
   {
    "duration": 72,
    "start_time": "2024-04-01T21:58:03.135Z"
   },
   {
    "duration": 3,
    "start_time": "2024-04-01T21:58:03.713Z"
   },
   {
    "duration": 3,
    "start_time": "2024-04-01T21:58:04.727Z"
   },
   {
    "duration": 4,
    "start_time": "2024-04-01T21:58:05.410Z"
   },
   {
    "duration": 5,
    "start_time": "2024-04-01T22:04:41.942Z"
   },
   {
    "duration": 3,
    "start_time": "2024-04-01T22:04:42.371Z"
   },
   {
    "duration": 3,
    "start_time": "2024-04-01T22:04:43.099Z"
   },
   {
    "duration": 3,
    "start_time": "2024-04-01T22:04:43.695Z"
   },
   {
    "duration": 3,
    "start_time": "2024-04-01T22:04:44.149Z"
   },
   {
    "duration": 3,
    "start_time": "2024-04-01T22:04:44.795Z"
   },
   {
    "duration": 145,
    "start_time": "2024-04-01T22:04:45.336Z"
   },
   {
    "duration": 3,
    "start_time": "2024-04-01T22:05:34.508Z"
   },
   {
    "duration": 3,
    "start_time": "2024-04-01T22:05:35.018Z"
   },
   {
    "duration": 3,
    "start_time": "2024-04-01T22:05:35.310Z"
   },
   {
    "duration": 4,
    "start_time": "2024-04-01T22:05:35.713Z"
   },
   {
    "duration": 2,
    "start_time": "2024-04-01T22:05:36.201Z"
   },
   {
    "duration": 3,
    "start_time": "2024-04-01T22:05:36.580Z"
   },
   {
    "duration": 65,
    "start_time": "2024-04-01T22:05:37.214Z"
   },
   {
    "duration": 1388,
    "start_time": "2024-04-01T22:12:54.908Z"
   },
   {
    "duration": 3,
    "start_time": "2024-04-01T22:12:56.297Z"
   },
   {
    "duration": 59,
    "start_time": "2024-04-01T22:12:56.301Z"
   },
   {
    "duration": 18,
    "start_time": "2024-04-01T22:12:56.362Z"
   },
   {
    "duration": 6,
    "start_time": "2024-04-01T22:12:56.382Z"
   },
   {
    "duration": 12,
    "start_time": "2024-04-01T22:12:56.390Z"
   },
   {
    "duration": 719,
    "start_time": "2024-04-01T22:12:56.404Z"
   },
   {
    "duration": 5,
    "start_time": "2024-04-01T22:12:57.125Z"
   },
   {
    "duration": 39,
    "start_time": "2024-04-01T22:12:57.132Z"
   },
   {
    "duration": 7,
    "start_time": "2024-04-01T22:13:12.289Z"
   },
   {
    "duration": 6,
    "start_time": "2024-04-01T22:13:42.641Z"
   },
   {
    "duration": 6,
    "start_time": "2024-04-01T22:13:42.649Z"
   },
   {
    "duration": 52,
    "start_time": "2024-04-01T22:13:42.656Z"
   },
   {
    "duration": 13,
    "start_time": "2024-04-01T22:13:42.710Z"
   },
   {
    "duration": 7,
    "start_time": "2024-04-01T22:13:42.725Z"
   },
   {
    "duration": 20,
    "start_time": "2024-04-01T22:13:42.734Z"
   },
   {
    "duration": 721,
    "start_time": "2024-04-01T22:13:42.755Z"
   },
   {
    "duration": 4,
    "start_time": "2024-04-01T22:13:43.477Z"
   },
   {
    "duration": 29,
    "start_time": "2024-04-01T22:13:48.583Z"
   },
   {
    "duration": 3,
    "start_time": "2024-04-01T22:14:02.477Z"
   },
   {
    "duration": 3,
    "start_time": "2024-04-01T22:14:17.928Z"
   },
   {
    "duration": 2,
    "start_time": "2024-04-01T22:14:18.543Z"
   },
   {
    "duration": 4,
    "start_time": "2024-04-01T22:14:20.169Z"
   },
   {
    "duration": 2,
    "start_time": "2024-04-01T22:14:22.277Z"
   },
   {
    "duration": 25,
    "start_time": "2024-04-01T22:14:51.769Z"
   },
   {
    "duration": 5,
    "start_time": "2024-04-01T22:14:57.803Z"
   },
   {
    "duration": 4,
    "start_time": "2024-04-01T22:16:18.625Z"
   },
   {
    "duration": 3,
    "start_time": "2024-04-01T22:19:27.570Z"
   },
   {
    "duration": 4,
    "start_time": "2024-04-01T22:19:28.130Z"
   },
   {
    "duration": 2,
    "start_time": "2024-04-01T22:19:29.239Z"
   },
   {
    "duration": 2,
    "start_time": "2024-04-01T22:19:29.568Z"
   },
   {
    "duration": 130,
    "start_time": "2024-04-01T22:19:29.956Z"
   },
   {
    "duration": 1392,
    "start_time": "2024-04-01T22:20:39.699Z"
   },
   {
    "duration": 3,
    "start_time": "2024-04-01T22:20:41.092Z"
   },
   {
    "duration": 51,
    "start_time": "2024-04-01T22:20:41.096Z"
   },
   {
    "duration": 17,
    "start_time": "2024-04-01T22:20:41.148Z"
   },
   {
    "duration": 5,
    "start_time": "2024-04-01T22:20:41.166Z"
   },
   {
    "duration": 11,
    "start_time": "2024-04-01T22:20:41.172Z"
   },
   {
    "duration": 682,
    "start_time": "2024-04-01T22:20:41.185Z"
   },
   {
    "duration": 4,
    "start_time": "2024-04-01T22:20:41.869Z"
   },
   {
    "duration": 31,
    "start_time": "2024-04-01T22:20:41.874Z"
   },
   {
    "duration": 4,
    "start_time": "2024-04-01T22:20:46.320Z"
   },
   {
    "duration": 3,
    "start_time": "2024-04-01T22:20:47.040Z"
   },
   {
    "duration": 2,
    "start_time": "2024-04-01T22:20:47.648Z"
   },
   {
    "duration": 3,
    "start_time": "2024-04-01T22:20:48.182Z"
   },
   {
    "duration": 3,
    "start_time": "2024-04-01T22:20:48.697Z"
   },
   {
    "duration": 83,
    "start_time": "2024-04-01T22:20:49.634Z"
   },
   {
    "duration": 4,
    "start_time": "2024-04-01T22:20:50.221Z"
   },
   {
    "duration": 3,
    "start_time": "2024-04-01T22:20:50.881Z"
   },
   {
    "duration": 3,
    "start_time": "2024-04-01T22:20:51.538Z"
   },
   {
    "duration": 3,
    "start_time": "2024-04-01T22:20:52.220Z"
   },
   {
    "duration": 2,
    "start_time": "2024-04-01T22:20:52.855Z"
   },
   {
    "duration": 3,
    "start_time": "2024-04-01T22:20:53.344Z"
   },
   {
    "duration": 124,
    "start_time": "2024-04-01T22:20:53.821Z"
   },
   {
    "duration": 2,
    "start_time": "2024-04-01T22:21:27.768Z"
   },
   {
    "duration": 2,
    "start_time": "2024-04-01T22:21:28.205Z"
   },
   {
    "duration": 3,
    "start_time": "2024-04-01T22:21:28.602Z"
   },
   {
    "duration": 36,
    "start_time": "2024-04-01T22:21:28.876Z"
   },
   {
    "duration": 4,
    "start_time": "2024-04-01T22:22:12.039Z"
   },
   {
    "duration": 4,
    "start_time": "2024-04-01T22:22:23.081Z"
   },
   {
    "duration": 1553,
    "start_time": "2024-04-02T18:59:28.541Z"
   },
   {
    "duration": 3,
    "start_time": "2024-04-02T18:59:30.103Z"
   },
   {
    "duration": 99,
    "start_time": "2024-04-02T18:59:31.579Z"
   },
   {
    "duration": 17,
    "start_time": "2024-04-02T18:59:32.067Z"
   },
   {
    "duration": 5,
    "start_time": "2024-04-02T18:59:33.206Z"
   },
   {
    "duration": 10,
    "start_time": "2024-04-02T18:59:33.360Z"
   },
   {
    "duration": 709,
    "start_time": "2024-04-02T18:59:34.480Z"
   },
   {
    "duration": 4,
    "start_time": "2024-04-02T18:59:35.190Z"
   },
   {
    "duration": 28,
    "start_time": "2024-04-02T18:59:36.219Z"
   },
   {
    "duration": 4,
    "start_time": "2024-04-02T18:59:45.147Z"
   },
   {
    "duration": 33,
    "start_time": "2024-04-02T18:59:45.153Z"
   },
   {
    "duration": 69,
    "start_time": "2024-04-02T18:59:45.198Z"
   },
   {
    "duration": 11,
    "start_time": "2024-04-02T18:59:45.348Z"
   },
   {
    "duration": 5,
    "start_time": "2024-04-02T18:59:45.696Z"
   },
   {
    "duration": 10,
    "start_time": "2024-04-02T18:59:46.035Z"
   },
   {
    "duration": 640,
    "start_time": "2024-04-02T18:59:47.186Z"
   },
   {
    "duration": 2595,
    "start_time": "2024-04-02T19:01:03.875Z"
   },
   {
    "duration": 48,
    "start_time": "2024-04-02T19:01:19.565Z"
   },
   {
    "duration": 2,
    "start_time": "2024-04-02T19:01:21.779Z"
   },
   {
    "duration": 47,
    "start_time": "2024-04-02T19:01:22.637Z"
   },
   {
    "duration": 12,
    "start_time": "2024-04-02T19:01:22.686Z"
   },
   {
    "duration": 5,
    "start_time": "2024-04-02T19:01:22.893Z"
   },
   {
    "duration": 8,
    "start_time": "2024-04-02T19:01:23.121Z"
   },
   {
    "duration": 608,
    "start_time": "2024-04-02T19:01:23.870Z"
   },
   {
    "duration": 208,
    "start_time": "2024-04-02T19:01:40.781Z"
   },
   {
    "duration": 200,
    "start_time": "2024-04-02T19:02:00.398Z"
   },
   {
    "duration": 192,
    "start_time": "2024-04-02T19:02:08.011Z"
   },
   {
    "duration": 212,
    "start_time": "2024-04-02T19:03:39.080Z"
   },
   {
    "duration": 246,
    "start_time": "2024-04-02T19:03:50.312Z"
   },
   {
    "duration": 4,
    "start_time": "2024-04-02T19:04:08.090Z"
   },
   {
    "duration": 22,
    "start_time": "2024-04-02T19:04:08.938Z"
   },
   {
    "duration": 4,
    "start_time": "2024-04-02T19:06:19.566Z"
   },
   {
    "duration": 4,
    "start_time": "2024-04-02T19:10:41.110Z"
   },
   {
    "duration": 110,
    "start_time": "2024-04-02T19:18:04.855Z"
   },
   {
    "duration": 8,
    "start_time": "2024-04-02T19:18:10.845Z"
   },
   {
    "duration": 3,
    "start_time": "2024-04-02T19:18:15.692Z"
   },
   {
    "duration": 4,
    "start_time": "2024-04-02T19:18:16.393Z"
   },
   {
    "duration": 3,
    "start_time": "2024-04-02T19:18:16.910Z"
   },
   {
    "duration": 3,
    "start_time": "2024-04-02T19:18:17.418Z"
   },
   {
    "duration": 2,
    "start_time": "2024-04-02T19:18:25.235Z"
   },
   {
    "duration": 4,
    "start_time": "2024-04-02T19:18:40.589Z"
   },
   {
    "duration": 2,
    "start_time": "2024-04-02T19:18:41.502Z"
   },
   {
    "duration": 9,
    "start_time": "2024-04-02T19:18:42.377Z"
   },
   {
    "duration": 2126,
    "start_time": "2024-04-02T19:19:11.335Z"
   },
   {
    "duration": 1342,
    "start_time": "2024-04-02T19:19:13.464Z"
   },
   {
    "duration": 2,
    "start_time": "2024-04-02T19:19:14.808Z"
   },
   {
    "duration": 46,
    "start_time": "2024-04-02T19:19:16.375Z"
   },
   {
    "duration": 15,
    "start_time": "2024-04-02T19:19:16.980Z"
   },
   {
    "duration": 5,
    "start_time": "2024-04-02T19:19:17.819Z"
   },
   {
    "duration": 12,
    "start_time": "2024-04-02T19:19:19.310Z"
   },
   {
    "duration": 715,
    "start_time": "2024-04-02T19:19:20.609Z"
   },
   {
    "duration": 186,
    "start_time": "2024-04-02T19:19:22.410Z"
   },
   {
    "duration": 4,
    "start_time": "2024-04-02T19:19:23.803Z"
   },
   {
    "duration": 22,
    "start_time": "2024-04-02T19:19:24.727Z"
   },
   {
    "duration": 4,
    "start_time": "2024-04-02T19:19:53.297Z"
   },
   {
    "duration": 3,
    "start_time": "2024-04-02T19:19:53.866Z"
   },
   {
    "duration": 3,
    "start_time": "2024-04-02T19:19:56.456Z"
   },
   {
    "duration": 4,
    "start_time": "2024-04-02T19:19:57.100Z"
   },
   {
    "duration": 3,
    "start_time": "2024-04-02T19:19:57.748Z"
   },
   {
    "duration": 2,
    "start_time": "2024-04-02T19:19:58.327Z"
   },
   {
    "duration": 4,
    "start_time": "2024-04-02T19:20:03.138Z"
   },
   {
    "duration": 3,
    "start_time": "2024-04-02T19:20:03.803Z"
   },
   {
    "duration": 2,
    "start_time": "2024-04-02T19:20:04.495Z"
   },
   {
    "duration": 3,
    "start_time": "2024-04-02T19:20:05.213Z"
   },
   {
    "duration": 110,
    "start_time": "2024-04-02T19:20:06.523Z"
   },
   {
    "duration": 5,
    "start_time": "2024-04-02T19:21:01.581Z"
   },
   {
    "duration": 1047,
    "start_time": "2024-04-02T19:21:09.204Z"
   },
   {
    "duration": 3,
    "start_time": "2024-04-02T19:21:49.262Z"
   },
   {
    "duration": 2177,
    "start_time": "2024-04-02T19:22:46.921Z"
   },
   {
    "duration": 1332,
    "start_time": "2024-04-02T19:22:49.100Z"
   },
   {
    "duration": 2,
    "start_time": "2024-04-02T19:22:50.433Z"
   },
   {
    "duration": 47,
    "start_time": "2024-04-02T19:22:52.065Z"
   },
   {
    "duration": 17,
    "start_time": "2024-04-02T19:22:52.545Z"
   },
   {
    "duration": 4,
    "start_time": "2024-04-02T19:22:53.159Z"
   },
   {
    "duration": 10,
    "start_time": "2024-04-02T19:22:53.965Z"
   },
   {
    "duration": 696,
    "start_time": "2024-04-02T19:22:56.405Z"
   },
   {
    "duration": 243,
    "start_time": "2024-04-02T19:22:58.019Z"
   },
   {
    "duration": 4,
    "start_time": "2024-04-02T19:22:59.747Z"
   },
   {
    "duration": 23,
    "start_time": "2024-04-02T19:23:02.553Z"
   },
   {
    "duration": 3,
    "start_time": "2024-04-02T19:23:08.705Z"
   },
   {
    "duration": 5,
    "start_time": "2024-04-02T19:23:10.491Z"
   },
   {
    "duration": 4,
    "start_time": "2024-04-02T19:23:13.578Z"
   },
   {
    "duration": 3,
    "start_time": "2024-04-02T19:23:15.675Z"
   },
   {
    "duration": 4,
    "start_time": "2024-04-02T19:23:16.664Z"
   },
   {
    "duration": 3,
    "start_time": "2024-04-02T19:23:17.414Z"
   },
   {
    "duration": 3,
    "start_time": "2024-04-02T19:23:18.485Z"
   },
   {
    "duration": 3,
    "start_time": "2024-04-02T19:24:11.223Z"
   },
   {
    "duration": 4,
    "start_time": "2024-04-02T19:24:12.303Z"
   },
   {
    "duration": 3,
    "start_time": "2024-04-02T19:24:12.776Z"
   },
   {
    "duration": 3,
    "start_time": "2024-04-02T19:24:13.553Z"
   },
   {
    "duration": 149,
    "start_time": "2024-04-02T19:24:14.153Z"
   },
   {
    "duration": 3,
    "start_time": "2024-04-02T19:27:46.936Z"
   },
   {
    "duration": 3,
    "start_time": "2024-04-02T19:27:47.148Z"
   },
   {
    "duration": 3,
    "start_time": "2024-04-02T19:27:47.474Z"
   },
   {
    "duration": 13,
    "start_time": "2024-04-02T19:27:48.376Z"
   },
   {
    "duration": 4,
    "start_time": "2024-04-02T19:28:18.146Z"
   },
   {
    "duration": 2,
    "start_time": "2024-04-02T19:28:18.693Z"
   },
   {
    "duration": 2,
    "start_time": "2024-04-02T19:28:19.238Z"
   },
   {
    "duration": 38,
    "start_time": "2024-04-02T19:28:19.704Z"
   },
   {
    "duration": 1416,
    "start_time": "2024-04-02T19:46:17.230Z"
   },
   {
    "duration": 2,
    "start_time": "2024-04-02T19:46:18.823Z"
   },
   {
    "duration": 48,
    "start_time": "2024-04-02T19:46:19.814Z"
   },
   {
    "duration": 18,
    "start_time": "2024-04-02T19:46:20.257Z"
   },
   {
    "duration": 6,
    "start_time": "2024-04-02T19:46:20.886Z"
   },
   {
    "duration": 10,
    "start_time": "2024-04-02T19:46:21.097Z"
   },
   {
    "duration": 762,
    "start_time": "2024-04-02T19:46:21.729Z"
   },
   {
    "duration": 216,
    "start_time": "2024-04-02T19:46:22.493Z"
   },
   {
    "duration": 5,
    "start_time": "2024-04-02T19:46:23.271Z"
   },
   {
    "duration": 23,
    "start_time": "2024-04-02T19:46:23.681Z"
   },
   {
    "duration": 3,
    "start_time": "2024-04-02T19:46:25.038Z"
   },
   {
    "duration": 4,
    "start_time": "2024-04-02T19:48:03.233Z"
   },
   {
    "duration": 3,
    "start_time": "2024-04-02T19:48:05.322Z"
   },
   {
    "duration": 4,
    "start_time": "2024-04-02T19:48:21.771Z"
   },
   {
    "duration": 3,
    "start_time": "2024-04-02T19:48:45.336Z"
   },
   {
    "duration": 3,
    "start_time": "2024-04-02T19:53:18.466Z"
   },
   {
    "duration": 61,
    "start_time": "2024-04-02T19:54:45.854Z"
   },
   {
    "duration": 4,
    "start_time": "2024-04-02T19:55:08.091Z"
   },
   {
    "duration": 5,
    "start_time": "2024-04-02T19:55:08.451Z"
   },
   {
    "duration": 2,
    "start_time": "2024-04-02T19:55:08.937Z"
   },
   {
    "duration": 3,
    "start_time": "2024-04-02T19:55:09.366Z"
   },
   {
    "duration": 4,
    "start_time": "2024-04-02T19:55:09.834Z"
   },
   {
    "duration": 3,
    "start_time": "2024-04-02T19:55:10.224Z"
   },
   {
    "duration": 2,
    "start_time": "2024-04-02T19:55:10.718Z"
   },
   {
    "duration": 110,
    "start_time": "2024-04-02T19:55:11.744Z"
   },
   {
    "duration": 2,
    "start_time": "2024-04-02T19:55:12.203Z"
   },
   {
    "duration": 4,
    "start_time": "2024-04-02T19:55:34.978Z"
   },
   {
    "duration": 4,
    "start_time": "2024-04-02T19:55:35.209Z"
   },
   {
    "duration": 2,
    "start_time": "2024-04-02T19:55:35.391Z"
   },
   {
    "duration": 3,
    "start_time": "2024-04-02T19:55:35.794Z"
   },
   {
    "duration": 4,
    "start_time": "2024-04-02T19:55:36.530Z"
   },
   {
    "duration": 3,
    "start_time": "2024-04-02T19:55:36.817Z"
   },
   {
    "duration": 3,
    "start_time": "2024-04-02T19:55:37.478Z"
   },
   {
    "duration": 2,
    "start_time": "2024-04-02T19:55:38.671Z"
   },
   {
    "duration": 3,
    "start_time": "2024-04-02T19:55:39.300Z"
   },
   {
    "duration": 4,
    "start_time": "2024-04-02T19:55:40.516Z"
   },
   {
    "duration": 2,
    "start_time": "2024-04-02T19:55:41.464Z"
   },
   {
    "duration": 3,
    "start_time": "2024-04-02T19:55:42.012Z"
   },
   {
    "duration": 8458,
    "start_time": "2024-04-02T19:55:42.568Z"
   },
   {
    "duration": 11,
    "start_time": "2024-04-02T19:56:20.332Z"
   },
   {
    "duration": 6,
    "start_time": "2024-04-02T19:56:24.541Z"
   },
   {
    "duration": 42,
    "start_time": "2024-04-02T19:56:37.206Z"
   },
   {
    "duration": 4,
    "start_time": "2024-04-02T19:56:56.012Z"
   },
   {
    "duration": 4,
    "start_time": "2024-04-02T19:57:01.402Z"
   },
   {
    "duration": 2227,
    "start_time": "2024-04-02T20:02:00.351Z"
   },
   {
    "duration": 1368,
    "start_time": "2024-04-02T20:02:02.580Z"
   },
   {
    "duration": 3,
    "start_time": "2024-04-02T20:02:03.949Z"
   },
   {
    "duration": 51,
    "start_time": "2024-04-02T20:02:05.114Z"
   },
   {
    "duration": 22,
    "start_time": "2024-04-02T20:02:05.447Z"
   },
   {
    "duration": 5,
    "start_time": "2024-04-02T20:02:05.770Z"
   },
   {
    "duration": 10,
    "start_time": "2024-04-02T20:02:06.271Z"
   },
   {
    "duration": 777,
    "start_time": "2024-04-02T20:02:09.285Z"
   },
   {
    "duration": 227,
    "start_time": "2024-04-02T20:02:10.583Z"
   },
   {
    "duration": 4,
    "start_time": "2024-04-02T20:03:12.569Z"
   },
   {
    "duration": 29,
    "start_time": "2024-04-02T20:03:13.455Z"
   },
   {
    "duration": 3,
    "start_time": "2024-04-02T20:03:37.775Z"
   },
   {
    "duration": 20,
    "start_time": "2024-04-02T20:03:38.278Z"
   },
   {
    "duration": 21,
    "start_time": "2024-04-02T20:03:49.405Z"
   },
   {
    "duration": 45,
    "start_time": "2024-04-02T20:03:56.851Z"
   },
   {
    "duration": 13,
    "start_time": "2024-04-02T20:03:57.261Z"
   },
   {
    "duration": 5,
    "start_time": "2024-04-02T20:03:57.627Z"
   },
   {
    "duration": 9,
    "start_time": "2024-04-02T20:03:58.004Z"
   },
   {
    "duration": 570,
    "start_time": "2024-04-02T20:03:58.878Z"
   },
   {
    "duration": 245,
    "start_time": "2024-04-02T20:03:59.556Z"
   },
   {
    "duration": 4,
    "start_time": "2024-04-02T20:04:01.023Z"
   },
   {
    "duration": 24,
    "start_time": "2024-04-02T20:04:01.632Z"
   },
   {
    "duration": 45,
    "start_time": "2024-04-02T20:04:19.667Z"
   },
   {
    "duration": 14,
    "start_time": "2024-04-02T20:04:19.967Z"
   },
   {
    "duration": 5,
    "start_time": "2024-04-02T20:04:21.060Z"
   },
   {
    "duration": 11,
    "start_time": "2024-04-02T20:04:21.451Z"
   },
   {
    "duration": 594,
    "start_time": "2024-04-02T20:04:22.293Z"
   },
   {
    "duration": 218,
    "start_time": "2024-04-02T20:04:22.889Z"
   },
   {
    "duration": 4,
    "start_time": "2024-04-02T20:04:23.923Z"
   },
   {
    "duration": 24,
    "start_time": "2024-04-02T20:04:24.553Z"
   },
   {
    "duration": 5,
    "start_time": "2024-04-02T20:04:26.055Z"
   },
   {
    "duration": 5,
    "start_time": "2024-04-02T20:04:26.781Z"
   },
   {
    "duration": 3,
    "start_time": "2024-04-02T20:04:27.656Z"
   },
   {
    "duration": 3,
    "start_time": "2024-04-02T20:04:45.118Z"
   },
   {
    "duration": 3,
    "start_time": "2024-04-02T20:04:50.941Z"
   },
   {
    "duration": 2,
    "start_time": "2024-04-02T20:04:53.082Z"
   },
   {
    "duration": 4,
    "start_time": "2024-04-02T20:05:11.287Z"
   },
   {
    "duration": 4,
    "start_time": "2024-04-02T20:05:25.058Z"
   },
   {
    "duration": 3,
    "start_time": "2024-04-02T20:05:27.235Z"
   },
   {
    "duration": 2,
    "start_time": "2024-04-02T20:05:28.122Z"
   },
   {
    "duration": 21005,
    "start_time": "2024-04-02T20:05:28.879Z"
   },
   {
    "duration": 6,
    "start_time": "2024-04-02T20:06:04.983Z"
   },
   {
    "duration": 26,
    "start_time": "2024-04-02T20:06:09.140Z"
   },
   {
    "duration": 4,
    "start_time": "2024-04-02T20:06:09.620Z"
   },
   {
    "duration": 4,
    "start_time": "2024-04-02T20:06:14.878Z"
   },
   {
    "duration": 42,
    "start_time": "2024-04-02T20:11:00.142Z"
   },
   {
    "duration": 2151,
    "start_time": "2024-04-02T20:16:52.317Z"
   },
   {
    "duration": 1415,
    "start_time": "2024-04-02T20:16:54.470Z"
   },
   {
    "duration": 3,
    "start_time": "2024-04-02T20:16:55.886Z"
   },
   {
    "duration": 50,
    "start_time": "2024-04-02T20:16:55.890Z"
   },
   {
    "duration": 15,
    "start_time": "2024-04-02T20:16:55.942Z"
   },
   {
    "duration": 5,
    "start_time": "2024-04-02T20:16:55.958Z"
   },
   {
    "duration": 12,
    "start_time": "2024-04-02T20:16:55.964Z"
   },
   {
    "duration": 726,
    "start_time": "2024-04-02T20:16:55.978Z"
   },
   {
    "duration": 210,
    "start_time": "2024-04-02T20:16:56.706Z"
   },
   {
    "duration": 4,
    "start_time": "2024-04-02T20:16:56.946Z"
   },
   {
    "duration": 33,
    "start_time": "2024-04-02T20:16:56.952Z"
   },
   {
    "duration": 4,
    "start_time": "2024-04-02T20:17:06.327Z"
   },
   {
    "duration": 5,
    "start_time": "2024-04-02T20:17:08.710Z"
   },
   {
    "duration": 3,
    "start_time": "2024-04-02T20:17:11.040Z"
   },
   {
    "duration": 3,
    "start_time": "2024-04-02T20:17:14.557Z"
   },
   {
    "duration": 4,
    "start_time": "2024-04-02T20:17:16.249Z"
   },
   {
    "duration": 3,
    "start_time": "2024-04-02T20:17:17.071Z"
   },
   {
    "duration": 3,
    "start_time": "2024-04-02T20:17:20.799Z"
   },
   {
    "duration": 2,
    "start_time": "2024-04-02T20:17:27.768Z"
   },
   {
    "duration": 4,
    "start_time": "2024-04-02T20:17:31.752Z"
   },
   {
    "duration": 2,
    "start_time": "2024-04-02T20:17:33.079Z"
   },
   {
    "duration": 3,
    "start_time": "2024-04-02T20:17:41.809Z"
   },
   {
    "duration": 20487,
    "start_time": "2024-04-02T20:17:42.989Z"
   },
   {
    "duration": 6,
    "start_time": "2024-04-02T20:18:10.182Z"
   },
   {
    "duration": 25,
    "start_time": "2024-04-02T20:18:10.190Z"
   },
   {
    "duration": 25,
    "start_time": "2024-04-02T20:18:28.968Z"
   },
   {
    "duration": 3,
    "start_time": "2024-04-02T20:18:29.502Z"
   },
   {
    "duration": 3,
    "start_time": "2024-04-02T20:19:52.987Z"
   },
   {
    "duration": 13,
    "start_time": "2024-04-02T20:22:31.250Z"
   },
   {
    "duration": 11,
    "start_time": "2024-04-02T20:22:37.456Z"
   },
   {
    "duration": 11,
    "start_time": "2024-04-02T20:23:21.139Z"
   },
   {
    "duration": 103,
    "start_time": "2024-04-02T20:23:56.728Z"
   },
   {
    "duration": 5,
    "start_time": "2024-04-02T20:24:03.138Z"
   },
   {
    "duration": 6,
    "start_time": "2024-04-02T20:31:57.380Z"
   },
   {
    "duration": 2135,
    "start_time": "2024-04-02T20:35:48.331Z"
   },
   {
    "duration": 1364,
    "start_time": "2024-04-02T20:35:50.468Z"
   },
   {
    "duration": 2,
    "start_time": "2024-04-02T20:35:51.833Z"
   },
   {
    "duration": 48,
    "start_time": "2024-04-02T20:35:51.837Z"
   },
   {
    "duration": 14,
    "start_time": "2024-04-02T20:35:51.887Z"
   },
   {
    "duration": 4,
    "start_time": "2024-04-02T20:35:51.902Z"
   },
   {
    "duration": 8,
    "start_time": "2024-04-02T20:35:51.907Z"
   },
   {
    "duration": 633,
    "start_time": "2024-04-02T20:35:51.916Z"
   },
   {
    "duration": 299,
    "start_time": "2024-04-02T20:35:52.551Z"
   },
   {
    "duration": 15,
    "start_time": "2024-04-02T20:35:52.851Z"
   },
   {
    "duration": 23,
    "start_time": "2024-04-02T20:35:52.867Z"
   },
   {
    "duration": 3,
    "start_time": "2024-04-02T20:35:52.891Z"
   },
   {
    "duration": 15,
    "start_time": "2024-04-02T20:35:52.895Z"
   },
   {
    "duration": 10,
    "start_time": "2024-04-02T20:35:52.912Z"
   },
   {
    "duration": 8,
    "start_time": "2024-04-02T20:35:52.923Z"
   },
   {
    "duration": 7,
    "start_time": "2024-04-02T20:35:52.932Z"
   },
   {
    "duration": 5,
    "start_time": "2024-04-02T20:35:52.940Z"
   },
   {
    "duration": 6,
    "start_time": "2024-04-02T20:35:52.946Z"
   },
   {
    "duration": 4,
    "start_time": "2024-04-02T20:35:52.953Z"
   },
   {
    "duration": 4,
    "start_time": "2024-04-02T20:35:52.958Z"
   },
   {
    "duration": 20355,
    "start_time": "2024-04-02T20:35:52.963Z"
   },
   {
    "duration": 28,
    "start_time": "2024-04-02T20:36:13.319Z"
   },
   {
    "duration": 3,
    "start_time": "2024-04-02T20:36:13.348Z"
   },
   {
    "duration": 8,
    "start_time": "2024-04-02T20:36:13.353Z"
   },
   {
    "duration": 10,
    "start_time": "2024-04-02T20:36:13.362Z"
   },
   {
    "duration": 10,
    "start_time": "2024-04-02T20:36:13.373Z"
   },
   {
    "duration": 3,
    "start_time": "2024-04-02T20:36:13.385Z"
   },
   {
    "duration": 28,
    "start_time": "2024-04-02T20:37:47.238Z"
   },
   {
    "duration": 4,
    "start_time": "2024-04-02T20:39:12.648Z"
   },
   {
    "duration": 3,
    "start_time": "2024-04-02T20:39:13.055Z"
   },
   {
    "duration": 3,
    "start_time": "2024-04-02T20:39:13.695Z"
   },
   {
    "duration": 17598,
    "start_time": "2024-04-02T20:39:14.361Z"
   },
   {
    "duration": 22,
    "start_time": "2024-04-02T20:39:34.057Z"
   },
   {
    "duration": 4,
    "start_time": "2024-04-02T20:39:37.910Z"
   },
   {
    "duration": 6,
    "start_time": "2024-04-02T20:39:41.360Z"
   },
   {
    "duration": 10,
    "start_time": "2024-04-02T20:39:42.255Z"
   },
   {
    "duration": 22,
    "start_time": "2024-04-02T20:39:42.947Z"
   },
   {
    "duration": 4,
    "start_time": "2024-04-02T20:40:01.322Z"
   },
   {
    "duration": 3,
    "start_time": "2024-04-02T20:40:02.108Z"
   },
   {
    "duration": 3,
    "start_time": "2024-04-02T20:40:02.470Z"
   },
   {
    "duration": 20284,
    "start_time": "2024-04-02T20:40:02.950Z"
   },
   {
    "duration": 22,
    "start_time": "2024-04-02T20:40:25.524Z"
   },
   {
    "duration": 4,
    "start_time": "2024-04-02T20:40:26.236Z"
   },
   {
    "duration": 6,
    "start_time": "2024-04-02T20:40:28.011Z"
   },
   {
    "duration": 9,
    "start_time": "2024-04-02T20:40:28.537Z"
   },
   {
    "duration": 25,
    "start_time": "2024-04-02T20:40:29.152Z"
   },
   {
    "duration": 2859,
    "start_time": "2024-04-03T05:52:38.845Z"
   },
   {
    "duration": 1696,
    "start_time": "2024-04-03T05:52:44.567Z"
   },
   {
    "duration": 3,
    "start_time": "2024-04-03T05:52:47.958Z"
   },
   {
    "duration": 97,
    "start_time": "2024-04-03T05:52:49.730Z"
   },
   {
    "duration": 19,
    "start_time": "2024-04-03T05:52:50.935Z"
   },
   {
    "duration": 10,
    "start_time": "2024-04-03T05:53:00.029Z"
   },
   {
    "duration": 6,
    "start_time": "2024-04-03T05:53:28.257Z"
   },
   {
    "duration": 10,
    "start_time": "2024-04-03T05:53:39.670Z"
   },
   {
    "duration": 6,
    "start_time": "2024-04-03T05:53:45.503Z"
   },
   {
    "duration": 13,
    "start_time": "2024-04-03T05:53:46.708Z"
   },
   {
    "duration": 5,
    "start_time": "2024-04-03T06:00:46.044Z"
   },
   {
    "duration": 1784,
    "start_time": "2024-04-03T06:00:46.524Z"
   },
   {
    "duration": 5,
    "start_time": "2024-04-03T06:01:23.963Z"
   },
   {
    "duration": 2,
    "start_time": "2024-04-03T06:01:24.291Z"
   },
   {
    "duration": 49,
    "start_time": "2024-04-03T06:01:26.311Z"
   },
   {
    "duration": 6,
    "start_time": "2024-04-03T06:01:27.220Z"
   },
   {
    "duration": 11,
    "start_time": "2024-04-03T06:01:28.851Z"
   },
   {
    "duration": 6,
    "start_time": "2024-04-03T06:01:29.921Z"
   },
   {
    "duration": 9,
    "start_time": "2024-04-03T06:01:30.549Z"
   },
   {
    "duration": 4,
    "start_time": "2024-04-03T06:01:32.708Z"
   },
   {
    "duration": 787,
    "start_time": "2024-04-03T06:03:03.045Z"
   },
   {
    "duration": 507,
    "start_time": "2024-04-03T06:03:42.739Z"
   },
   {
    "duration": 708,
    "start_time": "2024-04-03T06:04:08.722Z"
   },
   {
    "duration": 689,
    "start_time": "2024-04-03T06:08:26.932Z"
   },
   {
    "duration": 701,
    "start_time": "2024-04-03T06:08:58.572Z"
   },
   {
    "duration": 9,
    "start_time": "2024-04-03T06:12:50.564Z"
   },
   {
    "duration": 155,
    "start_time": "2024-04-03T06:14:59.129Z"
   },
   {
    "duration": 151,
    "start_time": "2024-04-03T06:15:56.393Z"
   },
   {
    "duration": 172,
    "start_time": "2024-04-03T06:16:29.416Z"
   },
   {
    "duration": 156,
    "start_time": "2024-04-03T06:16:43.019Z"
   },
   {
    "duration": 159,
    "start_time": "2024-04-03T06:17:11.807Z"
   },
   {
    "duration": 8,
    "start_time": "2024-04-03T06:18:30.377Z"
   },
   {
    "duration": 1544,
    "start_time": "2024-04-03T06:19:35.347Z"
   },
   {
    "duration": 4,
    "start_time": "2024-04-03T06:25:01.904Z"
   },
   {
    "duration": 16,
    "start_time": "2024-04-03T06:25:05.929Z"
   },
   {
    "duration": 24,
    "start_time": "2024-04-03T06:25:18.974Z"
   },
   {
    "duration": 58,
    "start_time": "2024-04-03T06:53:32.045Z"
   },
   {
    "duration": 2502,
    "start_time": "2024-04-03T06:53:39.189Z"
   },
   {
    "duration": 1502,
    "start_time": "2024-04-03T06:53:41.693Z"
   },
   {
    "duration": 3,
    "start_time": "2024-04-03T06:53:43.196Z"
   },
   {
    "duration": 49,
    "start_time": "2024-04-03T06:53:50.221Z"
   },
   {
    "duration": 9,
    "start_time": "2024-04-03T06:53:50.949Z"
   },
   {
    "duration": 14,
    "start_time": "2024-04-03T06:53:51.955Z"
   },
   {
    "duration": 5,
    "start_time": "2024-04-03T06:53:52.593Z"
   },
   {
    "duration": 13,
    "start_time": "2024-04-03T06:53:53.185Z"
   },
   {
    "duration": 4,
    "start_time": "2024-04-03T06:53:54.291Z"
   },
   {
    "duration": 805,
    "start_time": "2024-04-03T06:53:54.539Z"
   },
   {
    "duration": 304,
    "start_time": "2024-04-03T06:53:55.346Z"
   },
   {
    "duration": 1847,
    "start_time": "2024-04-03T06:53:58.247Z"
   },
   {
    "duration": 351,
    "start_time": "2024-04-03T06:54:00.097Z"
   },
   {
    "duration": 235,
    "start_time": "2024-04-03T06:54:00.449Z"
   },
   {
    "duration": 145,
    "start_time": "2024-04-03T06:54:01.571Z"
   },
   {
    "duration": 4,
    "start_time": "2024-04-03T06:54:02.431Z"
   },
   {
    "duration": 25,
    "start_time": "2024-04-03T06:54:13.516Z"
   },
   {
    "duration": 20,
    "start_time": "2024-04-03T06:54:31.098Z"
   },
   {
    "duration": 3,
    "start_time": "2024-04-03T06:54:34.247Z"
   },
   {
    "duration": 4,
    "start_time": "2024-04-03T06:54:35.357Z"
   },
   {
    "duration": 3,
    "start_time": "2024-04-03T06:54:48.916Z"
   },
   {
    "duration": 2,
    "start_time": "2024-04-03T06:54:51.504Z"
   },
   {
    "duration": 3,
    "start_time": "2024-04-03T06:54:51.939Z"
   },
   {
    "duration": 4,
    "start_time": "2024-04-03T06:54:52.549Z"
   },
   {
    "duration": 3,
    "start_time": "2024-04-03T06:54:53.001Z"
   },
   {
    "duration": 3,
    "start_time": "2024-04-03T06:54:53.598Z"
   },
   {
    "duration": 3,
    "start_time": "2024-04-03T06:54:55.513Z"
   },
   {
    "duration": 1140,
    "start_time": "2024-04-03T06:54:56.055Z"
   },
   {
    "duration": 2,
    "start_time": "2024-04-03T06:55:38.537Z"
   },
   {
    "duration": 3,
    "start_time": "2024-04-03T06:55:38.830Z"
   },
   {
    "duration": 3,
    "start_time": "2024-04-03T06:55:39.155Z"
   },
   {
    "duration": 3,
    "start_time": "2024-04-03T06:55:39.596Z"
   },
   {
    "duration": 2,
    "start_time": "2024-04-03T06:55:40.831Z"
   },
   {
    "duration": 3,
    "start_time": "2024-04-03T06:55:42.667Z"
   },
   {
    "duration": 1115,
    "start_time": "2024-04-03T06:55:43.263Z"
   },
   {
    "duration": 2,
    "start_time": "2024-04-03T06:56:01.360Z"
   },
   {
    "duration": 2,
    "start_time": "2024-04-03T06:56:13.961Z"
   },
   {
    "duration": 3,
    "start_time": "2024-04-03T06:56:14.857Z"
   },
   {
    "duration": 4,
    "start_time": "2024-04-03T06:56:15.460Z"
   },
   {
    "duration": 2,
    "start_time": "2024-04-03T06:56:16.093Z"
   },
   {
    "duration": 2,
    "start_time": "2024-04-03T06:56:17.115Z"
   },
   {
    "duration": 1019,
    "start_time": "2024-04-03T06:56:17.388Z"
   },
   {
    "duration": 10,
    "start_time": "2024-04-03T06:56:53.052Z"
   },
   {
    "duration": 5,
    "start_time": "2024-04-03T06:57:12.276Z"
   },
   {
    "duration": 5,
    "start_time": "2024-04-03T06:57:12.628Z"
   },
   {
    "duration": 3,
    "start_time": "2024-04-03T06:57:13.451Z"
   },
   {
    "duration": 3,
    "start_time": "2024-04-03T06:57:14.770Z"
   },
   {
    "duration": 3,
    "start_time": "2024-04-03T06:57:15.194Z"
   },
   {
    "duration": 3,
    "start_time": "2024-04-03T06:57:16.037Z"
   },
   {
    "duration": 3,
    "start_time": "2024-04-03T06:57:16.548Z"
   },
   {
    "duration": 2,
    "start_time": "2024-04-03T06:57:17.133Z"
   },
   {
    "duration": 2,
    "start_time": "2024-04-03T06:57:18.119Z"
   },
   {
    "duration": 22950,
    "start_time": "2024-04-03T06:57:19.040Z"
   },
   {
    "duration": 24,
    "start_time": "2024-04-03T06:57:55.051Z"
   },
   {
    "duration": 3,
    "start_time": "2024-04-03T06:57:56.738Z"
   },
   {
    "duration": 1680,
    "start_time": "2024-04-03T07:17:43.313Z"
   },
   {
    "duration": 1616,
    "start_time": "2024-04-03T07:17:53.571Z"
   },
   {
    "duration": 11,
    "start_time": "2024-04-03T07:35:34.357Z"
   },
   {
    "duration": 1879,
    "start_time": "2024-04-03T07:35:37.604Z"
   },
   {
    "duration": 9,
    "start_time": "2024-04-03T07:35:40.425Z"
   },
   {
    "duration": 3,
    "start_time": "2024-04-03T07:36:00.302Z"
   },
   {
    "duration": 207,
    "start_time": "2024-04-03T07:42:57.364Z"
   },
   {
    "duration": 2,
    "start_time": "2024-04-03T07:50:20.682Z"
   },
   {
    "duration": 14,
    "start_time": "2024-04-03T07:50:20.688Z"
   },
   {
    "duration": 10,
    "start_time": "2024-04-03T07:50:20.704Z"
   },
   {
    "duration": 56,
    "start_time": "2024-04-03T07:50:20.715Z"
   },
   {
    "duration": 7,
    "start_time": "2024-04-03T07:50:20.773Z"
   },
   {
    "duration": 21,
    "start_time": "2024-04-03T07:50:20.781Z"
   },
   {
    "duration": 11,
    "start_time": "2024-04-03T07:50:20.803Z"
   },
   {
    "duration": 12,
    "start_time": "2024-04-03T07:50:20.815Z"
   },
   {
    "duration": 8,
    "start_time": "2024-04-03T07:50:20.828Z"
   },
   {
    "duration": 700,
    "start_time": "2024-04-03T07:50:20.837Z"
   },
   {
    "duration": 255,
    "start_time": "2024-04-03T07:50:21.540Z"
   },
   {
    "duration": 2085,
    "start_time": "2024-04-03T07:50:21.797Z"
   },
   {
    "duration": 5,
    "start_time": "2024-04-03T07:50:23.884Z"
   },
   {
    "duration": 241,
    "start_time": "2024-04-03T07:50:23.891Z"
   },
   {
    "duration": 330,
    "start_time": "2024-04-03T07:50:24.134Z"
   },
   {
    "duration": 4,
    "start_time": "2024-04-03T07:50:24.466Z"
   },
   {
    "duration": 25,
    "start_time": "2024-04-03T07:50:24.471Z"
   },
   {
    "duration": 4,
    "start_time": "2024-04-03T07:50:24.498Z"
   },
   {
    "duration": 12,
    "start_time": "2024-04-03T07:50:24.505Z"
   },
   {
    "duration": 3,
    "start_time": "2024-04-03T07:50:24.519Z"
   },
   {
    "duration": 7,
    "start_time": "2024-04-03T07:50:24.524Z"
   },
   {
    "duration": 4,
    "start_time": "2024-04-03T07:50:24.533Z"
   },
   {
    "duration": 7,
    "start_time": "2024-04-03T07:50:24.538Z"
   },
   {
    "duration": 4,
    "start_time": "2024-04-03T07:50:24.547Z"
   },
   {
    "duration": 30,
    "start_time": "2024-04-03T07:50:24.553Z"
   },
   {
    "duration": 11,
    "start_time": "2024-04-03T07:50:24.585Z"
   },
   {
    "duration": 23708,
    "start_time": "2024-04-03T07:50:24.598Z"
   },
   {
    "duration": 26,
    "start_time": "2024-04-03T07:50:48.307Z"
   },
   {
    "duration": 18,
    "start_time": "2024-04-03T07:50:48.336Z"
   },
   {
    "duration": 21,
    "start_time": "2024-04-03T07:50:48.356Z"
   },
   {
    "duration": 28,
    "start_time": "2024-04-03T07:50:48.378Z"
   },
   {
    "duration": 69,
    "start_time": "2024-04-03T07:50:48.408Z"
   },
   {
    "duration": 7,
    "start_time": "2024-04-03T07:50:48.479Z"
   },
   {
    "duration": 563,
    "start_time": "2024-04-03T07:56:11.505Z"
   },
   {
    "duration": 324,
    "start_time": "2024-04-03T07:59:46.562Z"
   },
   {
    "duration": 4,
    "start_time": "2024-04-03T08:01:37.178Z"
   },
   {
    "duration": 1500,
    "start_time": "2024-04-03T08:01:37.183Z"
   },
   {
    "duration": 3,
    "start_time": "2024-04-03T08:01:38.684Z"
   },
   {
    "duration": 51,
    "start_time": "2024-04-03T08:01:38.689Z"
   },
   {
    "duration": 9,
    "start_time": "2024-04-03T08:01:38.741Z"
   },
   {
    "duration": 13,
    "start_time": "2024-04-03T08:01:38.752Z"
   },
   {
    "duration": 5,
    "start_time": "2024-04-03T08:01:38.767Z"
   },
   {
    "duration": 11,
    "start_time": "2024-04-03T08:01:38.774Z"
   },
   {
    "duration": 3,
    "start_time": "2024-04-03T08:01:38.786Z"
   },
   {
    "duration": 847,
    "start_time": "2024-04-03T08:01:38.792Z"
   },
   {
    "duration": 310,
    "start_time": "2024-04-03T08:01:39.641Z"
   },
   {
    "duration": 1838,
    "start_time": "2024-04-03T08:01:39.952Z"
   },
   {
    "duration": 94,
    "start_time": "2024-04-03T08:01:41.792Z"
   },
   {
    "duration": 236,
    "start_time": "2024-04-03T08:01:41.891Z"
   },
   {
    "duration": 225,
    "start_time": "2024-04-03T08:01:42.129Z"
   },
   {
    "duration": 4,
    "start_time": "2024-04-03T08:01:42.355Z"
   },
   {
    "duration": 32,
    "start_time": "2024-04-03T08:01:42.361Z"
   },
   {
    "duration": 4,
    "start_time": "2024-04-03T08:01:42.395Z"
   },
   {
    "duration": 5,
    "start_time": "2024-04-03T08:01:42.400Z"
   },
   {
    "duration": 8,
    "start_time": "2024-04-03T08:01:42.407Z"
   },
   {
    "duration": 5,
    "start_time": "2024-04-03T08:01:42.416Z"
   },
   {
    "duration": 10,
    "start_time": "2024-04-03T08:01:42.422Z"
   },
   {
    "duration": 19,
    "start_time": "2024-04-03T08:01:42.433Z"
   },
   {
    "duration": 9,
    "start_time": "2024-04-03T08:01:42.454Z"
   },
   {
    "duration": 3,
    "start_time": "2024-04-03T08:01:42.465Z"
   },
   {
    "duration": 3,
    "start_time": "2024-04-03T08:01:42.482Z"
   },
   {
    "duration": 23683,
    "start_time": "2024-04-03T08:01:42.487Z"
   },
   {
    "duration": 35,
    "start_time": "2024-04-03T08:02:06.174Z"
   },
   {
    "duration": 10,
    "start_time": "2024-04-03T08:02:06.210Z"
   },
   {
    "duration": 13,
    "start_time": "2024-04-03T08:02:06.222Z"
   },
   {
    "duration": 16,
    "start_time": "2024-04-03T08:02:06.237Z"
   },
   {
    "duration": 75,
    "start_time": "2024-04-03T08:02:06.254Z"
   },
   {
    "duration": 360,
    "start_time": "2024-04-03T08:02:06.330Z"
   },
   {
    "duration": 5,
    "start_time": "2024-04-03T08:02:06.691Z"
   },
   {
    "duration": 2595,
    "start_time": "2024-04-04T07:56:26.959Z"
   },
   {
    "duration": 1530,
    "start_time": "2024-04-04T07:56:29.557Z"
   },
   {
    "duration": 2,
    "start_time": "2024-04-04T07:56:31.089Z"
   },
   {
    "duration": 147,
    "start_time": "2024-04-04T07:56:31.093Z"
   },
   {
    "duration": 9,
    "start_time": "2024-04-04T07:56:31.242Z"
   },
   {
    "duration": 119,
    "start_time": "2024-04-04T07:56:31.252Z"
   },
   {
    "duration": 32,
    "start_time": "2024-04-04T07:56:31.373Z"
   },
   {
    "duration": 36,
    "start_time": "2024-04-04T07:56:31.406Z"
   },
   {
    "duration": 33,
    "start_time": "2024-04-04T07:56:31.444Z"
   },
   {
    "duration": 732,
    "start_time": "2024-04-04T07:56:31.480Z"
   },
   {
    "duration": 280,
    "start_time": "2024-04-04T07:56:32.214Z"
   },
   {
    "duration": 2178,
    "start_time": "2024-04-04T07:56:32.496Z"
   },
   {
    "duration": 84,
    "start_time": "2024-04-04T07:56:34.685Z"
   },
   {
    "duration": 4,
    "start_time": "2024-04-04T07:56:48.963Z"
   },
   {
    "duration": 333,
    "start_time": "2024-04-04T07:57:05.496Z"
   },
   {
    "duration": 386,
    "start_time": "2024-04-04T07:57:05.832Z"
   }
  ],
  "kernelspec": {
   "display_name": "Python 3 (ipykernel)",
   "language": "python",
   "name": "python3"
  },
  "language_info": {
   "codemirror_mode": {
    "name": "ipython",
    "version": 3
   },
   "file_extension": ".py",
   "mimetype": "text/x-python",
   "name": "python",
   "nbconvert_exporter": "python",
   "pygments_lexer": "ipython3",
   "version": "3.9.5"
  },
  "toc": {
   "base_numbering": 1,
   "nav_menu": {},
   "number_sections": true,
   "sideBar": true,
   "skip_h1_title": true,
   "title_cell": "Содержание",
   "title_sidebar": "Contents",
   "toc_cell": true,
   "toc_position": {
    "height": "calc(100% - 180px)",
    "left": "10px",
    "top": "150px",
    "width": "165px"
   },
   "toc_section_display": true,
   "toc_window_display": true
  }
 },
 "nbformat": 4,
 "nbformat_minor": 2
}
